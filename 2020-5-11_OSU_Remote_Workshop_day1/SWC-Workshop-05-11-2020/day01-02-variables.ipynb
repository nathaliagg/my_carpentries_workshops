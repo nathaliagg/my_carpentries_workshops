{
 "cells": [
  {
   "cell_type": "markdown",
   "metadata": {},
   "source": [
    "# Variables and Assignment\n",
    "**Teaching:** 10 minutes  \n",
    "**Exercises:** 10 minutes  \n",
    "**Questions:**  \n",
    "- How can I store data in programs?\n",
    "\n",
    "## Objectives:\n",
    "- Write programs that assign scalar values to variables and perform calculations with those values.\n",
    "- Correctly trace value changes in programs that use scalar assignment.\n",
    "\n",
    "## Key Points:\n",
    "- Use variables to store values.\n",
    "- Use `print` to display values.\n",
    "- Variables persist between cells.\n",
    "- Variables must be created before they are used.\n",
    "- Variables can be used in calculations.\n",
    "- Use an index to get a single character from a string.\n",
    "- Use a slice to get a substring.\n",
    "- Use the built-in function `len` to find the length of a string.\n",
    "- Python is case-sensitive.\n",
    "- Use meaningful variable names.  \n",
    "\n",
    "## Use variables to store values.\n",
    "*   **Variables** are names for values.\n",
    "*   In Python the `=` symbol assigns the value on the right to the name on the left.\n",
    "*   The variable is created when a value is assigned to it.\n",
    "*   Here, Python assigns an age to a variable `age`\n",
    "    and a name in quotes to a variable `first_name`."
   ]
  },
  {
   "cell_type": "code",
   "execution_count": 2,
   "metadata": {},
   "outputs": [],
   "source": [
    "age = 30\n",
    "first_name = 'Steve'"
   ]
  },
  {
   "cell_type": "markdown",
   "metadata": {},
   "source": [
    "*   Variable names\n",
    "    * can **only** contain letters, digits, and underscore `_` (typically used to separate words in long variable names)\n",
    "    * cannot start with a digit\n",
    "    * are **case sensitive** (age, Age and AGE are three different variables)\n",
    "\n",
    "## Use `print` to display values.\n",
    "\n",
    "*   Python has a built-in function called `print` that prints things as text.\n",
    "*   Call the function (i.e., tell Python to run it) by using its name.\n",
    "*   Provide values to the function (i.e., the things to print) in parentheses.\n",
    "*   To add a string to the printout, wrap the string in single or double quotes.\n",
    "*   The values passed to the function are called **arguments**."
   ]
  },
  {
   "cell_type": "code",
   "execution_count": 1,
   "metadata": {},
   "outputs": [],
   "source": [
    "print(first_name, 'is', age, 'years old')"
   ]
  },
  {
   "cell_type": "markdown",
   "metadata": {},
   "source": [
    "*   `print` automatically puts a single space between items to separate them.\n",
    "*   And wraps around to a new line at the end.\n",
    "\n",
    "## Variables must be created before they are used.\n",
    "\n",
    "*   If a variable doesn't exist yet, or if the name has been misspelled,\n",
    "    Python reports an error. (Unlike some languages, which \"guess\" a default value.)"
   ]
  },
  {
   "cell_type": "code",
   "execution_count": 5,
   "metadata": {
    "scrolled": true
   },
   "outputs": [],
   "source": [
    "print(last_name)"
   ]
  },
  {
   "cell_type": "markdown",
   "metadata": {},
   "source": [
    "*   The last line of an error message is usually the most informative.\n",
    "*   We will look at error messages in detail later.\n",
    "\n",
    "## Variables Persist Between Cells.\n",
    "\n",
    "Be aware that it is the *order* of execution of cells that is important in a Jupyter notebook, not the order in which they appear. Python will remember *all* the code that was run previously, including any variables you have defined, irrespective of the order in the notebook. Therefore if you define variables lower down the notebook and then (re)run cells further up, those defined further down will still be present. \n",
    "\n",
    "As an example, create two cells with the following content, in this order:\n",
    "\n",
    "> print(myval)  \n",
    "> myval = 1"
   ]
  },
  {
   "cell_type": "code",
   "execution_count": 7,
   "metadata": {},
   "outputs": [],
   "source": []
  },
  {
   "cell_type": "markdown",
   "metadata": {},
   "source": [
    "If you execute this in order, the first cell will give an error. However, if you run the first cell *after* the second cell it will print out `1`. To prevent confusion, it can be helpful to use the `Kernel` -> `Restart & Run All` option which clears the interpreter and runs everything from a clean slate going top to bottom.\n",
    "\n",
    "## Variables can be used in calculations.\n",
    "\n",
    "*   We can use variables in calculations just as if they were values.\n",
    "    *   Remember, we assigned the value `30` to `age` a few lines ago."
   ]
  },
  {
   "cell_type": "code",
   "execution_count": null,
   "metadata": {},
   "outputs": [],
   "source": [
    "age = age + 3\n",
    "print('Age in three years:', age)"
   ]
  },
  {
   "cell_type": "markdown",
   "metadata": {},
   "source": [
    "## Use indexing to grab part of a collection.\n",
    "\n",
    "*   The characters (individual letters, numbers, and so on) in a string are\n",
    "    ordered. \n",
    "*   For example, the string `'AB'` is not the same as `'BA'`. \n",
    "*   Because of this ordering, we can treat the string as a list of characters.\n",
    "*   Each position in the string (first, second, etc.) is given a number. \n",
    "*   The number is called an *index* of the string, which is a kind of *collection*.\n",
    "*   Indices are numbered from 0.\n",
    "*   Use the position's index in square brackets to get the character at that\n",
    "    position.\n",
    "    \n",
    "![an illustration of indexing](https://swcarpentry.github.io/python-novice-gapminder/fig/2_indexing.svg)"
   ]
  },
  {
   "cell_type": "code",
   "execution_count": null,
   "metadata": {},
   "outputs": [],
   "source": [
    "atom_name = 'helium'\n",
    "print(atom_name[0])"
   ]
  },
  {
   "cell_type": "markdown",
   "metadata": {},
   "source": [
    "## Use a slice to get a substring.\n",
    "\n",
    "*   A part of a string is called a *substring*.\n",
    "*   A *slice* is a part of a string (or, more generally, any list-like thing).\n",
    "*   We take a slice by using `[start:stop]`, where `start` is replaced with the\n",
    "    index of the first element we want and `stop` is replaced with the index of\n",
    "    the element just after the last element we want.\n",
    "*   Mathematically, you might say that a slice selects `[start:stop]`.\n",
    "*   The difference between `stop` and `start` is the slice's length.\n",
    "*   Taking a slice does not change the contents of the original string. Instead,\n",
    "    the slice is a copy of part of the original string.  \n",
    "\n",
    ">  atom_name = 'sodium'  \n",
    ">  print(atom_name[0:3])"
   ]
  },
  {
   "cell_type": "code",
   "execution_count": null,
   "metadata": {},
   "outputs": [],
   "source": []
  },
  {
   "cell_type": "markdown",
   "metadata": {},
   "source": [
    "## Use the built-in function `len` to find the length of a string.\n",
    "\n",
    "Define a variable \"atom_name\" as \"helium,\" then print its length."
   ]
  },
  {
   "cell_type": "code",
   "execution_count": null,
   "metadata": {},
   "outputs": [],
   "source": []
  },
  {
   "cell_type": "markdown",
   "metadata": {},
   "source": [
    "*   Nested functions are evaluated from the inside out,\n",
    "     like in mathematics.\n",
    "\n",
    "## Python is case-sensitive.\n",
    "\n",
    "*   Python thinks that upper- and lower-case letters are different,\n",
    "    so `Name` and `name` are different variables.\n",
    "*   There are conventions for using upper-case letters at the start of variable names so we will use lower-case letters for now.\n",
    "\n",
    "## Use meaningful variable names.\n",
    "\n",
    "*   Python doesn't care what you call variables as long as they obey the rules\n",
    "    (alphanumeric characters and the underscore).\n",
    "\n",
    ">  flabadab = 30   \n",
    ">  ewr_422_yY = 'Steve'   \n",
    ">  print(ewr_422_yY, 'is', flabadab, 'years old')  "
   ]
  },
  {
   "cell_type": "code",
   "execution_count": null,
   "metadata": {},
   "outputs": [],
   "source": []
  },
  {
   "cell_type": "markdown",
   "metadata": {},
   "source": [
    "*   Use meaningful variable names to help other people understand what the program does.\n",
    "*   The most important \"other person\" is your future self.\n",
    "\n",
    "## Swapping Values Challenge\n",
    "\n",
    "Type the following code, then figue out the values of the variables in this program\n",
    "after each statement is executed.\n",
    "\n",
    ">  x = 1.0     \n",
    ">  y = 3.0     \n",
    ">  swap = x    \n",
    ">  x = y       \n",
    ">  y = swap   \n",
    ">  print(x,y,swap)"
   ]
  },
  {
   "cell_type": "code",
   "execution_count": null,
   "metadata": {},
   "outputs": [],
   "source": []
  },
  {
   "cell_type": "markdown",
   "metadata": {},
   "source": [
    "## Index\n",
    "\n",
    "If you assign `a = 123`,\n",
    "What happens if you try to get the second digit of `a` via `a[1]`?"
   ]
  },
  {
   "cell_type": "code",
   "execution_count": null,
   "metadata": {},
   "outputs": [],
   "source": []
  },
  {
   "cell_type": "markdown",
   "metadata": {},
   "source": [
    "## Choosing Variable Names\n",
    "\n",
    "Which is a better variable name, `m`, `min`, or `minutes`?\n",
    "Why?"
   ]
  },
  {
   "cell_type": "markdown",
   "metadata": {},
   "source": [
    "## Slicing practice\n",
    "\n",
    "What does the following program print?  \n",
    "\n",
    ">  atom_name = 'carbon'  \n",
    ">  print('atom_name[1:3] is:', atom_name[1:3])  "
   ]
  },
  {
   "cell_type": "code",
   "execution_count": null,
   "metadata": {},
   "outputs": [],
   "source": []
  },
  {
   "cell_type": "markdown",
   "metadata": {},
   "source": [
    "## Getting the last character in a string\n",
    "\n",
    "How do you get the last character in the string below?  \n",
    "name = 'Dave'"
   ]
  },
  {
   "cell_type": "code",
   "execution_count": null,
   "metadata": {},
   "outputs": [],
   "source": []
  }
 ],
 "metadata": {
  "kernelspec": {
   "display_name": "Python 3",
   "language": "python",
   "name": "python3"
  },
  "language_info": {
   "codemirror_mode": {
    "name": "ipython",
    "version": 3
   },
   "file_extension": ".py",
   "mimetype": "text/x-python",
   "name": "python",
   "nbconvert_exporter": "python",
   "pygments_lexer": "ipython3",
   "version": "3.7.3"
  }
 },
 "nbformat": 4,
 "nbformat_minor": 4
}
