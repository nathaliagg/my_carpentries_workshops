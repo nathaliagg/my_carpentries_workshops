{
 "cells": [
  {
   "cell_type": "markdown",
   "metadata": {},
   "source": [
    "# Built-in Functions and Help\n",
    "**Teaching:** 15 minutes  \n",
    "**Exercises:** 10 minutes  \n",
    "## Questions:  \n",
    "- How can I use built-in functions?\n",
    "- How can I find out what they do?\n",
    "- What kind of errors can occur in programs?\n",
    "\n",
    "## Objectives:\n",
    "- Explain the purpose of functions.\n",
    "- Correctly call built-in Python functions.\n",
    "- Correctly nest calls to built-in functions.\n",
    "- Use help to display documentation for built-in functions.\n",
    "- Correctly describe situations in which SyntaxError and NameError occur.\n",
    "\n",
    "## Key points:\n",
    "- Use comments to add documentation to programs.\n",
    "- A function may take zero or more arguments.\n",
    "- Commonly-used built-in functions include `max`, `min`, and `round`.\n",
    "- Functions may only work for certain (combinations of) arguments.\n",
    "- Functions may have default values for some arguments.\n",
    "- Use the built-in function `help` to get help for a function.\n",
    "- The Jupyter Notebook has two ways to get help.\n",
    "- Every function returns something.\n",
    "- Python reports a syntax error when it can't understand the source of a program.\n",
    "- Python reports a runtime error when something goes wrong while a program is executing.\n",
    "- Fix syntax errors by reading the source code, and runtime errors by tracing the program's execution.\n",
    "\n",
    "## Use comments to add documentation to programs."
   ]
  },
  {
   "cell_type": "code",
   "execution_count": null,
   "metadata": {},
   "outputs": [],
   "source": [
    "# This sentence isn't executed by Python.\n",
    "adjustment = 0.5   # Neither is this - anything after '#' is ignored."
   ]
  },
  {
   "cell_type": "markdown",
   "metadata": {},
   "source": [
    "## A function may take zero or more arguments.\n",
    "\n",
    "*   We have seen some functions already --- now let's take a closer look.\n",
    "*   An *argument* is a value passed into a function.\n",
    "*   `len` takes exactly one.\n",
    "*   `int`, `str`, and `float` create a new value from an existing one.\n",
    "*   `print` takes zero or more.\n",
    "*   `print` with no arguments prints a blank line.\n",
    "    *   Must always use parentheses, even if they're empty,\n",
    "        so that Python knows a function is being called.\n",
    "\n",
    "Try out the following print statements:  \n",
    ">  print('before')  \n",
    ">  print()  \n",
    ">  print('after')  \n",
    ">  print(print)"
   ]
  },
  {
   "cell_type": "code",
   "execution_count": null,
   "metadata": {},
   "outputs": [],
   "source": []
  },
  {
   "cell_type": "markdown",
   "metadata": {},
   "source": [
    "## Commonly-used built-in functions include `max`, `min`, and `round`.\n",
    "\n",
    "*   Use `max` to find the largest value of one or more values.\n",
    "*   Use `min` to find the smallest.\n",
    "*   Both work on character strings as well as numbers.\n",
    "    *   \"Larger\" and \"smaller\" use (0-9, A-Z, a-z) to compare letters.\n",
    "    \n",
    "Try out the following lines, but guess the result before executing the code.  \n",
    "\n",
    ">  print(max(1, 2, 3))  \n",
    ">  print(min('a', 'A', '0'))"
   ]
  },
  {
   "cell_type": "code",
   "execution_count": null,
   "metadata": {},
   "outputs": [],
   "source": []
  },
  {
   "cell_type": "markdown",
   "metadata": {},
   "source": [
    "## Functions may only work for certain (combinations of) arguments.\n",
    "\n",
    "*   `max` and `min` must be given at least one argument.\n",
    "    *   \"Largest of the empty set\" is a meaningless question.\n",
    "*   And they must be given things that can meaningfully be compared."
   ]
  },
  {
   "cell_type": "code",
   "execution_count": 11,
   "metadata": {
    "scrolled": true
   },
   "outputs": [],
   "source": [
    "max(1, 'a')"
   ]
  },
  {
   "cell_type": "markdown",
   "metadata": {},
   "source": [
    "## Functions may have default values for some arguments.\n",
    "\n",
    "*   `round` will round off a floating-point number.\n",
    "*   By default, rounds to zero decimal places.\n",
    "*   We can specify the number of decimal places we want.\n",
    "\n",
    "Try out the following code, but guess the result first:  \n",
    ">  round(3.712)   \n",
    ">  round(3.712, 1)  \n",
    ">  round(3.712, -1)  "
   ]
  },
  {
   "cell_type": "code",
   "execution_count": null,
   "metadata": {},
   "outputs": [],
   "source": []
  },
  {
   "cell_type": "markdown",
   "metadata": {},
   "source": [
    "## Use the built-in function `help` to get help for a function.\n",
    "\n",
    "*   Every built-in function has online documentation."
   ]
  },
  {
   "cell_type": "code",
   "execution_count": null,
   "metadata": {},
   "outputs": [],
   "source": [
    "help(round)"
   ]
  },
  {
   "cell_type": "markdown",
   "metadata": {},
   "source": [
    "## Python reports a syntax error when it can't understand the source of a program.\n",
    "\n",
    "Try to run the following:  \n",
    ">  name = 'Feng  \n",
    ">  print(\"hello world\""
   ]
  },
  {
   "cell_type": "code",
   "execution_count": 12,
   "metadata": {},
   "outputs": [],
   "source": []
  },
  {
   "cell_type": "markdown",
   "metadata": {},
   "source": [
    "*   The message indicates a problem on first line of the input (\"line 1\").\n",
    "    *   In this case the \"ipython-input\" section of the file name tells us that\n",
    "        we are working with input into IPython,\n",
    "        the Python interpreter used by the Jupyter Notebook.\n",
    "*   The `<ipython-input>` part of the filename indicates that the error occurred in cell 6 of our Notebook.\n",
    "*   Next is the problematic line of code, indicating the problem with a `^` pointer.\n",
    "\n",
    "## <a name='runtime-error'></a> Python reports a runtime error when something goes wrong while a program is executing."
   ]
  },
  {
   "cell_type": "code",
   "execution_count": null,
   "metadata": {},
   "outputs": [],
   "source": [
    "age = 53\n",
    "remaining = 100 - aege # mis-spelled 'age'"
   ]
  },
  {
   "cell_type": "markdown",
   "metadata": {},
   "source": [
    "*   Fix syntax errors by reading the source and runtime errors by tracing execution.\n",
    "\n",
    "## The Jupyter Notebook has two ways to get help.\n",
    "\n",
    "*   Place the cursor anywhere in the function invocation \n",
    "    (i.e., the function name or its parameters),\n",
    "    hold down `shift`,\n",
    "    and press `tab`.\n",
    "*   Or type a function name with a question mark after it.\n",
    "\n",
    "## Every function returns something.\n",
    "\n",
    "*   Every function call produces some result.\n",
    "*   If the function doesn't have a useful result to return,\n",
    "    it usually returns the special value `None`."
   ]
  },
  {
   "cell_type": "code",
   "execution_count": null,
   "metadata": {},
   "outputs": [],
   "source": [
    "result = print('example')\n",
    "print('result of print is', result)"
   ]
  },
  {
   "cell_type": "markdown",
   "metadata": {},
   "source": [
    "## What Happens When\n",
    "What is the final value of `radiance`?  \n",
    "\n",
    ">  radiance = 1.0  \n",
    ">  radiance = max(2.1, 2.0 + min(radiance, 1.1 * radiance - 0.5))  "
   ]
  },
  {
   "cell_type": "code",
   "execution_count": null,
   "metadata": {},
   "outputs": [],
   "source": []
  },
  {
   "cell_type": "markdown",
   "metadata": {},
   "source": [
    "## Spot the Difference\n",
    "Predict what each of the `print` statements in the program below will print.  \n",
    "\n",
    ">  easy_string = \"abc\"  \n",
    ">  print(max(easy_string))  \n",
    ">  rich = \"gold\"  \n",
    ">  poor = \"tin\"  \n",
    ">  print(max(rich, poor))  \n",
    ">  print(max(len(rich), len(poor)))  "
   ]
  },
  {
   "cell_type": "code",
   "execution_count": null,
   "metadata": {},
   "outputs": [],
   "source": []
  }
 ],
 "metadata": {
  "kernelspec": {
   "display_name": "Python 3",
   "language": "python",
   "name": "python3"
  },
  "language_info": {
   "codemirror_mode": {
    "name": "ipython",
    "version": 3
   },
   "file_extension": ".py",
   "mimetype": "text/x-python",
   "name": "python",
   "nbconvert_exporter": "python",
   "pygments_lexer": "ipython3",
   "version": "3.7.3"
  }
 },
 "nbformat": 4,
 "nbformat_minor": 2
}
