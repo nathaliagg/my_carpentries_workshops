{
 "cells": [
  {
   "cell_type": "markdown",
   "metadata": {},
   "source": [
    "# Data Types and Type Conversion\n",
    "**Teaching:** 10 minutes  \n",
    "**Exercises:** 10 minutes\n",
    "\n",
    "## Questions:\n",
    "- What kinds of data do programs store?\n",
    "- How can I convert one type to another?\n",
    "\n",
    "## Objectives:\n",
    "- Explain key differences between integers and floating point numbers.\n",
    "- Explain key differences between numbers and character strings.\n",
    "- Use built-in functions to convert between integers, floating point numbers, and strings.\n",
    "\n",
    "## Keypoints:\n",
    "- Every value has a type.\"\n",
    "- Use the built-in function `type` to find the type of a value.\n",
    "- Types control what operations can be done on values.\n",
    "- Strings can be added and multiplied.\n",
    "- Strings have a length (but numbers don't).\n",
    "- Must convert numbers to strings or vice versa when operating on them.\n",
    "- Can mix integers and floats freely in operations.\n",
    "- Variables only change value when something is assigned to them.\n",
    "\n",
    "## Every value has a type.\n",
    "*   Every value in a program has a specific type.\n",
    "*   Integer (`int`): represents positive or negative whole numbers like 3 or -512.\n",
    "*   Floating point number (`float`): represents real numbers like 3.14159 or -2.5.\n",
    "*   Character string (usually called \"string\", `str`): text.\n",
    "    *   Written in either single quotes or double quotes (as long as they match).\n",
    "    *   The quote marks aren't printed when the string is displayed.\n",
    "\n",
    "## Use the built-in function `type` to find the type of a value.\n",
    "\n",
    "*   Use the built-in function `type` to find out what type a value has.\n",
    "*   Works on variables as well.\n",
    "    *   But remember: the *value* has the type --- the *variable* is just a label.  \n",
    "\n",
    "The following lines of code print the type of variable of the integer 52, the string \"average,\" and the float 1.5.  \n",
    ">  print(type(52))  \n",
    ">  print(type('average'))  \n",
    ">  print(type(3/2))  "
   ]
  },
  {
   "cell_type": "code",
   "execution_count": null,
   "metadata": {},
   "outputs": [],
   "source": []
  },
  {
   "cell_type": "markdown",
   "metadata": {},
   "source": [
    "## Types control what operations (or methods) can be performed on a given value.\n",
    "\n",
    "* A value's type determines what the program can do to it.\n",
    "* Every type has its own rules.\n",
    "* Writing effective Python code requires the user to understand the rules.\n",
    "\n",
    "Run the next few lines, but before running it, guess what you think the result will be.\n",
    "\n",
    ">  print(5 - 3)  \n",
    ">  print('hello' - 'h')  \n",
    ">  print(5 * 3)  \n",
    ">  print('hello' * 3)  \n",
    ">  print('hello' + ' ' + 'world')  "
   ]
  },
  {
   "cell_type": "code",
   "execution_count": null,
   "metadata": {},
   "outputs": [],
   "source": []
  },
  {
   "cell_type": "markdown",
   "metadata": {},
   "source": [
    "## You can use the \"+\" and \"*\" operators on strings."
   ]
  },
  {
   "cell_type": "code",
   "execution_count": null,
   "metadata": {},
   "outputs": [],
   "source": [
    "full_name = 'Dave' + ' ' + 'Lampert'\n",
    "print(full_name)"
   ]
  },
  {
   "cell_type": "markdown",
   "metadata": {},
   "source": [
    "*   Multiplying a character string by an integer _N_ creates a new string that consists of that character string repeated  _N_ times, since multiplication is repeated addition."
   ]
  },
  {
   "cell_type": "code",
   "execution_count": null,
   "metadata": {},
   "outputs": [],
   "source": [
    "separator = '=' * 10\n",
    "print(separator)"
   ]
  },
  {
   "cell_type": "markdown",
   "metadata": {},
   "source": [
    "## Strings have a length (but numbers don't).\n",
    "\n",
    "*   The built-in function `len` counts the number of characters in a string."
   ]
  },
  {
   "cell_type": "code",
   "execution_count": null,
   "metadata": {},
   "outputs": [],
   "source": [
    "print(len(full_name))"
   ]
  },
  {
   "cell_type": "markdown",
   "metadata": {},
   "source": [
    "*   But numbers don't have a length (not even zero)."
   ]
  },
  {
   "cell_type": "code",
   "execution_count": null,
   "metadata": {},
   "outputs": [],
   "source": [
    "print(len(52))"
   ]
  },
  {
   "cell_type": "markdown",
   "metadata": {},
   "source": [
    "## <a name='convert-numbers-and-strings'></a> Must convert numbers to strings or vice versa when operating on them.\n",
    "\n",
    "*   Cannot add numbers and strings."
   ]
  },
  {
   "cell_type": "code",
   "execution_count": null,
   "metadata": {},
   "outputs": [],
   "source": [
    "print(1 + '2')"
   ]
  },
  {
   "cell_type": "markdown",
   "metadata": {},
   "source": [
    "*   This operation is not allowed because addition is defined for these different variable types.\n",
    "*   Some types can be converted to other types by using the type name as a function."
   ]
  },
  {
   "cell_type": "code",
   "execution_count": null,
   "metadata": {},
   "outputs": [],
   "source": [
    "print(1 + int('2'))\n",
    "print(str(1) + '2')"
   ]
  },
  {
   "cell_type": "markdown",
   "metadata": {},
   "source": [
    "## Integers and floats can be mixed freely in operations.\n",
    "\n",
    "*   Integers and floating-point numbers can be mixed in arithmetic.\n",
    "    *   Python 3 automatically converts integers to floats as needed. (Integer division in Python 2 will return an integer, the *floor* of the division.)"
   ]
  },
  {
   "cell_type": "code",
   "execution_count": null,
   "metadata": {},
   "outputs": [],
   "source": [
    "print('half is', 1 / 2.0)\n",
    "print('three squared is', 3.0 ** 2)"
   ]
  },
  {
   "cell_type": "markdown",
   "metadata": {},
   "source": [
    "## Variables only change value when something is assigned to them.\n",
    "\n",
    "*   If we make one cell in a spreadsheet depend on another,\n",
    "    and update the latter,\n",
    "    the former updates automatically.\n",
    "*   This does **not** happen in programming languages.\n",
    "\n",
    "Guess what the output of the following will be, the run the code.  \n",
    "\n",
    ">  first = 1  \n",
    ">  second = 5 * first  \n",
    ">  first = 2  \n",
    ">  print('first is', first, 'and second is', second)  "
   ]
  },
  {
   "cell_type": "code",
   "execution_count": null,
   "metadata": {},
   "outputs": [],
   "source": []
  },
  {
   "cell_type": "markdown",
   "metadata": {},
   "source": [
    "## Fractions\n",
    "\n",
    "What type of value is 3.4?  \n",
    "How can you find out?  \n",
    "Write code below to determine the answer.  "
   ]
  },
  {
   "cell_type": "code",
   "execution_count": null,
   "metadata": {},
   "outputs": [],
   "source": []
  },
  {
   "cell_type": "markdown",
   "metadata": {},
   "source": [
    "## Automatic Type Conversion\n",
    "\n",
    "What type of value is 3.25 + 4?\n",
    "Write code below to determine the answer. "
   ]
  },
  {
   "cell_type": "code",
   "execution_count": null,
   "metadata": {},
   "outputs": [],
   "source": []
  },
  {
   "cell_type": "markdown",
   "metadata": {},
   "source": [
    "## Division Types\n",
    "\n",
    "In Python 3, there are different types of division.\n",
    "* The `//` operator performs integer (whole-number) floor division.\n",
    "* The `/` operator performs floating-point division.\n",
    "* The '%' (or *modulo*) operator calculates and returns the remainder from integer division.\n",
    "\n",
    ">  print('5 // 3:', 5//3)  \n",
    ">  print('5 / 3:', 5/3)  \n",
    ">  print('5 % 3:', 5%3)  "
   ]
  },
  {
   "cell_type": "code",
   "execution_count": null,
   "metadata": {},
   "outputs": [],
   "source": []
  },
  {
   "cell_type": "markdown",
   "metadata": {},
   "source": [
    "## Strings to Numbers\n",
    "\n",
    "Where reasonable, `float()` will convert a string to a floating point number, and `int()` will convert a floating point number to an integer. If the conversion doesn't make sense, however, an error message will occur.  \n",
    "\n",
    ">  print(\"string to float:\", float(\"3.4\"))  \n",
    ">  print(\"float to int:\", int(3.4))  \n",
    ">  print(\"string to float:\", float(\"Hello world!\"))  "
   ]
  },
  {
   "cell_type": "code",
   "execution_count": null,
   "metadata": {},
   "outputs": [],
   "source": []
  },
  {
   "cell_type": "markdown",
   "metadata": {},
   "source": [
    "## Arithmetic with Different Types\n",
    "\n",
    "Which of the following will return the floating point number `2.0`?  \n",
    "\n",
    "first = 1.0\n",
    "second = \"1\"\n",
    "third = \"1.1\"\n",
    "1. `first + float(second)`\n",
    "2. `float(second) + float(third)`\n",
    "3. `first + int(third)`\n",
    "4. `first + int(float(third))`\n",
    "5. `int(first) + int(float(third))`\n",
    "6. `2.0 * second`\n"
   ]
  },
  {
   "cell_type": "code",
   "execution_count": null,
   "metadata": {},
   "outputs": [],
   "source": []
  }
 ],
 "metadata": {
  "kernelspec": {
   "display_name": "Python 3",
   "language": "python",
   "name": "python3"
  },
  "language_info": {
   "codemirror_mode": {
    "name": "ipython",
    "version": 3
   },
   "file_extension": ".py",
   "mimetype": "text/x-python",
   "name": "python",
   "nbconvert_exporter": "python",
   "pygments_lexer": "ipython3",
   "version": "3.7.3"
  }
 },
 "nbformat": 4,
 "nbformat_minor": 4
}
