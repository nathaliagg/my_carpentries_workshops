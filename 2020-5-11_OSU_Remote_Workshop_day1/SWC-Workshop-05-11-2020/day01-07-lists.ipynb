{
 "cells": [
  {
   "cell_type": "markdown",
   "metadata": {},
   "source": [
    "# Lists\n",
    "**Teaching:** 10 minutes  \n",
    "**Exercises:** 10 minutes\n",
    "\n",
    "## Questions:\n",
    "- How can I store multiple values?\n",
    "\n",
    "## Objectives:\n",
    "- Explain why programs need collections of values.\n",
    "- Write programs that create, index, slice, and modify lists through assignment and method calls.\n",
    "\n",
    "## Key points:\n",
    "- A list stores many values in a single structure.\n",
    "- Use an item's index to fetch it from a list.\n",
    "- Lists' values can be replaced by assigning to them.\n",
    "- Appending items to a list lengthens it.\n",
    "- Use `del` to remove items from a list entirely.\n",
    "- The empty list contains no values.\n",
    "- Lists may contain values of different types.\n",
    "- Character strings can be indexed like lists.\n",
    "- Character strings are immutable.\n",
    "- Indexing beyond the end of the collection is an error.\n",
    "\n",
    "## A list stores many values in a single structure.\n",
    "*   Doing calculations with a hundred variables called `pressure_001`, `pressure_002`, etc., is cumbersome.\n",
    "*   Use a *list* to store many values together.\n",
    "    *   Contained within square brackets `[...]`.\n",
    "    *   Values are separated by commas `,`.\n",
    "    *   Lists can be used to create collections of any object type.\n",
    "*   Use `len` to find out how many values are in a list.\n",
    "\n",
    "Try out the following code, which creates a list of pressure values.  \n",
    "\n",
    "> pressures = [0.273, 0.275, 0.277, 0.275, 0.276]  \n",
    "> print('pressures:', pressures)  \n",
    "> print('length:', len(pressures))  "
   ]
  },
  {
   "cell_type": "code",
   "execution_count": null,
   "metadata": {},
   "outputs": [],
   "source": []
  },
  {
   "cell_type": "markdown",
   "metadata": {},
   "source": [
    "## Use an item's index to fetch it from a list.\n",
    "\n",
    "*   Just like we did with strings.\n",
    "\n",
    "> print('zeroth item of pressures:', pressures[0])  \n",
    "> print('fourth item of pressures:', pressures[4])  "
   ]
  },
  {
   "cell_type": "code",
   "execution_count": null,
   "metadata": {},
   "outputs": [],
   "source": []
  },
  {
   "cell_type": "markdown",
   "metadata": {},
   "source": [
    "## Lists' values can be replaced by assigning to them.\n",
    "\n",
    "*   Use an index expression on the left of assignment to replace a value.\n",
    "\n",
    "> pressures[0] = 0.265  \n",
    "> print('pressures is now:', pressures)"
   ]
  },
  {
   "cell_type": "code",
   "execution_count": null,
   "metadata": {},
   "outputs": [],
   "source": []
  },
  {
   "cell_type": "markdown",
   "metadata": {},
   "source": [
    "## Appending items to a list lengthens it.\n",
    "\n",
    "*   Use `list_name.append` to add items to the end of a list.\n",
    "\n",
    "Try out the following code:  \n",
    "\n",
    "> primes = [2, 3, 5]  \n",
    "> print('primes is initially:', primes)  \n",
    "> primes.append(7)  \n",
    "> print('primes has become:', primes)  "
   ]
  },
  {
   "cell_type": "code",
   "execution_count": null,
   "metadata": {},
   "outputs": [],
   "source": []
  },
  {
   "cell_type": "markdown",
   "metadata": {},
   "source": [
    "*   `append` is a *method* the belong to *list* objects.\n",
    "    *   Like a function, but tied to a particular object.\n",
    "*   Use `object_name.method_name` to call methods.\n",
    "    *   Deliberately resembles the way we refer to things in a library.\n",
    "*   We will meet other methods of lists as we go along.\n",
    "    *   Use `help(list)` for a preview.\n",
    "\n",
    "## Lists can be combined using extend\n",
    "The `extend` method is similar to `append`, but it allows you to combine two lists.  \n",
    "\n",
    "For example, try out the following code:  \n",
    "\n",
    "> teen_primes = [11, 13, 17, 19]  \n",
    "> middle_aged_primes = [37, 41, 43, 47]  \n",
    "> print('primes is currently:', primes)  \n",
    "> primes.extend(teen_primes)  \n",
    "> print('primes has now become:', primes)  \n",
    "> primes.append(middle_aged_primes)  \n",
    "> print('primes has finally become:', primes)  "
   ]
  },
  {
   "cell_type": "code",
   "execution_count": null,
   "metadata": {},
   "outputs": [],
   "source": []
  },
  {
   "cell_type": "markdown",
   "metadata": {},
   "source": [
    "## Use `del` to remove items from a list entirely.\n",
    "*   `del list_name[index]` removes an item from a list and shortens the list.\n",
    "*   Not a function or a method, but a statement in the language.\n",
    "\n",
    "Try out the following code:  \n",
    "\n",
    "> primes = [2, 3, 5, 7]  \n",
    "> print('primes before removing last item:', primes)  \n",
    "> del primes[3]  \n",
    "> print('primes after removing last item:', primes)  "
   ]
  },
  {
   "cell_type": "code",
   "execution_count": null,
   "metadata": {},
   "outputs": [],
   "source": []
  },
  {
   "cell_type": "markdown",
   "metadata": {},
   "source": [
    "## The empty list contains no values.\n",
    "*   Use `[]` on its own to represent a list that doesn't contain any values.\n",
    "    *   \"The zero of lists.\"\n",
    "*   Helpful as a starting point for collecting values.\n",
    "\n",
    "> l = [ ]   \n",
    "> l.append('first value')  \n",
    "> l.append('second')"
   ]
  },
  {
   "cell_type": "code",
   "execution_count": null,
   "metadata": {},
   "outputs": [],
   "source": []
  },
  {
   "cell_type": "markdown",
   "metadata": {},
   "source": [
    "## Lists may contain values of different types.\n",
    "*   A single list may contain numbers, strings, and anything else."
   ]
  },
  {
   "cell_type": "code",
   "execution_count": null,
   "metadata": {},
   "outputs": [],
   "source": [
    "goals = [1, 'Create lists.', 2, 'Extract items from lists.', 3, 'Modify lists.']"
   ]
  },
  {
   "cell_type": "markdown",
   "metadata": {},
   "source": [
    "## Character strings can be indexed like lists.\n",
    "*   Get single characters from a character string using indexes in square brackets.\n",
    "\n",
    "> element = 'carbon'  \n",
    "> print('zeroth character:', element[0])  \n",
    "> print('third character:', element[3])  "
   ]
  },
  {
   "cell_type": "code",
   "execution_count": null,
   "metadata": {},
   "outputs": [],
   "source": []
  },
  {
   "cell_type": "markdown",
   "metadata": {},
   "source": [
    "## Character strings are immutable.\n",
    "*   Cannot change the characters in a string after it has been created.\n",
    "    *   *Immutable*: can't be changed after creation.\n",
    "    *   In contrast, lists are *mutable*: they can be modified in place.\n",
    "*   Python considers the string to be a single value with parts, not a collection of values."
   ]
  },
  {
   "cell_type": "code",
   "execution_count": null,
   "metadata": {},
   "outputs": [],
   "source": [
    "element[0] = 'C'"
   ]
  },
  {
   "cell_type": "markdown",
   "metadata": {},
   "source": [
    "*   Lists and character strings are both *collections*.\n",
    "\n",
    "## Indexing beyond the end of the collection is an error.\n",
    "\n",
    "*   Python reports an `IndexError` if we attempt to access a value that doesn't exist.\n",
    "    *   This is a kind of [runtime error]({{ page.root }}/04-built-in/#runtime-error).\n",
    "    *   Cannot be detected as the code is parsed\n",
    "        because the index might be calculated based on data."
   ]
  },
  {
   "cell_type": "code",
   "execution_count": null,
   "metadata": {},
   "outputs": [],
   "source": [
    "print('99th element of element is:', element[99])"
   ]
  },
  {
   "cell_type": "markdown",
   "metadata": {},
   "source": [
    "## Fill in the blanks.\n",
    "Fill in the blanks so that the program below produces the output shown.  \n",
    "\n",
    "> values = ______  \n",
    "> values.______(1)  \n",
    "> values.______(3)  \n",
    "> values.______(5)  \n",
    "> print('first time:', values)  \n",
    "> values = values[____]  \n",
    "> print('second time:', values)  \n",
    "> first time: [1, 3, 5]  \n",
    "> second time: [3, 5]  "
   ]
  },
  {
   "cell_type": "code",
   "execution_count": null,
   "metadata": {},
   "outputs": [],
   "source": []
  },
  {
   "cell_type": "markdown",
   "metadata": {},
   "source": [
    "## Skipping through a list\n",
    "We can write a slice as `low:high:stride`.  \n",
    "What does `stride` do?  \n",
    "Try the following code to see what is printed.    \n",
    "\n",
    "> element = 'fluorine'  \n",
    "> print(element[::2])  \n",
    "> print(element[::-1])  "
   ]
  },
  {
   "cell_type": "code",
   "execution_count": null,
   "metadata": {},
   "outputs": [],
   "source": []
  }
 ],
 "metadata": {
  "kernelspec": {
   "display_name": "Python 3",
   "language": "python",
   "name": "python3"
  },
  "language_info": {
   "codemirror_mode": {
    "name": "ipython",
    "version": 3
   },
   "file_extension": ".py",
   "mimetype": "text/x-python",
   "name": "python",
   "nbconvert_exporter": "python",
   "pygments_lexer": "ipython3",
   "version": "3.7.3"
  }
 },
 "nbformat": 4,
 "nbformat_minor": 2
}
