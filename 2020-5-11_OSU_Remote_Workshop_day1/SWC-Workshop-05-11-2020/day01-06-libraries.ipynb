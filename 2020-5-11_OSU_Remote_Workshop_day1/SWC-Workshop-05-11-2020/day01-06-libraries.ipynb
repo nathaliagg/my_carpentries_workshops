{
 "cells": [
  {
   "cell_type": "markdown",
   "metadata": {},
   "source": [
    "# Libraries\n",
    "**Teaching:** 10 minutes  \n",
    "**Exercises:** 10 minutes\n",
    "\n",
    "## Questions:\n",
    "- How can I use software that other people have written?\n",
    "- How can I find out what that software does?\n",
    "\n",
    "## Objectives:\n",
    "- Explain what software libraries are and why programmers create and use them.\n",
    "- Write programs that import and use libraries from Python's standard library.\n",
    "- Find and read documentation for standard libraries interactively (in the interpreter) and online.\n",
    "\n",
    "# Key points:\n",
    "- Most of the power of a programming language is in its libraries.\n",
    "- A program must import a library module in order to use it.\n",
    "- Use `help` to learn about the contents of a library module.\n",
    "- Import specific items from a library to shorten programs.\n",
    "- Create an alias for a library when importing it to shorten programs.\n",
    "\n",
    "## Most of the power of a programming language is in its libraries.\n",
    "\n",
    "*   A *library* is a collection of files that contain functions for use by other programs.\n",
    "*   Libraries may also contain data values and other things.\n",
    "*   The Python [standard library](https://docs.python.org/3/library/) is an extensive suite of modules that comes with Python itself.\n",
    "*   Many additional libraries are available from [PyPI](https://pypi.python.org/pypi/) (the Python Package Index).\n",
    "\n",
    "## A program must import a library module before using it.\n",
    "\n",
    "*   Use `import` to load a library into a program's memory.\n",
    "*   Then refer to things from the library as `library_name.thing_name`.\n",
    "    *   Python uses `.` to mean \"part of\".\n",
    "*   The `math` library is a commonly-used part of the standard Python library.  \n",
    "*   The `math` library contains functions typically found on a calculator.\n",
    "\n",
    "Try out the following code below:  \n",
    "\n",
    ">  import math  \n",
    ">  \n",
    ">  print('pi is', math.pi)  \n",
    ">  print('cos(pi) is', math.cos(math.pi))"
   ]
  },
  {
   "cell_type": "code",
   "execution_count": null,
   "metadata": {},
   "outputs": [],
   "source": []
  },
  {
   "cell_type": "markdown",
   "metadata": {},
   "source": [
    "*   We have to refer to each item with the module's name.\n",
    "*   `math.cos(pi)` won't work, since `pi` is not defined yet.\n",
    "\n",
    "## Use `help` to learn about the contents of a library module.\n",
    "\n",
    "*   Works just like help for a function.  \n",
    "\n",
    ">  help(math)"
   ]
  },
  {
   "cell_type": "code",
   "execution_count": null,
   "metadata": {},
   "outputs": [],
   "source": []
  },
  {
   "cell_type": "markdown",
   "metadata": {},
   "source": [
    "## Import specific items from a library module to shorten programs.\n",
    "*   Use `from ... import ...` to load only specific items from a library module.\n",
    "*   Then refer to them directly without library name as prefix.\n",
    "\n",
    ">  from math import cos, pi  \n",
    ">  \n",
    ">  print('cos(pi) is', cos(pi))  "
   ]
  },
  {
   "cell_type": "code",
   "execution_count": null,
   "metadata": {},
   "outputs": [],
   "source": []
  },
  {
   "cell_type": "markdown",
   "metadata": {},
   "source": [
    "## Create an alias to shorten programs.\n",
    "\n",
    "*   Use `import ... as ...` to give a library a short *alias* while importing it.\n",
    "*   Then refer to items in the library using that shortened name.\n",
    "\n",
    ">  import math as m  \n",
    "\n",
    ">  print('cos(pi) is', m.cos(m.pi))  "
   ]
  },
  {
   "cell_type": "code",
   "execution_count": null,
   "metadata": {},
   "outputs": [],
   "source": []
  },
  {
   "cell_type": "markdown",
   "metadata": {},
   "source": [
    "*   Aliases are commonly used for libraries that are frequently used or have long names.\n",
    "    *   E.g., `matplotlib` plotting library is often aliased as `plt`.\n",
    "*   But can make programs harder to understand, since readers must learn the aliases.\n",
    "\n",
    "## Importing using the wildcard (\\*)\n",
    "*   All the parts of a library can be imported using the asterisk (\\*)\n",
    "*   This approach is not recommended, since the origin of variables is less clear\n",
    "\n",
    ">  from math import *  \n",
    ">  print(pi)"
   ]
  },
  {
   "cell_type": "code",
   "execution_count": null,
   "metadata": {},
   "outputs": [],
   "source": []
  },
  {
   "cell_type": "markdown",
   "metadata": {},
   "source": [
    "## Explore the Math Module.\n",
    "\n",
    "What function from the `math` module can you use to calculate a square root?  "
   ]
  },
  {
   "cell_type": "code",
   "execution_count": null,
   "metadata": {},
   "outputs": [],
   "source": []
  },
  {
   "cell_type": "markdown",
   "metadata": {},
   "source": [
    "## Exponents in Python\n",
    "What is another way to compute the square root of a number?  \n",
    "The double asterisk \\** is used rather than the carrot ^ for exponents in Python."
   ]
  },
  {
   "cell_type": "code",
   "execution_count": null,
   "metadata": {},
   "outputs": [],
   "source": []
  },
  {
   "cell_type": "markdown",
   "metadata": {},
   "source": [
    "## Locating the right libraries\n",
    "\n",
    "Let's say that you want to select a random character from a string:  \n",
    "\n",
    "bases = 'ACTTGCTTGAC'  \n",
    "\n",
    "Which python library could help you? Try to write a program to print a random letter from this string."
   ]
  },
  {
   "cell_type": "code",
   "execution_count": null,
   "metadata": {},
   "outputs": [],
   "source": []
  },
  {
   "cell_type": "markdown",
   "metadata": {},
   "source": [
    "## When Is Help Available?\n",
    "\n",
    "When a colleague of yours types `help(math)`, Python reports an error:\n",
    "\n",
    "> ~~~\n",
    "> NameError: name 'math' is not defined\n",
    "> ~~~\n",
    "\n",
    "What has your colleague forgotten to do?"
   ]
  },
  {
   "cell_type": "code",
   "execution_count": null,
   "metadata": {},
   "outputs": [],
   "source": []
  },
  {
   "cell_type": "markdown",
   "metadata": {},
   "source": [
    "## There Are Many Ways To Import Libraries\n",
    "\n",
    "Match the following print statements with the appropriate library calls.\n",
    "\n",
    "> Print commands:\n",
    ">\n",
    "> 1. `print(\"sin(pi/2) =\", sin(pi/2))`\n",
    "> 2. `print(\"sin(pi/2) =\", m.sin(m.pi/2))`\n",
    "> 3. `print(\"sin(pi/2) =\", math.sin(math.pi/2))`\n",
    "\n",
    "> Library calls:\n",
    ">\n",
    "> 1. `from math import sin, pi`\n",
    "> 2. `import math`\n",
    "> 3. `import math as m`\n",
    "> 4. `from math import *`"
   ]
  }
 ],
 "metadata": {
  "kernelspec": {
   "display_name": "Python 3",
   "language": "python",
   "name": "python3"
  },
  "language_info": {
   "codemirror_mode": {
    "name": "ipython",
    "version": 3
   },
   "file_extension": ".py",
   "mimetype": "text/x-python",
   "name": "python",
   "nbconvert_exporter": "python",
   "pygments_lexer": "ipython3",
   "version": "3.7.3"
  }
 },
 "nbformat": 4,
 "nbformat_minor": 2
}
