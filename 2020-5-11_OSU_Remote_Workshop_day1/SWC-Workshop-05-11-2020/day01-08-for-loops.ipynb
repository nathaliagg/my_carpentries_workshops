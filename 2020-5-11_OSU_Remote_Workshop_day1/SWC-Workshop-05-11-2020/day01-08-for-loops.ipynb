{
 "cells": [
  {
   "cell_type": "markdown",
   "metadata": {},
   "source": [
    "# For Loops\n",
    "**Teaching:** 10 minutes  \n",
    "**Exercises:** 15 minutes\n",
    "\n",
    "## Questions:\n",
    "- How can I make a program to repeat a task?\n",
    "\n",
    "## Objectives:\n",
    "- Explain what for loops are normally used for.\n",
    "- Trace the execution of a simple (unnested) loop and correctly state the values of variables in each iteration.\n",
    "- Write for loops that use the Accumulator pattern to aggregate values.\n",
    "\n",
    "## Key points:\n",
    "- A *for loop* executes commands once for each value in a collection.\n",
    "- A `for` loop is made up of a collection, a loop variable, and a body.\n",
    "- The first line of the `for` loop must end with a colon, and the body must be indented.\n",
    "- Indentation is always meaningful in Python.\n",
    "- Loop variables can be called anything, but it is best to use a meaningful name.\n",
    "- The body of a loop can contain many statements.\n",
    "- Use `range` to iterate over a sequence of numbers.\n",
    "- The Accumulator pattern turns many values into one.\n",
    "\n",
    "## A *for loop* executes commands once for each value in a collection.\n",
    "\n",
    "*   Doing calculations on the values in a list one by one\n",
    "    is as painful as working with `pressure_001`, `pressure_002`, etc.\n",
    "*   A *for loop* tells Python to execute some statements once for each value in a list,\n",
    "    a character string,\n",
    "    or some other collection.\n",
    "*   \"for each thing in this group, do these operations\""
   ]
  },
  {
   "cell_type": "code",
   "execution_count": null,
   "metadata": {},
   "outputs": [],
   "source": [
    "for number in [2, 3, 5]:\n",
    "    print(number)"
   ]
  },
  {
   "cell_type": "markdown",
   "metadata": {},
   "source": [
    "*   This `for` loop is equivalent to:"
   ]
  },
  {
   "cell_type": "code",
   "execution_count": null,
   "metadata": {},
   "outputs": [],
   "source": [
    "print(2)\n",
    "print(3)\n",
    "print(5)"
   ]
  },
  {
   "cell_type": "markdown",
   "metadata": {},
   "source": [
    "## A `for` loop is made up of a collection, a loop variable, and a body."
   ]
  },
  {
   "cell_type": "code",
   "execution_count": null,
   "metadata": {},
   "outputs": [],
   "source": [
    "for number in [2, 3, 5]:\n",
    "    print(number)"
   ]
  },
  {
   "cell_type": "markdown",
   "metadata": {},
   "source": [
    "*   The collection, `[2, 3, 5]`, is what the loop is being run on.\n",
    "*   The body, `print(number)`, specifies what to do for each value in the collection.\n",
    "*   The loop variable, `number`, is what changes for each *iteration* of the loop.\n",
    "    *   The \"current thing\".\n",
    "\n",
    "## The first line of the `for` loop must end with a colon, and the body must be indented.\n",
    "*   The colon at the end of the first line signals the start of a *block* of statements.\n",
    "*   Python uses indentation to show *nesting*.\n",
    "    *   Any consistent indentation is legal, but almost everyone uses four spaces."
   ]
  },
  {
   "cell_type": "code",
   "execution_count": null,
   "metadata": {},
   "outputs": [],
   "source": [
    "for number in [2, 3, 5]:\n",
    "print(number)"
   ]
  },
  {
   "cell_type": "markdown",
   "metadata": {},
   "source": [
    "*   Indentation is always meaningful in Python."
   ]
  },
  {
   "cell_type": "code",
   "execution_count": null,
   "metadata": {},
   "outputs": [],
   "source": [
    "firstName = \"Jon\"\n",
    "  lastName = \"Smith\""
   ]
  },
  {
   "cell_type": "markdown",
   "metadata": {},
   "source": [
    "*   This error can be fixed by removing the extra spaces\n",
    "    at the beginning of the second line.\n",
    "\n",
    "## Loop variables can be called anything.\n",
    "\n",
    "*   As with all variables, loop variables are:\n",
    "    *   Created on demand.\n",
    "    *   Meaningless: their names can be anything at all."
   ]
  },
  {
   "cell_type": "code",
   "execution_count": null,
   "metadata": {},
   "outputs": [],
   "source": [
    "for kitten in [2, 3, 5]:\n",
    "    print(kitten)"
   ]
  },
  {
   "cell_type": "markdown",
   "metadata": {},
   "source": [
    "## The body of a loop can contain many statements.\n",
    "*   Loops should normally only be a few lines long.\n",
    "*   It is hard for human beings to keep larger chunks of code in mind.\n",
    "\n",
    "Try out the following code, which prints the square and cube of the first few primes:\n",
    "\n",
    "> primes = [2, 3, 5]  \n",
    "> for p in primes:  \n",
    ">     squared = p \\** 2  \n",
    ">     cubed = p \\** 3  \n",
    ">     print(p, squared, cubed)  "
   ]
  },
  {
   "cell_type": "code",
   "execution_count": null,
   "metadata": {},
   "outputs": [],
   "source": []
  },
  {
   "cell_type": "markdown",
   "metadata": {},
   "source": [
    "## Use `range` to iterate over a sequence of numbers.\n",
    "\n",
    "*   The built-in function [`range`](https://docs.python.org/3/library/stdtypes.html#range) produces a sequence of numbers.\n",
    "    *   *Not* a list: the numbers are produced to make looping more efficient.\n",
    "*   `range(N)` is the numbers 0..N-1\n",
    "    *   Exactly the legal indices of a list or character string of length N\n",
    "\n",
    "> for number in range(0, 3):  \n",
    ">    print(number)"
   ]
  },
  {
   "cell_type": "code",
   "execution_count": null,
   "metadata": {},
   "outputs": [],
   "source": []
  },
  {
   "cell_type": "markdown",
   "metadata": {},
   "source": [
    "## The Accumulator pattern turns many values into one.\n",
    "*   A common pattern in programs is to:\n",
    "    1.  Initialize an *accumulator* variable to zero, the empty string, or the empty list.\n",
    "    2.  Update the variable with values from a collection.\n",
    "    \n",
    "The following code will sum the first 10 integers.  \n",
    "> total = 0  \n",
    "> for number in range(10):  \n",
    ">   total = total + (number + 1)  \n",
    "> print(total)  "
   ]
  },
  {
   "cell_type": "code",
   "execution_count": null,
   "metadata": {},
   "outputs": [],
   "source": []
  },
  {
   "cell_type": "markdown",
   "metadata": {},
   "source": [
    "*   Read `total = total + (number + 1)` as:\n",
    "    *   Add 1 to the current value of the loop variable `number`.\n",
    "    *   Add that to the current value of the accumulator variable `total`.\n",
    "    *   Assign that to `total`, replacing the current value.\n",
    "*   We have to add `number + 1` because `range` produces 0..9, not 1..10."
   ]
  },
  {
   "cell_type": "markdown",
   "metadata": {},
   "source": [
    "## Practice Accumulating\n",
    "Fill in the blanks in each of the programs below to produce the indicated result.\n",
    "\n",
    "The total length of the strings in the list: [\"red\", \"green\", \"blue\"] should be 12.\n",
    "> total = 0  \n",
    "> for word in [\"red\", \"green\", \"blue\"]:  \n",
    ">     ______ = ______ + len(word)  \n",
    "> print(total)  "
   ]
  },
  {
   "cell_type": "markdown",
   "metadata": {},
   "source": [
    "## Cumulative Sum\n",
    "Reorder and properly indent the lines of code below so that they print a list with the cumulative sum of data. The result should be `[1, 3, 5, 10]`.\n",
    "\n",
    "> cumulative.append(sum)  \n",
    "> for number in data:  \n",
    "> cumulative = [ ]  \n",
    "> sum += number  \n",
    "> sum = 0  \n",
    "> print(cumulative)  \n",
    "> data = [1,2,2,5]  "
   ]
  },
  {
   "cell_type": "code",
   "execution_count": null,
   "metadata": {},
   "outputs": [],
   "source": []
  },
  {
   "cell_type": "markdown",
   "metadata": {},
   "source": [
    "## Final Day 1 Challenge\n",
    "In calculus classes, students learn about infinite sequences and series. One famous series that converges is equal to the natural logarithm of 2.\n",
    "\n",
    "$ln(2)=\\sum\\limits_{n=1}^{\\infty} {\\frac{(-1)^{n+1}}{n}} = 1 - \\frac{1}{2} + \\frac{1}{3} - \\frac{1}{4} + ... \\approx0.69315$\n",
    "\n",
    "Write a Python code to assess the sum of the first 10,000 numbers in this series.  \n",
    "\n",
    "$\\sum\\limits_{n=1}^{10,000} {\\frac{(-1)^{n+1}}{n}} $\n",
    "\n",
    "Compare the result with the actual value. Think about how long it would tak to assess this series with a calculator."
   ]
  },
  {
   "cell_type": "code",
   "execution_count": null,
   "metadata": {},
   "outputs": [],
   "source": []
  }
 ],
 "metadata": {
  "kernelspec": {
   "display_name": "Python 3",
   "language": "python",
   "name": "python3"
  },
  "language_info": {
   "codemirror_mode": {
    "name": "ipython",
    "version": 3
   },
   "file_extension": ".py",
   "mimetype": "text/x-python",
   "name": "python",
   "nbconvert_exporter": "python",
   "pygments_lexer": "ipython3",
   "version": "3.7.3"
  }
 },
 "nbformat": 4,
 "nbformat_minor": 2
}
