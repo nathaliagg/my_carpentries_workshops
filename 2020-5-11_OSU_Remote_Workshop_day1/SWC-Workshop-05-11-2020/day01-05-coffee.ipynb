{
 "cells": [
  {
   "cell_type": "markdown",
   "metadata": {},
   "source": [
    "# Reflection exercise\n",
    "\n",
    "Over coffee, reflect on and discuss the following:\n",
    "* What are the different kinds of errors Python will report?\n",
    "* Did the code always produce the results you expected? If not, why?\n",
    "* Is there something we can do to prevent errors when we write code?"
   ]
  },
  {
   "cell_type": "code",
   "execution_count": null,
   "metadata": {},
   "outputs": [],
   "source": []
  }
 ],
 "metadata": {
  "kernelspec": {
   "display_name": "Python 3",
   "language": "python",
   "name": "python3"
  },
  "language_info": {
   "codemirror_mode": {
    "name": "ipython",
    "version": 3
   },
   "file_extension": ".py",
   "mimetype": "text/x-python",
   "name": "python",
   "nbconvert_exporter": "python",
   "pygments_lexer": "ipython3",
   "version": "3.7.3"
  }
 },
 "nbformat": 4,
 "nbformat_minor": 2
}
