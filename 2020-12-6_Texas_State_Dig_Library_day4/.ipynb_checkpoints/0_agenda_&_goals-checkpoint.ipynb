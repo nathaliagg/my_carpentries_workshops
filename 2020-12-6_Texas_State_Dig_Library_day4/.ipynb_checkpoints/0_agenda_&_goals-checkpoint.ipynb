{
 "cells": [
  {
   "cell_type": "code",
   "execution_count": 1,
   "metadata": {
    "hideCode": true,
    "hidePrompt": true
   },
   "outputs": [
    {
     "data": {
      "text/html": [
       "<style>\n",
       "table {float:left}\n",
       "</style>\n"
      ],
      "text/plain": [
       "<IPython.core.display.HTML object>"
      ]
     },
     "metadata": {},
     "output_type": "display_data"
    }
   ],
   "source": [
    "%%html\n",
    "<style>\n",
    "table {float:left}\n",
    "</style>"
   ]
  },
  {
   "cell_type": "markdown",
   "metadata": {
    "hideCode": true,
    "hidePrompt": true
   },
   "source": [
    "# WELCOME TO DAY 4!!\n",
    "\n",
    "### Instructor: Nathalia Graf-Grachet (nathaliagg@arizona.edu)"
   ]
  },
  {
   "cell_type": "markdown",
   "metadata": {
    "hideCode": true,
    "hidePrompt": true
   },
   "source": [
    "## AGENDA\n",
    "\n",
    "\n",
    "| |Day 4   |\n",
    "|------|----------|\n",
    "| 9:00 am|     Introduction and Day 3 review |\n",
    "| 9:15 am|     1. Joining Pandas Dataframes |\n",
    "| 9:50 am|     2. Wide and long data formats |\n",
    "|10:25 am|     BREAK |\n",
    "|10:40 am|     3. Data visualisation using Matplotlib |\n",
    "|11:30 am|     BREAK |\n",
    "|11:50 am|     4. Accessing SQLite Databases |\n",
    "|12:45 pm|     QUESTIONS AND FEEDBACK |\n",
    "|01:00 pm|     THE END :( |\n"
   ]
  },
  {
   "cell_type": "markdown",
   "metadata": {
    "hideCode": true,
    "hidePrompt": true
   },
   "source": [
    "Lesson webpage: https://datacarpentry.org/python-socialsci/\n",
    "\n",
    "Data from The SAFI Teaching Database (https://datacarpentry.org/python-socialsci/setup.html)"
   ]
  },
  {
   "cell_type": "code",
   "execution_count": 2,
   "metadata": {
    "hideCode": true,
    "hidePrompt": true
   },
   "outputs": [],
   "source": [
    "list_urls = ['https://datacarpentry.org/python-socialsci/data/SAFI_clean.csv',\n",
    "             'https://datacarpentry.org/python-socialsci/data/SAFI_results.csv',\n",
    "             'https://datacarpentry.org/python-socialsci/data/SAFI_full_shortname.csv',\n",
    "             'https://datacarpentry.org/python-socialsci/data/SAFI.json',\n",
    "             'https://datacarpentry.org/python-socialsci/data/SN7577.tab']"
   ]
  },
  {
   "cell_type": "code",
   "execution_count": 3,
   "metadata": {
    "hideCode": true,
    "hidePrompt": true
   },
   "outputs": [],
   "source": [
    "import subprocess\n",
    "\n",
    "for url in list_urls:\n",
    "    output = subprocess.run([\"wget\", url])\n",
    "    # print(output.returncode)"
   ]
  }
 ],
 "metadata": {
  "hide_code_all_hidden": true,
  "kernelspec": {
   "display_name": "Python 3",
   "language": "python",
   "name": "python3"
  },
  "language_info": {
   "codemirror_mode": {
    "name": "ipython",
    "version": 3
   },
   "file_extension": ".py",
   "mimetype": "text/x-python",
   "name": "python",
   "nbconvert_exporter": "python",
   "pygments_lexer": "ipython3",
   "version": "3.9.0"
  },
  "toc": {
   "base_numbering": 1,
   "nav_menu": {},
   "number_sections": false,
   "sideBar": true,
   "skip_h1_title": false,
   "title_cell": "Table of Contents",
   "title_sidebar": "Contents",
   "toc_cell": false,
   "toc_position": {},
   "toc_section_display": true,
   "toc_window_display": false
  },
  "varInspector": {
   "cols": {
    "lenName": 16,
    "lenType": 16,
    "lenVar": 40
   },
   "kernels_config": {
    "python": {
     "delete_cmd_postfix": "",
     "delete_cmd_prefix": "del ",
     "library": "var_list.py",
     "varRefreshCmd": "print(var_dic_list())"
    },
    "r": {
     "delete_cmd_postfix": ") ",
     "delete_cmd_prefix": "rm(",
     "library": "var_list.r",
     "varRefreshCmd": "cat(var_dic_list()) "
    }
   },
   "types_to_exclude": [
    "module",
    "function",
    "builtin_function_or_method",
    "instance",
    "_Feature"
   ],
   "window_display": false
  }
 },
 "nbformat": 4,
 "nbformat_minor": 4
}
