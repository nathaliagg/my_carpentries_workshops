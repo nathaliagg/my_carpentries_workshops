{
 "cells": [
  {
   "cell_type": "markdown",
   "metadata": {},
   "source": [
    "_________________________\n",
    "\n",
    "# 01/11/2019\n",
    "\n",
    "## Python - gapminder lesson\n",
    "\n",
    "### NGG"
   ]
  },
  {
   "cell_type": "markdown",
   "metadata": {},
   "source": [
    "### Goals\n",
    "\n",
    "1. Use pandas, Python library for statistics\n",
    "2. Visualize data in publication quality plots\n",
    "3. Automate tasks\n",
    "\n",
    "Write functions, time permitting.\n",
    "______________________"
   ]
  },
  {
   "cell_type": "markdown",
   "metadata": {},
   "source": [
    "# Let's get organized...\n",
    "\n",
    "+ Create a folder on your desktop\n",
    "+ Launch jupyter and navigate to that folder"
   ]
  },
  {
   "cell_type": "markdown",
   "metadata": {},
   "source": [
    "# Quick recap"
   ]
  },
  {
   "cell_type": "code",
   "execution_count": 67,
   "metadata": {},
   "outputs": [
    {
     "name": "stdout",
     "output_type": "stream",
     "text": [
      "This cell is a code\n"
     ]
    }
   ],
   "source": [
    "print('This cell is a code')"
   ]
  },
  {
   "cell_type": "code",
   "execution_count": 68,
   "metadata": {},
   "outputs": [],
   "source": [
    "# This cell is code, but this is a comment\n",
    "# Whatever is written in front of this # sign, is ignored by Python"
   ]
  },
  {
   "cell_type": "markdown",
   "metadata": {},
   "source": [
    "This cell is text/mardown."
   ]
  },
  {
   "cell_type": "markdown",
   "metadata": {},
   "source": [
    "Who doesn't love a bullet point?!\n",
    "\n",
    "+ Great way to keep track of your code/analysis\n",
    "+ Reproducibility\n",
    "\n",
    "\n",
    "- Easily re-run analysis  \n",
    "- Write definitions, descriptions, meanings, ... what the code does so you can remember what you did...\n",
    "\n",
    "\n",
    "1. Hello!\n",
    "2. Bye!\n",
    "\n",
    "\n",
    "\n",
    "# Level 1\n",
    "\n",
    "## Level 2\n",
    "\n",
    "### Level 3\n",
    "\n",
    "\n",
    "\n",
    "*This is italic*\n",
    "\n",
    "**This is bold**\n",
    "\n",
    "***Wow, this is italic AND bold***"
   ]
  },
  {
   "cell_type": "code",
   "execution_count": 7,
   "metadata": {},
   "outputs": [
    {
     "name": "stdout",
     "output_type": "stream",
     "text": [
      "5\n"
     ]
    }
   ],
   "source": [
    "a=3\n",
    "b=2\n",
    "c=a+b\n",
    "print(c)"
   ]
  },
  {
   "cell_type": "code",
   "execution_count": 8,
   "metadata": {},
   "outputs": [
    {
     "name": "stdout",
     "output_type": "stream",
     "text": [
      "10\n"
     ]
    }
   ],
   "source": [
    "a=10\n",
    "print(a)"
   ]
  },
  {
   "cell_type": "code",
   "execution_count": 9,
   "metadata": {},
   "outputs": [
    {
     "name": "stdout",
     "output_type": "stream",
     "text": [
      "5\n"
     ]
    }
   ],
   "source": [
    "print(c)"
   ]
  },
  {
   "cell_type": "code",
   "execution_count": 10,
   "metadata": {},
   "outputs": [],
   "source": [
    "fruit='orange'"
   ]
  },
  {
   "cell_type": "code",
   "execution_count": 11,
   "metadata": {},
   "outputs": [],
   "source": [
    "fruits=['orange','strawberry','banana','mango']"
   ]
  },
  {
   "cell_type": "code",
   "execution_count": 12,
   "metadata": {},
   "outputs": [
    {
     "data": {
      "text/plain": [
       "'strawberry'"
      ]
     },
     "execution_count": 12,
     "metadata": {},
     "output_type": "execute_result"
    }
   ],
   "source": [
    "fruits[1]"
   ]
  },
  {
   "cell_type": "code",
   "execution_count": 19,
   "metadata": {},
   "outputs": [
    {
     "data": {
      "text/plain": [
       "['orange', 'strawberry', 'banana']"
      ]
     },
     "execution_count": 19,
     "metadata": {},
     "output_type": "execute_result"
    }
   ],
   "source": [
    "fruits[:3]"
   ]
  },
  {
   "cell_type": "code",
   "execution_count": 13,
   "metadata": {},
   "outputs": [
    {
     "data": {
      "text/plain": [
       "'mango'"
      ]
     },
     "execution_count": 13,
     "metadata": {},
     "output_type": "execute_result"
    }
   ],
   "source": [
    "fruits[-1]"
   ]
  },
  {
   "cell_type": "code",
   "execution_count": 17,
   "metadata": {},
   "outputs": [
    {
     "name": "stdout",
     "output_type": "stream",
     "text": [
      "So I went to the supermarket last night and bought 10 mangos LOL\n"
     ]
    }
   ],
   "source": [
    "print('So I went to the supermarket last night and bought',a, fruits[-1]+'s','LOL')"
   ]
  },
  {
   "cell_type": "code",
   "execution_count": 27,
   "metadata": {},
   "outputs": [
    {
     "data": {
      "text/plain": [
       "str"
      ]
     },
     "execution_count": 27,
     "metadata": {},
     "output_type": "execute_result"
    }
   ],
   "source": [
    "type(fruit)"
   ]
  },
  {
   "cell_type": "code",
   "execution_count": 28,
   "metadata": {},
   "outputs": [
    {
     "data": {
      "text/plain": [
       "list"
      ]
     },
     "execution_count": 28,
     "metadata": {},
     "output_type": "execute_result"
    }
   ],
   "source": [
    "type(fruits)"
   ]
  },
  {
   "cell_type": "code",
   "execution_count": 29,
   "metadata": {},
   "outputs": [
    {
     "data": {
      "text/plain": [
       "int"
      ]
     },
     "execution_count": 29,
     "metadata": {},
     "output_type": "execute_result"
    }
   ],
   "source": [
    "type(a)"
   ]
  },
  {
   "cell_type": "code",
   "execution_count": 32,
   "metadata": {},
   "outputs": [
    {
     "data": {
      "text/plain": [
       "str"
      ]
     },
     "execution_count": 32,
     "metadata": {},
     "output_type": "execute_result"
    }
   ],
   "source": [
    "d='55'\n",
    "type(d)"
   ]
  },
  {
   "cell_type": "code",
   "execution_count": 36,
   "metadata": {},
   "outputs": [],
   "source": [
    "e=int(d)"
   ]
  },
  {
   "cell_type": "code",
   "execution_count": 40,
   "metadata": {},
   "outputs": [
    {
     "data": {
      "text/plain": [
       "int"
      ]
     },
     "execution_count": 40,
     "metadata": {},
     "output_type": "execute_result"
    }
   ],
   "source": [
    "type(e)"
   ]
  },
  {
   "cell_type": "code",
   "execution_count": 41,
   "metadata": {},
   "outputs": [
    {
     "data": {
      "text/plain": [
       "str"
      ]
     },
     "execution_count": 41,
     "metadata": {},
     "output_type": "execute_result"
    }
   ],
   "source": [
    "type(d)"
   ]
  },
  {
   "cell_type": "code",
   "execution_count": 30,
   "metadata": {},
   "outputs": [
    {
     "data": {
      "text/plain": [
       "4"
      ]
     },
     "execution_count": 30,
     "metadata": {},
     "output_type": "execute_result"
    }
   ],
   "source": [
    "len(fruits)"
   ]
  },
  {
   "cell_type": "code",
   "execution_count": 46,
   "metadata": {},
   "outputs": [],
   "source": [
    "numbers=[1,5,6,19,33]"
   ]
  },
  {
   "cell_type": "code",
   "execution_count": 47,
   "metadata": {},
   "outputs": [
    {
     "name": "stdout",
     "output_type": "stream",
     "text": [
      "min = 1 max = 33\n"
     ]
    }
   ],
   "source": [
    "print('min =', min(numbers), 'max =', max(numbers))"
   ]
  },
  {
   "cell_type": "code",
   "execution_count": 48,
   "metadata": {},
   "outputs": [],
   "source": [
    "fruits.append('coconut')"
   ]
  },
  {
   "cell_type": "code",
   "execution_count": 49,
   "metadata": {},
   "outputs": [
    {
     "data": {
      "text/plain": [
       "['orange', 'strawberry', 'banana', 'mango', 'coconut']"
      ]
     },
     "execution_count": 49,
     "metadata": {},
     "output_type": "execute_result"
    }
   ],
   "source": [
    "fruits"
   ]
  },
  {
   "cell_type": "code",
   "execution_count": 50,
   "metadata": {},
   "outputs": [],
   "source": [
    "del fruits[1]"
   ]
  },
  {
   "cell_type": "code",
   "execution_count": 51,
   "metadata": {},
   "outputs": [
    {
     "data": {
      "text/plain": [
       "['orange', 'banana', 'mango', 'coconut']"
      ]
     },
     "execution_count": 51,
     "metadata": {},
     "output_type": "execute_result"
    }
   ],
   "source": [
    "fruits"
   ]
  },
  {
   "cell_type": "code",
   "execution_count": 70,
   "metadata": {},
   "outputs": [
    {
     "name": "stdout",
     "output_type": "stream",
     "text": [
      "Orange has 6 letters.\n",
      "Banana has 6 letters.\n",
      "Mango has 5 letters.\n",
      "Coconut has 7 letters.\n"
     ]
    }
   ],
   "source": [
    "for k in fruits:\n",
    "    print(k.title(),'has',len(k),'letters.')"
   ]
  },
  {
   "cell_type": "code",
   "execution_count": 55,
   "metadata": {},
   "outputs": [
    {
     "name": "stdout",
     "output_type": "stream",
     "text": [
      "1\n",
      "5\n",
      "9\n",
      "13\n",
      "17\n",
      "21\n",
      "25\n",
      "29\n",
      "33\n",
      "37\n",
      "41\n",
      "45\n",
      "49\n",
      "53\n"
     ]
    }
   ],
   "source": [
    "for i in range(1,55,4):\n",
    "    print(i)"
   ]
  },
  {
   "cell_type": "code",
   "execution_count": 71,
   "metadata": {},
   "outputs": [
    {
     "name": "stdout",
     "output_type": "stream",
     "text": [
      "1 \t 1\n",
      "2 \t 4\n",
      "3 \t 9\n",
      "4 \t 16\n",
      "5 \t 25\n",
      "6 \t 36\n",
      "7 \t 49\n",
      "8 \t 64\n",
      "9 \t 81\n"
     ]
    }
   ],
   "source": [
    "for i in range(1,10):\n",
    "    print(i,'\\t',i**2)"
   ]
  },
  {
   "cell_type": "markdown",
   "metadata": {},
   "source": [
    "# 1. Download gapminder dataset\n",
    "\n",
    "http://swcarpentry.github.io/python-novice-gapminder/files/python-novice-gapminder-data.zip"
   ]
  },
  {
   "cell_type": "code",
   "execution_count": 2,
   "metadata": {
    "scrolled": true
   },
   "outputs": [
    {
     "name": "stderr",
     "output_type": "stream",
     "text": [
      "  % Total    % Received % Xferd  Average Speed   Time    Time     Time  Current\n",
      "                                 Dload  Upload   Total   Spent    Left  Speed\n",
      "\r",
      "  0     0    0     0    0     0      0      0 --:--:-- --:--:-- --:--:--     0\r",
      "100 38471  100 38471    0     0   157k      0 --:--:-- --:--:-- --:--:--  157k\n"
     ]
    }
   ],
   "source": [
    "%%bash\n",
    "curl -O http://swcarpentry.github.io/python-novice-gapminder/files/python-novice-gapminder-data.zip"
   ]
  },
  {
   "cell_type": "code",
   "execution_count": 75,
   "metadata": {},
   "outputs": [
    {
     "name": "stdout",
     "output_type": "stream",
     "text": [
      "\u001b[34mdata\u001b[m\u001b[m/                             python-novice-gapminder-data.zip\r\n",
      "ngg_notes.ipynb\r\n"
     ]
    }
   ],
   "source": [
    "ls"
   ]
  },
  {
   "cell_type": "code",
   "execution_count": 5,
   "metadata": {},
   "outputs": [
    {
     "name": "stdout",
     "output_type": "stream",
     "text": [
      "Archive:  python-novice-gapminder-data.zip\n",
      "  inflating: data/gapminder_all.csv  \n",
      "  inflating: data/gapminder_gdp_africa.csv  \n",
      "  inflating: data/gapminder_gdp_americas.csv  \n",
      "  inflating: data/gapminder_gdp_asia.csv  \n",
      "  inflating: data/gapminder_gdp_europe.csv  \n",
      "  inflating: data/gapminder_gdp_oceania.csv  \n"
     ]
    }
   ],
   "source": [
    "%%bash\n",
    "unzip python-novice-gapminder-data.zip"
   ]
  },
  {
   "cell_type": "markdown",
   "metadata": {},
   "source": [
    "gross domestic product; measure of a continent's output"
   ]
  },
  {
   "cell_type": "code",
   "execution_count": 76,
   "metadata": {},
   "outputs": [
    {
     "name": "stdout",
     "output_type": "stream",
     "text": [
      "\u001b[34mdata\u001b[m\u001b[m/                             python-novice-gapminder-data.zip\r\n",
      "ngg_notes.ipynb\r\n"
     ]
    }
   ],
   "source": [
    "ls"
   ]
  },
  {
   "cell_type": "code",
   "execution_count": 77,
   "metadata": {},
   "outputs": [
    {
     "name": "stdout",
     "output_type": "stream",
     "text": [
      "/Users/grachetng/Desktop/11-1-2018_Carp.Python/data\n"
     ]
    }
   ],
   "source": [
    "cd data/"
   ]
  },
  {
   "cell_type": "code",
   "execution_count": 78,
   "metadata": {},
   "outputs": [
    {
     "name": "stdout",
     "output_type": "stream",
     "text": [
      "gapminder_all.csv           gapminder_gdp_asia.csv\r\n",
      "gapminder_gdp_africa.csv    gapminder_gdp_europe.csv\r\n",
      "gapminder_gdp_americas.csv  gapminder_gdp_oceania.csv\r\n"
     ]
    }
   ],
   "source": [
    "ls"
   ]
  },
  {
   "cell_type": "code",
   "execution_count": 83,
   "metadata": {
    "scrolled": true
   },
   "outputs": [
    {
     "name": "stdout",
     "output_type": "stream",
     "text": [
      "country,gdpPercap_1952,gdpPercap_1957,gdpPercap_1962,gdpPercap_1967,gdpPercap_1972,gdpPercap_1977,gdpPercap_1982,gdpPercap_1987,gdpPercap_1992,gdpPercap_1997,gdpPercap_2002,gdpPercap_2007\n",
      "Algeria,2449.008185,3013.976023,2550.81688,3246.991771,4182.663766,4910.416756,5745.160213,5681.358539,5023.216647,4797.295051,5288.040382,6223.367465\n",
      "Angola,3520.610273,3827.940465,4269.276742,5522.776375,5473.288005,3008.647355,2756.953672,2430.208311,2627.845685,2277.140884,2773.287312,4797.231267\n",
      "Benin,1062.7522,959.6010805,949.4990641,1035.831411,1085.796879,1029.161251,1277.897616,1225.85601,1191.207681,1232.975292,1372.877931,1441.284873\n",
      "Botswana,851.2411407,918.2325349,983.6539764,1214.709294,2263.611114,3214.857818,4551.14215,6205.88385,7954.111645,8647.142313,11003.60508,12569.85177\n",
      "Burkina Faso,543.2552413,617.1834648,722.5120206,794.8265597,854.7359763,743.3870368,807.1985855,912.0631417,931.7527731,946.2949618,1037.645221,1217.032994\n",
      "Burundi,339.2964587,379.5646281,355.2032273,412.9775136,464.0995039,556.1032651,559.603231,621.8188189,631.6998778,463.1151478,446.4035126,430.0706916\n",
      "Cameroon,1172.667655,1313.048099,1399.607441,1508.453148,1684.146528,1783.432873,2367.983282,2602.664206,1793.163278,1694.337469,1934.011449,2042.09524\n",
      "Central African Republic,1071.310713,1190.844328,1193.068753,1136.056615,1070.013275,1109.374338,956.7529907,844.8763504,747.9055252,740.5063317,738.6906068,706.016537\n",
      "Chad,1178.665927,1308.495577,1389.817618,1196.810565,1104.103987,1133.98495,797.9081006,952.386129,1058.0643,1004.961353,1156.18186,1704.063724\n"
     ]
    }
   ],
   "source": [
    "%%bash\n",
    "head gapminder_gdp_africa.csv"
   ]
  },
  {
   "cell_type": "markdown",
   "metadata": {},
   "source": [
    "# 2. Import data into DataFrames"
   ]
  },
  {
   "cell_type": "code",
   "execution_count": 85,
   "metadata": {},
   "outputs": [],
   "source": [
    "import pandas as pd"
   ]
  },
  {
   "cell_type": "code",
   "execution_count": 348,
   "metadata": {},
   "outputs": [],
   "source": [
    "data=pd.read_csv('gapminder_gdp_oceania.csv', index_col='country')"
   ]
  },
  {
   "cell_type": "code",
   "execution_count": 349,
   "metadata": {},
   "outputs": [
    {
     "data": {
      "text/html": [
       "<div>\n",
       "<style scoped>\n",
       "    .dataframe tbody tr th:only-of-type {\n",
       "        vertical-align: middle;\n",
       "    }\n",
       "\n",
       "    .dataframe tbody tr th {\n",
       "        vertical-align: top;\n",
       "    }\n",
       "\n",
       "    .dataframe thead th {\n",
       "        text-align: right;\n",
       "    }\n",
       "</style>\n",
       "<table border=\"1\" class=\"dataframe\">\n",
       "  <thead>\n",
       "    <tr style=\"text-align: right;\">\n",
       "      <th></th>\n",
       "      <th>gdpPercap_1952</th>\n",
       "      <th>gdpPercap_1957</th>\n",
       "      <th>gdpPercap_1962</th>\n",
       "      <th>gdpPercap_1967</th>\n",
       "      <th>gdpPercap_1972</th>\n",
       "      <th>gdpPercap_1977</th>\n",
       "      <th>gdpPercap_1982</th>\n",
       "      <th>gdpPercap_1987</th>\n",
       "      <th>gdpPercap_1992</th>\n",
       "      <th>gdpPercap_1997</th>\n",
       "      <th>gdpPercap_2002</th>\n",
       "      <th>gdpPercap_2007</th>\n",
       "    </tr>\n",
       "    <tr>\n",
       "      <th>country</th>\n",
       "      <th></th>\n",
       "      <th></th>\n",
       "      <th></th>\n",
       "      <th></th>\n",
       "      <th></th>\n",
       "      <th></th>\n",
       "      <th></th>\n",
       "      <th></th>\n",
       "      <th></th>\n",
       "      <th></th>\n",
       "      <th></th>\n",
       "      <th></th>\n",
       "    </tr>\n",
       "  </thead>\n",
       "  <tbody>\n",
       "    <tr>\n",
       "      <th>Australia</th>\n",
       "      <td>10039.59564</td>\n",
       "      <td>10949.64959</td>\n",
       "      <td>12217.22686</td>\n",
       "      <td>14526.12465</td>\n",
       "      <td>16788.62948</td>\n",
       "      <td>18334.19751</td>\n",
       "      <td>19477.00928</td>\n",
       "      <td>21888.88903</td>\n",
       "      <td>23424.76683</td>\n",
       "      <td>26997.93657</td>\n",
       "      <td>30687.75473</td>\n",
       "      <td>34435.36744</td>\n",
       "    </tr>\n",
       "    <tr>\n",
       "      <th>New Zealand</th>\n",
       "      <td>10556.57566</td>\n",
       "      <td>12247.39532</td>\n",
       "      <td>13175.67800</td>\n",
       "      <td>14463.91893</td>\n",
       "      <td>16046.03728</td>\n",
       "      <td>16233.71770</td>\n",
       "      <td>17632.41040</td>\n",
       "      <td>19007.19129</td>\n",
       "      <td>18363.32494</td>\n",
       "      <td>21050.41377</td>\n",
       "      <td>23189.80135</td>\n",
       "      <td>25185.00911</td>\n",
       "    </tr>\n",
       "  </tbody>\n",
       "</table>\n",
       "</div>"
      ],
      "text/plain": [
       "             gdpPercap_1952  gdpPercap_1957  gdpPercap_1962  gdpPercap_1967  \\\n",
       "country                                                                       \n",
       "Australia       10039.59564     10949.64959     12217.22686     14526.12465   \n",
       "New Zealand     10556.57566     12247.39532     13175.67800     14463.91893   \n",
       "\n",
       "             gdpPercap_1972  gdpPercap_1977  gdpPercap_1982  gdpPercap_1987  \\\n",
       "country                                                                       \n",
       "Australia       16788.62948     18334.19751     19477.00928     21888.88903   \n",
       "New Zealand     16046.03728     16233.71770     17632.41040     19007.19129   \n",
       "\n",
       "             gdpPercap_1992  gdpPercap_1997  gdpPercap_2002  gdpPercap_2007  \n",
       "country                                                                      \n",
       "Australia       23424.76683     26997.93657     30687.75473     34435.36744  \n",
       "New Zealand     18363.32494     21050.41377     23189.80135     25185.00911  "
      ]
     },
     "execution_count": 349,
     "metadata": {},
     "output_type": "execute_result"
    }
   ],
   "source": [
    "data.head()"
   ]
  },
  {
   "cell_type": "code",
   "execution_count": 94,
   "metadata": {},
   "outputs": [
    {
     "name": "stdout",
     "output_type": "stream",
     "text": [
      "<class 'pandas.core.frame.DataFrame'>\n",
      "Index: 2 entries, Australia to New Zealand\n",
      "Data columns (total 12 columns):\n",
      "gdpPercap_1952    2 non-null float64\n",
      "gdpPercap_1957    2 non-null float64\n",
      "gdpPercap_1962    2 non-null float64\n",
      "gdpPercap_1967    2 non-null float64\n",
      "gdpPercap_1972    2 non-null float64\n",
      "gdpPercap_1977    2 non-null float64\n",
      "gdpPercap_1982    2 non-null float64\n",
      "gdpPercap_1987    2 non-null float64\n",
      "gdpPercap_1992    2 non-null float64\n",
      "gdpPercap_1997    2 non-null float64\n",
      "gdpPercap_2002    2 non-null float64\n",
      "gdpPercap_2007    2 non-null float64\n",
      "dtypes: float64(12)\n",
      "memory usage: 208.0+ bytes\n"
     ]
    }
   ],
   "source": [
    "data.info()"
   ]
  },
  {
   "cell_type": "code",
   "execution_count": 96,
   "metadata": {},
   "outputs": [
    {
     "data": {
      "text/plain": [
       "Index(['gdpPercap_1952', 'gdpPercap_1957', 'gdpPercap_1962', 'gdpPercap_1967',\n",
       "       'gdpPercap_1972', 'gdpPercap_1977', 'gdpPercap_1982', 'gdpPercap_1987',\n",
       "       'gdpPercap_1992', 'gdpPercap_1997', 'gdpPercap_2002', 'gdpPercap_2007'],\n",
       "      dtype='object')"
      ]
     },
     "execution_count": 96,
     "metadata": {},
     "output_type": "execute_result"
    }
   ],
   "source": [
    "data.columns # this is a variable that has the columns names stored in it; don't use () bc it's not a method"
   ]
  },
  {
   "cell_type": "code",
   "execution_count": 98,
   "metadata": {
    "scrolled": true
   },
   "outputs": [
    {
     "data": {
      "text/html": [
       "<div>\n",
       "<style scoped>\n",
       "    .dataframe tbody tr th:only-of-type {\n",
       "        vertical-align: middle;\n",
       "    }\n",
       "\n",
       "    .dataframe tbody tr th {\n",
       "        vertical-align: top;\n",
       "    }\n",
       "\n",
       "    .dataframe thead th {\n",
       "        text-align: right;\n",
       "    }\n",
       "</style>\n",
       "<table border=\"1\" class=\"dataframe\">\n",
       "  <thead>\n",
       "    <tr style=\"text-align: right;\">\n",
       "      <th></th>\n",
       "      <th>gdpPercap_1952</th>\n",
       "      <th>gdpPercap_1957</th>\n",
       "      <th>gdpPercap_1962</th>\n",
       "      <th>gdpPercap_1967</th>\n",
       "      <th>gdpPercap_1972</th>\n",
       "      <th>gdpPercap_1977</th>\n",
       "      <th>gdpPercap_1982</th>\n",
       "      <th>gdpPercap_1987</th>\n",
       "      <th>gdpPercap_1992</th>\n",
       "      <th>gdpPercap_1997</th>\n",
       "      <th>gdpPercap_2002</th>\n",
       "      <th>gdpPercap_2007</th>\n",
       "    </tr>\n",
       "    <tr>\n",
       "      <th>country</th>\n",
       "      <th></th>\n",
       "      <th></th>\n",
       "      <th></th>\n",
       "      <th></th>\n",
       "      <th></th>\n",
       "      <th></th>\n",
       "      <th></th>\n",
       "      <th></th>\n",
       "      <th></th>\n",
       "      <th></th>\n",
       "      <th></th>\n",
       "      <th></th>\n",
       "    </tr>\n",
       "  </thead>\n",
       "  <tbody>\n",
       "    <tr>\n",
       "      <th>Australia</th>\n",
       "      <td>10039.59564</td>\n",
       "      <td>10949.64959</td>\n",
       "      <td>12217.22686</td>\n",
       "      <td>14526.12465</td>\n",
       "      <td>16788.62948</td>\n",
       "      <td>18334.19751</td>\n",
       "      <td>19477.00928</td>\n",
       "      <td>21888.88903</td>\n",
       "      <td>23424.76683</td>\n",
       "      <td>26997.93657</td>\n",
       "      <td>30687.75473</td>\n",
       "      <td>34435.36744</td>\n",
       "    </tr>\n",
       "    <tr>\n",
       "      <th>New Zealand</th>\n",
       "      <td>10556.57566</td>\n",
       "      <td>12247.39532</td>\n",
       "      <td>13175.67800</td>\n",
       "      <td>14463.91893</td>\n",
       "      <td>16046.03728</td>\n",
       "      <td>16233.71770</td>\n",
       "      <td>17632.41040</td>\n",
       "      <td>19007.19129</td>\n",
       "      <td>18363.32494</td>\n",
       "      <td>21050.41377</td>\n",
       "      <td>23189.80135</td>\n",
       "      <td>25185.00911</td>\n",
       "    </tr>\n",
       "  </tbody>\n",
       "</table>\n",
       "</div>"
      ],
      "text/plain": [
       "             gdpPercap_1952  gdpPercap_1957  gdpPercap_1962  gdpPercap_1967  \\\n",
       "country                                                                       \n",
       "Australia       10039.59564     10949.64959     12217.22686     14526.12465   \n",
       "New Zealand     10556.57566     12247.39532     13175.67800     14463.91893   \n",
       "\n",
       "             gdpPercap_1972  gdpPercap_1977  gdpPercap_1982  gdpPercap_1987  \\\n",
       "country                                                                       \n",
       "Australia       16788.62948     18334.19751     19477.00928     21888.88903   \n",
       "New Zealand     16046.03728     16233.71770     17632.41040     19007.19129   \n",
       "\n",
       "             gdpPercap_1992  gdpPercap_1997  gdpPercap_2002  gdpPercap_2007  \n",
       "country                                                                      \n",
       "Australia       23424.76683     26997.93657     30687.75473     34435.36744  \n",
       "New Zealand     18363.32494     21050.41377     23189.80135     25185.00911  "
      ]
     },
     "execution_count": 98,
     "metadata": {},
     "output_type": "execute_result"
    }
   ],
   "source": [
    "data.head()"
   ]
  },
  {
   "cell_type": "markdown",
   "metadata": {},
   "source": [
    "# 3. Obtain summary statistics"
   ]
  },
  {
   "cell_type": "code",
   "execution_count": 101,
   "metadata": {},
   "outputs": [
    {
     "data": {
      "text/html": [
       "<div>\n",
       "<style scoped>\n",
       "    .dataframe tbody tr th:only-of-type {\n",
       "        vertical-align: middle;\n",
       "    }\n",
       "\n",
       "    .dataframe tbody tr th {\n",
       "        vertical-align: top;\n",
       "    }\n",
       "\n",
       "    .dataframe thead th {\n",
       "        text-align: right;\n",
       "    }\n",
       "</style>\n",
       "<table border=\"1\" class=\"dataframe\">\n",
       "  <thead>\n",
       "    <tr style=\"text-align: right;\">\n",
       "      <th></th>\n",
       "      <th>gdpPercap_1952</th>\n",
       "      <th>gdpPercap_1957</th>\n",
       "      <th>gdpPercap_1962</th>\n",
       "      <th>gdpPercap_1967</th>\n",
       "      <th>gdpPercap_1972</th>\n",
       "      <th>gdpPercap_1977</th>\n",
       "      <th>gdpPercap_1982</th>\n",
       "      <th>gdpPercap_1987</th>\n",
       "      <th>gdpPercap_1992</th>\n",
       "      <th>gdpPercap_1997</th>\n",
       "      <th>gdpPercap_2002</th>\n",
       "      <th>gdpPercap_2007</th>\n",
       "    </tr>\n",
       "  </thead>\n",
       "  <tbody>\n",
       "    <tr>\n",
       "      <th>count</th>\n",
       "      <td>2.000000</td>\n",
       "      <td>2.000000</td>\n",
       "      <td>2.000000</td>\n",
       "      <td>2.000000</td>\n",
       "      <td>2.00000</td>\n",
       "      <td>2.000000</td>\n",
       "      <td>2.000000</td>\n",
       "      <td>2.000000</td>\n",
       "      <td>2.000000</td>\n",
       "      <td>2.000000</td>\n",
       "      <td>2.000000</td>\n",
       "      <td>2.000000</td>\n",
       "    </tr>\n",
       "    <tr>\n",
       "      <th>mean</th>\n",
       "      <td>10298.085650</td>\n",
       "      <td>11598.522455</td>\n",
       "      <td>12696.452430</td>\n",
       "      <td>14495.021790</td>\n",
       "      <td>16417.33338</td>\n",
       "      <td>17283.957605</td>\n",
       "      <td>18554.709840</td>\n",
       "      <td>20448.040160</td>\n",
       "      <td>20894.045885</td>\n",
       "      <td>24024.175170</td>\n",
       "      <td>26938.778040</td>\n",
       "      <td>29810.188275</td>\n",
       "    </tr>\n",
       "    <tr>\n",
       "      <th>std</th>\n",
       "      <td>365.560078</td>\n",
       "      <td>917.644806</td>\n",
       "      <td>677.727301</td>\n",
       "      <td>43.986086</td>\n",
       "      <td>525.09198</td>\n",
       "      <td>1485.263517</td>\n",
       "      <td>1304.328377</td>\n",
       "      <td>2037.668013</td>\n",
       "      <td>3578.979883</td>\n",
       "      <td>4205.533703</td>\n",
       "      <td>5301.853680</td>\n",
       "      <td>6540.991104</td>\n",
       "    </tr>\n",
       "    <tr>\n",
       "      <th>min</th>\n",
       "      <td>10039.595640</td>\n",
       "      <td>10949.649590</td>\n",
       "      <td>12217.226860</td>\n",
       "      <td>14463.918930</td>\n",
       "      <td>16046.03728</td>\n",
       "      <td>16233.717700</td>\n",
       "      <td>17632.410400</td>\n",
       "      <td>19007.191290</td>\n",
       "      <td>18363.324940</td>\n",
       "      <td>21050.413770</td>\n",
       "      <td>23189.801350</td>\n",
       "      <td>25185.009110</td>\n",
       "    </tr>\n",
       "    <tr>\n",
       "      <th>25%</th>\n",
       "      <td>10168.840645</td>\n",
       "      <td>11274.086022</td>\n",
       "      <td>12456.839645</td>\n",
       "      <td>14479.470360</td>\n",
       "      <td>16231.68533</td>\n",
       "      <td>16758.837652</td>\n",
       "      <td>18093.560120</td>\n",
       "      <td>19727.615725</td>\n",
       "      <td>19628.685413</td>\n",
       "      <td>22537.294470</td>\n",
       "      <td>25064.289695</td>\n",
       "      <td>27497.598692</td>\n",
       "    </tr>\n",
       "    <tr>\n",
       "      <th>50%</th>\n",
       "      <td>10298.085650</td>\n",
       "      <td>11598.522455</td>\n",
       "      <td>12696.452430</td>\n",
       "      <td>14495.021790</td>\n",
       "      <td>16417.33338</td>\n",
       "      <td>17283.957605</td>\n",
       "      <td>18554.709840</td>\n",
       "      <td>20448.040160</td>\n",
       "      <td>20894.045885</td>\n",
       "      <td>24024.175170</td>\n",
       "      <td>26938.778040</td>\n",
       "      <td>29810.188275</td>\n",
       "    </tr>\n",
       "    <tr>\n",
       "      <th>75%</th>\n",
       "      <td>10427.330655</td>\n",
       "      <td>11922.958888</td>\n",
       "      <td>12936.065215</td>\n",
       "      <td>14510.573220</td>\n",
       "      <td>16602.98143</td>\n",
       "      <td>17809.077557</td>\n",
       "      <td>19015.859560</td>\n",
       "      <td>21168.464595</td>\n",
       "      <td>22159.406358</td>\n",
       "      <td>25511.055870</td>\n",
       "      <td>28813.266385</td>\n",
       "      <td>32122.777857</td>\n",
       "    </tr>\n",
       "    <tr>\n",
       "      <th>max</th>\n",
       "      <td>10556.575660</td>\n",
       "      <td>12247.395320</td>\n",
       "      <td>13175.678000</td>\n",
       "      <td>14526.124650</td>\n",
       "      <td>16788.62948</td>\n",
       "      <td>18334.197510</td>\n",
       "      <td>19477.009280</td>\n",
       "      <td>21888.889030</td>\n",
       "      <td>23424.766830</td>\n",
       "      <td>26997.936570</td>\n",
       "      <td>30687.754730</td>\n",
       "      <td>34435.367440</td>\n",
       "    </tr>\n",
       "  </tbody>\n",
       "</table>\n",
       "</div>"
      ],
      "text/plain": [
       "       gdpPercap_1952  gdpPercap_1957  gdpPercap_1962  gdpPercap_1967  \\\n",
       "count        2.000000        2.000000        2.000000        2.000000   \n",
       "mean     10298.085650    11598.522455    12696.452430    14495.021790   \n",
       "std        365.560078      917.644806      677.727301       43.986086   \n",
       "min      10039.595640    10949.649590    12217.226860    14463.918930   \n",
       "25%      10168.840645    11274.086022    12456.839645    14479.470360   \n",
       "50%      10298.085650    11598.522455    12696.452430    14495.021790   \n",
       "75%      10427.330655    11922.958888    12936.065215    14510.573220   \n",
       "max      10556.575660    12247.395320    13175.678000    14526.124650   \n",
       "\n",
       "       gdpPercap_1972  gdpPercap_1977  gdpPercap_1982  gdpPercap_1987  \\\n",
       "count         2.00000        2.000000        2.000000        2.000000   \n",
       "mean      16417.33338    17283.957605    18554.709840    20448.040160   \n",
       "std         525.09198     1485.263517     1304.328377     2037.668013   \n",
       "min       16046.03728    16233.717700    17632.410400    19007.191290   \n",
       "25%       16231.68533    16758.837652    18093.560120    19727.615725   \n",
       "50%       16417.33338    17283.957605    18554.709840    20448.040160   \n",
       "75%       16602.98143    17809.077557    19015.859560    21168.464595   \n",
       "max       16788.62948    18334.197510    19477.009280    21888.889030   \n",
       "\n",
       "       gdpPercap_1992  gdpPercap_1997  gdpPercap_2002  gdpPercap_2007  \n",
       "count        2.000000        2.000000        2.000000        2.000000  \n",
       "mean     20894.045885    24024.175170    26938.778040    29810.188275  \n",
       "std       3578.979883     4205.533703     5301.853680     6540.991104  \n",
       "min      18363.324940    21050.413770    23189.801350    25185.009110  \n",
       "25%      19628.685413    22537.294470    25064.289695    27497.598692  \n",
       "50%      20894.045885    24024.175170    26938.778040    29810.188275  \n",
       "75%      22159.406358    25511.055870    28813.266385    32122.777857  \n",
       "max      23424.766830    26997.936570    30687.754730    34435.367440  "
      ]
     },
     "execution_count": 101,
     "metadata": {},
     "output_type": "execute_result"
    }
   ],
   "source": [
    "data.describe()"
   ]
  },
  {
   "cell_type": "markdown",
   "metadata": {},
   "source": [
    "# 4. Save to file"
   ]
  },
  {
   "cell_type": "code",
   "execution_count": 160,
   "metadata": {},
   "outputs": [],
   "source": [
    "data.describe().to_csv('oceania_summ_stats.csv')"
   ]
  },
  {
   "cell_type": "code",
   "execution_count": 161,
   "metadata": {
    "scrolled": true
   },
   "outputs": [
    {
     "name": "stdout",
     "output_type": "stream",
     "text": [
      "gapminder_all.csv           gapminder_gdp_europe.csv\r\n",
      "gapminder_gdp_africa.csv    gapminder_gdp_oceania.csv\r\n",
      "gapminder_gdp_americas.csv  oceania_summ_stats.csv\r\n",
      "gapminder_gdp_asia.csv\r\n"
     ]
    }
   ],
   "source": [
    "ls"
   ]
  },
  {
   "cell_type": "markdown",
   "metadata": {},
   "source": [
    "# Cheeky Exercise"
   ]
  },
  {
   "cell_type": "markdown",
   "metadata": {},
   "source": [
    "# 1. \n",
    "## A. Import `gapminder_gdp_americas.csv` as `americas`, \n",
    "## B. display summary statistics, and\n",
    "## C. save to `americas_summ_stats.csv`"
   ]
  },
  {
   "cell_type": "code",
   "execution_count": 146,
   "metadata": {},
   "outputs": [
    {
     "data": {
      "text/html": [
       "<div>\n",
       "<style scoped>\n",
       "    .dataframe tbody tr th:only-of-type {\n",
       "        vertical-align: middle;\n",
       "    }\n",
       "\n",
       "    .dataframe tbody tr th {\n",
       "        vertical-align: top;\n",
       "    }\n",
       "\n",
       "    .dataframe thead th {\n",
       "        text-align: right;\n",
       "    }\n",
       "</style>\n",
       "<table border=\"1\" class=\"dataframe\">\n",
       "  <thead>\n",
       "    <tr style=\"text-align: right;\">\n",
       "      <th></th>\n",
       "      <th>continent</th>\n",
       "      <th>gdpPercap_1952</th>\n",
       "      <th>gdpPercap_1957</th>\n",
       "      <th>gdpPercap_1962</th>\n",
       "      <th>gdpPercap_1967</th>\n",
       "      <th>gdpPercap_1972</th>\n",
       "      <th>gdpPercap_1977</th>\n",
       "      <th>gdpPercap_1982</th>\n",
       "      <th>gdpPercap_1987</th>\n",
       "      <th>gdpPercap_1992</th>\n",
       "      <th>gdpPercap_1997</th>\n",
       "      <th>gdpPercap_2002</th>\n",
       "      <th>gdpPercap_2007</th>\n",
       "    </tr>\n",
       "    <tr>\n",
       "      <th>country</th>\n",
       "      <th></th>\n",
       "      <th></th>\n",
       "      <th></th>\n",
       "      <th></th>\n",
       "      <th></th>\n",
       "      <th></th>\n",
       "      <th></th>\n",
       "      <th></th>\n",
       "      <th></th>\n",
       "      <th></th>\n",
       "      <th></th>\n",
       "      <th></th>\n",
       "      <th></th>\n",
       "    </tr>\n",
       "  </thead>\n",
       "  <tbody>\n",
       "    <tr>\n",
       "      <th>Argentina</th>\n",
       "      <td>Americas</td>\n",
       "      <td>5911.315053</td>\n",
       "      <td>6856.856212</td>\n",
       "      <td>7133.166023</td>\n",
       "      <td>8052.953021</td>\n",
       "      <td>9443.038526</td>\n",
       "      <td>10079.026740</td>\n",
       "      <td>8997.897412</td>\n",
       "      <td>9139.671389</td>\n",
       "      <td>9308.418710</td>\n",
       "      <td>10967.281950</td>\n",
       "      <td>8797.640716</td>\n",
       "      <td>12779.379640</td>\n",
       "    </tr>\n",
       "    <tr>\n",
       "      <th>Bolivia</th>\n",
       "      <td>Americas</td>\n",
       "      <td>2677.326347</td>\n",
       "      <td>2127.686326</td>\n",
       "      <td>2180.972546</td>\n",
       "      <td>2586.886053</td>\n",
       "      <td>2980.331339</td>\n",
       "      <td>3548.097832</td>\n",
       "      <td>3156.510452</td>\n",
       "      <td>2753.691490</td>\n",
       "      <td>2961.699694</td>\n",
       "      <td>3326.143191</td>\n",
       "      <td>3413.262690</td>\n",
       "      <td>3822.137084</td>\n",
       "    </tr>\n",
       "    <tr>\n",
       "      <th>Brazil</th>\n",
       "      <td>Americas</td>\n",
       "      <td>2108.944355</td>\n",
       "      <td>2487.365989</td>\n",
       "      <td>3336.585802</td>\n",
       "      <td>3429.864357</td>\n",
       "      <td>4985.711467</td>\n",
       "      <td>6660.118654</td>\n",
       "      <td>7030.835878</td>\n",
       "      <td>7807.095818</td>\n",
       "      <td>6950.283021</td>\n",
       "      <td>7957.980824</td>\n",
       "      <td>8131.212843</td>\n",
       "      <td>9065.800825</td>\n",
       "    </tr>\n",
       "    <tr>\n",
       "      <th>Canada</th>\n",
       "      <td>Americas</td>\n",
       "      <td>11367.161120</td>\n",
       "      <td>12489.950060</td>\n",
       "      <td>13462.485550</td>\n",
       "      <td>16076.588030</td>\n",
       "      <td>18970.570860</td>\n",
       "      <td>22090.883060</td>\n",
       "      <td>22898.792140</td>\n",
       "      <td>26626.515030</td>\n",
       "      <td>26342.884260</td>\n",
       "      <td>28954.925890</td>\n",
       "      <td>33328.965070</td>\n",
       "      <td>36319.235010</td>\n",
       "    </tr>\n",
       "    <tr>\n",
       "      <th>Chile</th>\n",
       "      <td>Americas</td>\n",
       "      <td>3939.978789</td>\n",
       "      <td>4315.622723</td>\n",
       "      <td>4519.094331</td>\n",
       "      <td>5106.654313</td>\n",
       "      <td>5494.024437</td>\n",
       "      <td>4756.763836</td>\n",
       "      <td>5095.665738</td>\n",
       "      <td>5547.063754</td>\n",
       "      <td>7596.125964</td>\n",
       "      <td>10118.053180</td>\n",
       "      <td>10778.783850</td>\n",
       "      <td>13171.638850</td>\n",
       "    </tr>\n",
       "  </tbody>\n",
       "</table>\n",
       "</div>"
      ],
      "text/plain": [
       "          continent  gdpPercap_1952  gdpPercap_1957  gdpPercap_1962  \\\n",
       "country                                                               \n",
       "Argentina  Americas     5911.315053     6856.856212     7133.166023   \n",
       "Bolivia    Americas     2677.326347     2127.686326     2180.972546   \n",
       "Brazil     Americas     2108.944355     2487.365989     3336.585802   \n",
       "Canada     Americas    11367.161120    12489.950060    13462.485550   \n",
       "Chile      Americas     3939.978789     4315.622723     4519.094331   \n",
       "\n",
       "           gdpPercap_1967  gdpPercap_1972  gdpPercap_1977  gdpPercap_1982  \\\n",
       "country                                                                     \n",
       "Argentina     8052.953021     9443.038526    10079.026740     8997.897412   \n",
       "Bolivia       2586.886053     2980.331339     3548.097832     3156.510452   \n",
       "Brazil        3429.864357     4985.711467     6660.118654     7030.835878   \n",
       "Canada       16076.588030    18970.570860    22090.883060    22898.792140   \n",
       "Chile         5106.654313     5494.024437     4756.763836     5095.665738   \n",
       "\n",
       "           gdpPercap_1987  gdpPercap_1992  gdpPercap_1997  gdpPercap_2002  \\\n",
       "country                                                                     \n",
       "Argentina     9139.671389     9308.418710    10967.281950     8797.640716   \n",
       "Bolivia       2753.691490     2961.699694     3326.143191     3413.262690   \n",
       "Brazil        7807.095818     6950.283021     7957.980824     8131.212843   \n",
       "Canada       26626.515030    26342.884260    28954.925890    33328.965070   \n",
       "Chile         5547.063754     7596.125964    10118.053180    10778.783850   \n",
       "\n",
       "           gdpPercap_2007  \n",
       "country                    \n",
       "Argentina    12779.379640  \n",
       "Bolivia       3822.137084  \n",
       "Brazil        9065.800825  \n",
       "Canada       36319.235010  \n",
       "Chile        13171.638850  "
      ]
     },
     "execution_count": 146,
     "metadata": {},
     "output_type": "execute_result"
    }
   ],
   "source": [
    "americas=pd.read_csv('gapminder_gdp_americas.csv', index_col='country')\n",
    "americas.head()"
   ]
  },
  {
   "cell_type": "code",
   "execution_count": 165,
   "metadata": {},
   "outputs": [
    {
     "data": {
      "text/html": [
       "<div>\n",
       "<style scoped>\n",
       "    .dataframe tbody tr th:only-of-type {\n",
       "        vertical-align: middle;\n",
       "    }\n",
       "\n",
       "    .dataframe tbody tr th {\n",
       "        vertical-align: top;\n",
       "    }\n",
       "\n",
       "    .dataframe thead th {\n",
       "        text-align: right;\n",
       "    }\n",
       "</style>\n",
       "<table border=\"1\" class=\"dataframe\">\n",
       "  <thead>\n",
       "    <tr style=\"text-align: right;\">\n",
       "      <th></th>\n",
       "      <th>gdpPercap_1952</th>\n",
       "      <th>gdpPercap_1957</th>\n",
       "      <th>gdpPercap_1962</th>\n",
       "      <th>gdpPercap_1967</th>\n",
       "      <th>gdpPercap_1972</th>\n",
       "      <th>gdpPercap_1977</th>\n",
       "      <th>gdpPercap_1982</th>\n",
       "      <th>gdpPercap_1987</th>\n",
       "      <th>gdpPercap_1992</th>\n",
       "      <th>gdpPercap_1997</th>\n",
       "      <th>gdpPercap_2002</th>\n",
       "      <th>gdpPercap_2007</th>\n",
       "    </tr>\n",
       "  </thead>\n",
       "  <tbody>\n",
       "    <tr>\n",
       "      <th>count</th>\n",
       "      <td>25.000000</td>\n",
       "      <td>25.000000</td>\n",
       "      <td>25.000000</td>\n",
       "      <td>25.000000</td>\n",
       "      <td>25.000000</td>\n",
       "      <td>25.000000</td>\n",
       "      <td>25.000000</td>\n",
       "      <td>25.000000</td>\n",
       "      <td>25.000000</td>\n",
       "      <td>25.000000</td>\n",
       "      <td>25.000000</td>\n",
       "      <td>25.000000</td>\n",
       "    </tr>\n",
       "    <tr>\n",
       "      <th>mean</th>\n",
       "      <td>4079.062552</td>\n",
       "      <td>4616.043733</td>\n",
       "      <td>4901.541870</td>\n",
       "      <td>5668.253496</td>\n",
       "      <td>6491.334139</td>\n",
       "      <td>7352.007126</td>\n",
       "      <td>7506.737088</td>\n",
       "      <td>7793.400261</td>\n",
       "      <td>8044.934406</td>\n",
       "      <td>8889.300863</td>\n",
       "      <td>9287.677107</td>\n",
       "      <td>11003.031625</td>\n",
       "    </tr>\n",
       "    <tr>\n",
       "      <th>std</th>\n",
       "      <td>3001.727522</td>\n",
       "      <td>3312.381083</td>\n",
       "      <td>3421.740569</td>\n",
       "      <td>4160.885560</td>\n",
       "      <td>4754.404329</td>\n",
       "      <td>5355.602518</td>\n",
       "      <td>5530.490471</td>\n",
       "      <td>6665.039509</td>\n",
       "      <td>7047.089191</td>\n",
       "      <td>7874.225145</td>\n",
       "      <td>8895.817785</td>\n",
       "      <td>9713.209302</td>\n",
       "    </tr>\n",
       "    <tr>\n",
       "      <th>min</th>\n",
       "      <td>1397.717137</td>\n",
       "      <td>1544.402995</td>\n",
       "      <td>1662.137359</td>\n",
       "      <td>1452.057666</td>\n",
       "      <td>1654.456946</td>\n",
       "      <td>1874.298931</td>\n",
       "      <td>2011.159549</td>\n",
       "      <td>1823.015995</td>\n",
       "      <td>1456.309517</td>\n",
       "      <td>1341.726931</td>\n",
       "      <td>1270.364932</td>\n",
       "      <td>1201.637154</td>\n",
       "    </tr>\n",
       "    <tr>\n",
       "      <th>25%</th>\n",
       "      <td>2428.237769</td>\n",
       "      <td>2487.365989</td>\n",
       "      <td>2750.364446</td>\n",
       "      <td>3242.531147</td>\n",
       "      <td>4031.408271</td>\n",
       "      <td>4756.763836</td>\n",
       "      <td>4258.503604</td>\n",
       "      <td>4140.442097</td>\n",
       "      <td>4439.450840</td>\n",
       "      <td>4684.313807</td>\n",
       "      <td>4858.347495</td>\n",
       "      <td>5728.353514</td>\n",
       "    </tr>\n",
       "    <tr>\n",
       "      <th>50%</th>\n",
       "      <td>3048.302900</td>\n",
       "      <td>3780.546651</td>\n",
       "      <td>4086.114078</td>\n",
       "      <td>4643.393534</td>\n",
       "      <td>5305.445256</td>\n",
       "      <td>6281.290855</td>\n",
       "      <td>6434.501797</td>\n",
       "      <td>6360.943444</td>\n",
       "      <td>6618.743050</td>\n",
       "      <td>7113.692252</td>\n",
       "      <td>6994.774861</td>\n",
       "      <td>8948.102923</td>\n",
       "    </tr>\n",
       "    <tr>\n",
       "      <th>75%</th>\n",
       "      <td>3939.978789</td>\n",
       "      <td>4756.525781</td>\n",
       "      <td>5180.755910</td>\n",
       "      <td>5788.093330</td>\n",
       "      <td>6809.406690</td>\n",
       "      <td>7674.929108</td>\n",
       "      <td>8997.897412</td>\n",
       "      <td>7807.095818</td>\n",
       "      <td>8137.004775</td>\n",
       "      <td>9767.297530</td>\n",
       "      <td>8797.640716</td>\n",
       "      <td>11977.574960</td>\n",
       "    </tr>\n",
       "    <tr>\n",
       "      <th>max</th>\n",
       "      <td>13990.482080</td>\n",
       "      <td>14847.127120</td>\n",
       "      <td>16173.145860</td>\n",
       "      <td>19530.365570</td>\n",
       "      <td>21806.035940</td>\n",
       "      <td>24072.632130</td>\n",
       "      <td>25009.559140</td>\n",
       "      <td>29884.350410</td>\n",
       "      <td>32003.932240</td>\n",
       "      <td>35767.433030</td>\n",
       "      <td>39097.099550</td>\n",
       "      <td>42951.653090</td>\n",
       "    </tr>\n",
       "  </tbody>\n",
       "</table>\n",
       "</div>"
      ],
      "text/plain": [
       "       gdpPercap_1952  gdpPercap_1957  gdpPercap_1962  gdpPercap_1967  \\\n",
       "count       25.000000       25.000000       25.000000       25.000000   \n",
       "mean      4079.062552     4616.043733     4901.541870     5668.253496   \n",
       "std       3001.727522     3312.381083     3421.740569     4160.885560   \n",
       "min       1397.717137     1544.402995     1662.137359     1452.057666   \n",
       "25%       2428.237769     2487.365989     2750.364446     3242.531147   \n",
       "50%       3048.302900     3780.546651     4086.114078     4643.393534   \n",
       "75%       3939.978789     4756.525781     5180.755910     5788.093330   \n",
       "max      13990.482080    14847.127120    16173.145860    19530.365570   \n",
       "\n",
       "       gdpPercap_1972  gdpPercap_1977  gdpPercap_1982  gdpPercap_1987  \\\n",
       "count       25.000000       25.000000       25.000000       25.000000   \n",
       "mean      6491.334139     7352.007126     7506.737088     7793.400261   \n",
       "std       4754.404329     5355.602518     5530.490471     6665.039509   \n",
       "min       1654.456946     1874.298931     2011.159549     1823.015995   \n",
       "25%       4031.408271     4756.763836     4258.503604     4140.442097   \n",
       "50%       5305.445256     6281.290855     6434.501797     6360.943444   \n",
       "75%       6809.406690     7674.929108     8997.897412     7807.095818   \n",
       "max      21806.035940    24072.632130    25009.559140    29884.350410   \n",
       "\n",
       "       gdpPercap_1992  gdpPercap_1997  gdpPercap_2002  gdpPercap_2007  \n",
       "count       25.000000       25.000000       25.000000       25.000000  \n",
       "mean      8044.934406     8889.300863     9287.677107    11003.031625  \n",
       "std       7047.089191     7874.225145     8895.817785     9713.209302  \n",
       "min       1456.309517     1341.726931     1270.364932     1201.637154  \n",
       "25%       4439.450840     4684.313807     4858.347495     5728.353514  \n",
       "50%       6618.743050     7113.692252     6994.774861     8948.102923  \n",
       "75%       8137.004775     9767.297530     8797.640716    11977.574960  \n",
       "max      32003.932240    35767.433030    39097.099550    42951.653090  "
      ]
     },
     "execution_count": 165,
     "metadata": {},
     "output_type": "execute_result"
    }
   ],
   "source": [
    "americas.describe()"
   ]
  },
  {
   "cell_type": "code",
   "execution_count": 164,
   "metadata": {
    "scrolled": true
   },
   "outputs": [],
   "source": [
    "americas.describe().to_csv('americas_summ_stats.csv')"
   ]
  },
  {
   "cell_type": "code",
   "execution_count": 135,
   "metadata": {},
   "outputs": [
    {
     "name": "stdout",
     "output_type": "stream",
     "text": [
      "<class 'pandas.core.frame.DataFrame'>\n",
      "Index: 25 entries, Argentina to Venezuela\n",
      "Data columns (total 13 columns):\n",
      "continent         25 non-null object\n",
      "gdpPercap_1952    25 non-null float64\n",
      "gdpPercap_1957    25 non-null float64\n",
      "gdpPercap_1962    25 non-null float64\n",
      "gdpPercap_1967    25 non-null float64\n",
      "gdpPercap_1972    25 non-null float64\n",
      "gdpPercap_1977    25 non-null float64\n",
      "gdpPercap_1982    25 non-null float64\n",
      "gdpPercap_1987    25 non-null float64\n",
      "gdpPercap_1992    25 non-null float64\n",
      "gdpPercap_1997    25 non-null float64\n",
      "gdpPercap_2002    25 non-null float64\n",
      "gdpPercap_2007    25 non-null float64\n",
      "dtypes: float64(12), object(1)\n",
      "memory usage: 3.4+ KB\n"
     ]
    }
   ],
   "source": [
    "americas.info()"
   ]
  },
  {
   "cell_type": "code",
   "execution_count": 136,
   "metadata": {},
   "outputs": [
    {
     "data": {
      "text/plain": [
       "Index(['continent', 'gdpPercap_1952', 'gdpPercap_1957', 'gdpPercap_1962',\n",
       "       'gdpPercap_1967', 'gdpPercap_1972', 'gdpPercap_1977', 'gdpPercap_1982',\n",
       "       'gdpPercap_1987', 'gdpPercap_1992', 'gdpPercap_1997', 'gdpPercap_2002',\n",
       "       'gdpPercap_2007'],\n",
       "      dtype='object')"
      ]
     },
     "execution_count": 136,
     "metadata": {},
     "output_type": "execute_result"
    }
   ],
   "source": [
    "americas.columns"
   ]
  },
  {
   "cell_type": "markdown",
   "metadata": {},
   "source": [
    "# 2. \n",
    "## A. Transpose `americas`, and\n",
    "## B. save to `americasT_summ_stats.csv`"
   ]
  },
  {
   "cell_type": "code",
   "execution_count": 154,
   "metadata": {
    "scrolled": false
   },
   "outputs": [
    {
     "data": {
      "text/html": [
       "<div>\n",
       "<style scoped>\n",
       "    .dataframe tbody tr th:only-of-type {\n",
       "        vertical-align: middle;\n",
       "    }\n",
       "\n",
       "    .dataframe tbody tr th {\n",
       "        vertical-align: top;\n",
       "    }\n",
       "\n",
       "    .dataframe thead th {\n",
       "        text-align: right;\n",
       "    }\n",
       "</style>\n",
       "<table border=\"1\" class=\"dataframe\">\n",
       "  <thead>\n",
       "    <tr style=\"text-align: right;\">\n",
       "      <th>country</th>\n",
       "      <th>Argentina</th>\n",
       "      <th>Bolivia</th>\n",
       "      <th>Brazil</th>\n",
       "      <th>Canada</th>\n",
       "      <th>Chile</th>\n",
       "      <th>Colombia</th>\n",
       "      <th>Costa Rica</th>\n",
       "      <th>Cuba</th>\n",
       "      <th>Dominican Republic</th>\n",
       "      <th>Ecuador</th>\n",
       "      <th>...</th>\n",
       "      <th>Mexico</th>\n",
       "      <th>Nicaragua</th>\n",
       "      <th>Panama</th>\n",
       "      <th>Paraguay</th>\n",
       "      <th>Peru</th>\n",
       "      <th>Puerto Rico</th>\n",
       "      <th>Trinidad and Tobago</th>\n",
       "      <th>United States</th>\n",
       "      <th>Uruguay</th>\n",
       "      <th>Venezuela</th>\n",
       "    </tr>\n",
       "  </thead>\n",
       "  <tbody>\n",
       "    <tr>\n",
       "      <th>continent</th>\n",
       "      <td>Americas</td>\n",
       "      <td>Americas</td>\n",
       "      <td>Americas</td>\n",
       "      <td>Americas</td>\n",
       "      <td>Americas</td>\n",
       "      <td>Americas</td>\n",
       "      <td>Americas</td>\n",
       "      <td>Americas</td>\n",
       "      <td>Americas</td>\n",
       "      <td>Americas</td>\n",
       "      <td>...</td>\n",
       "      <td>Americas</td>\n",
       "      <td>Americas</td>\n",
       "      <td>Americas</td>\n",
       "      <td>Americas</td>\n",
       "      <td>Americas</td>\n",
       "      <td>Americas</td>\n",
       "      <td>Americas</td>\n",
       "      <td>Americas</td>\n",
       "      <td>Americas</td>\n",
       "      <td>Americas</td>\n",
       "    </tr>\n",
       "    <tr>\n",
       "      <th>gdpPercap_1952</th>\n",
       "      <td>5911.32</td>\n",
       "      <td>2677.33</td>\n",
       "      <td>2108.94</td>\n",
       "      <td>11367.2</td>\n",
       "      <td>3939.98</td>\n",
       "      <td>2144.12</td>\n",
       "      <td>2627.01</td>\n",
       "      <td>5586.54</td>\n",
       "      <td>1397.72</td>\n",
       "      <td>3522.11</td>\n",
       "      <td>...</td>\n",
       "      <td>3478.13</td>\n",
       "      <td>3112.36</td>\n",
       "      <td>2480.38</td>\n",
       "      <td>1952.31</td>\n",
       "      <td>3758.52</td>\n",
       "      <td>3081.96</td>\n",
       "      <td>3023.27</td>\n",
       "      <td>13990.5</td>\n",
       "      <td>5716.77</td>\n",
       "      <td>7689.8</td>\n",
       "    </tr>\n",
       "    <tr>\n",
       "      <th>gdpPercap_1957</th>\n",
       "      <td>6856.86</td>\n",
       "      <td>2127.69</td>\n",
       "      <td>2487.37</td>\n",
       "      <td>12490</td>\n",
       "      <td>4315.62</td>\n",
       "      <td>2323.81</td>\n",
       "      <td>2990.01</td>\n",
       "      <td>6092.17</td>\n",
       "      <td>1544.4</td>\n",
       "      <td>3780.55</td>\n",
       "      <td>...</td>\n",
       "      <td>4131.55</td>\n",
       "      <td>3457.42</td>\n",
       "      <td>2961.8</td>\n",
       "      <td>2046.15</td>\n",
       "      <td>4245.26</td>\n",
       "      <td>3907.16</td>\n",
       "      <td>4100.39</td>\n",
       "      <td>14847.1</td>\n",
       "      <td>6150.77</td>\n",
       "      <td>9802.47</td>\n",
       "    </tr>\n",
       "    <tr>\n",
       "      <th>gdpPercap_1962</th>\n",
       "      <td>7133.17</td>\n",
       "      <td>2180.97</td>\n",
       "      <td>3336.59</td>\n",
       "      <td>13462.5</td>\n",
       "      <td>4519.09</td>\n",
       "      <td>2492.35</td>\n",
       "      <td>3460.94</td>\n",
       "      <td>5180.76</td>\n",
       "      <td>1662.14</td>\n",
       "      <td>4086.11</td>\n",
       "      <td>...</td>\n",
       "      <td>4581.61</td>\n",
       "      <td>3634.36</td>\n",
       "      <td>3536.54</td>\n",
       "      <td>2148.03</td>\n",
       "      <td>4957.04</td>\n",
       "      <td>5108.34</td>\n",
       "      <td>4997.52</td>\n",
       "      <td>16173.1</td>\n",
       "      <td>5603.36</td>\n",
       "      <td>8422.97</td>\n",
       "    </tr>\n",
       "    <tr>\n",
       "      <th>gdpPercap_1967</th>\n",
       "      <td>8052.95</td>\n",
       "      <td>2586.89</td>\n",
       "      <td>3429.86</td>\n",
       "      <td>16076.6</td>\n",
       "      <td>5106.65</td>\n",
       "      <td>2678.73</td>\n",
       "      <td>4161.73</td>\n",
       "      <td>5690.27</td>\n",
       "      <td>1653.72</td>\n",
       "      <td>4579.07</td>\n",
       "      <td>...</td>\n",
       "      <td>5754.73</td>\n",
       "      <td>4643.39</td>\n",
       "      <td>4421.01</td>\n",
       "      <td>2299.38</td>\n",
       "      <td>5788.09</td>\n",
       "      <td>6929.28</td>\n",
       "      <td>5621.37</td>\n",
       "      <td>19530.4</td>\n",
       "      <td>5444.62</td>\n",
       "      <td>9541.47</td>\n",
       "    </tr>\n",
       "    <tr>\n",
       "      <th>gdpPercap_1972</th>\n",
       "      <td>9443.04</td>\n",
       "      <td>2980.33</td>\n",
       "      <td>4985.71</td>\n",
       "      <td>18970.6</td>\n",
       "      <td>5494.02</td>\n",
       "      <td>3264.66</td>\n",
       "      <td>5118.15</td>\n",
       "      <td>5305.45</td>\n",
       "      <td>2189.87</td>\n",
       "      <td>5280.99</td>\n",
       "      <td>...</td>\n",
       "      <td>6809.41</td>\n",
       "      <td>4688.59</td>\n",
       "      <td>5364.25</td>\n",
       "      <td>2523.34</td>\n",
       "      <td>5937.83</td>\n",
       "      <td>9123.04</td>\n",
       "      <td>6619.55</td>\n",
       "      <td>21806</td>\n",
       "      <td>5703.41</td>\n",
       "      <td>10505.3</td>\n",
       "    </tr>\n",
       "    <tr>\n",
       "      <th>gdpPercap_1977</th>\n",
       "      <td>10079</td>\n",
       "      <td>3548.1</td>\n",
       "      <td>6660.12</td>\n",
       "      <td>22090.9</td>\n",
       "      <td>4756.76</td>\n",
       "      <td>3815.81</td>\n",
       "      <td>5926.88</td>\n",
       "      <td>6380.49</td>\n",
       "      <td>2681.99</td>\n",
       "      <td>6679.62</td>\n",
       "      <td>...</td>\n",
       "      <td>7674.93</td>\n",
       "      <td>5486.37</td>\n",
       "      <td>5351.91</td>\n",
       "      <td>3248.37</td>\n",
       "      <td>6281.29</td>\n",
       "      <td>9770.52</td>\n",
       "      <td>7899.55</td>\n",
       "      <td>24072.6</td>\n",
       "      <td>6504.34</td>\n",
       "      <td>13144</td>\n",
       "    </tr>\n",
       "    <tr>\n",
       "      <th>gdpPercap_1982</th>\n",
       "      <td>8997.9</td>\n",
       "      <td>3156.51</td>\n",
       "      <td>7030.84</td>\n",
       "      <td>22898.8</td>\n",
       "      <td>5095.67</td>\n",
       "      <td>4397.58</td>\n",
       "      <td>5262.73</td>\n",
       "      <td>7316.92</td>\n",
       "      <td>2861.09</td>\n",
       "      <td>7213.79</td>\n",
       "      <td>...</td>\n",
       "      <td>9611.15</td>\n",
       "      <td>3470.34</td>\n",
       "      <td>7009.6</td>\n",
       "      <td>4258.5</td>\n",
       "      <td>6434.5</td>\n",
       "      <td>10331</td>\n",
       "      <td>9119.53</td>\n",
       "      <td>25009.6</td>\n",
       "      <td>6920.22</td>\n",
       "      <td>11152.4</td>\n",
       "    </tr>\n",
       "    <tr>\n",
       "      <th>gdpPercap_1987</th>\n",
       "      <td>9139.67</td>\n",
       "      <td>2753.69</td>\n",
       "      <td>7807.1</td>\n",
       "      <td>26626.5</td>\n",
       "      <td>5547.06</td>\n",
       "      <td>4903.22</td>\n",
       "      <td>5629.92</td>\n",
       "      <td>7532.92</td>\n",
       "      <td>2899.84</td>\n",
       "      <td>6481.78</td>\n",
       "      <td>...</td>\n",
       "      <td>8688.16</td>\n",
       "      <td>2955.98</td>\n",
       "      <td>7034.78</td>\n",
       "      <td>3998.88</td>\n",
       "      <td>6360.94</td>\n",
       "      <td>12281.3</td>\n",
       "      <td>7388.6</td>\n",
       "      <td>29884.4</td>\n",
       "      <td>7452.4</td>\n",
       "      <td>9883.58</td>\n",
       "    </tr>\n",
       "    <tr>\n",
       "      <th>gdpPercap_1992</th>\n",
       "      <td>9308.42</td>\n",
       "      <td>2961.7</td>\n",
       "      <td>6950.28</td>\n",
       "      <td>26342.9</td>\n",
       "      <td>7596.13</td>\n",
       "      <td>5444.65</td>\n",
       "      <td>6160.42</td>\n",
       "      <td>5592.84</td>\n",
       "      <td>3044.21</td>\n",
       "      <td>7103.7</td>\n",
       "      <td>...</td>\n",
       "      <td>9472.38</td>\n",
       "      <td>2170.15</td>\n",
       "      <td>6618.74</td>\n",
       "      <td>4196.41</td>\n",
       "      <td>4446.38</td>\n",
       "      <td>14641.6</td>\n",
       "      <td>7370.99</td>\n",
       "      <td>32003.9</td>\n",
       "      <td>8137</td>\n",
       "      <td>10733.9</td>\n",
       "    </tr>\n",
       "    <tr>\n",
       "      <th>gdpPercap_1997</th>\n",
       "      <td>10967.3</td>\n",
       "      <td>3326.14</td>\n",
       "      <td>7957.98</td>\n",
       "      <td>28954.9</td>\n",
       "      <td>10118.1</td>\n",
       "      <td>6117.36</td>\n",
       "      <td>6677.05</td>\n",
       "      <td>5431.99</td>\n",
       "      <td>3614.1</td>\n",
       "      <td>7429.46</td>\n",
       "      <td>...</td>\n",
       "      <td>9767.3</td>\n",
       "      <td>2253.02</td>\n",
       "      <td>7113.69</td>\n",
       "      <td>4247.4</td>\n",
       "      <td>5838.35</td>\n",
       "      <td>16999.4</td>\n",
       "      <td>8792.57</td>\n",
       "      <td>35767.4</td>\n",
       "      <td>9230.24</td>\n",
       "      <td>10165.5</td>\n",
       "    </tr>\n",
       "    <tr>\n",
       "      <th>gdpPercap_2002</th>\n",
       "      <td>8797.64</td>\n",
       "      <td>3413.26</td>\n",
       "      <td>8131.21</td>\n",
       "      <td>33329</td>\n",
       "      <td>10778.8</td>\n",
       "      <td>5755.26</td>\n",
       "      <td>7723.45</td>\n",
       "      <td>6340.65</td>\n",
       "      <td>4563.81</td>\n",
       "      <td>5773.04</td>\n",
       "      <td>...</td>\n",
       "      <td>10742.4</td>\n",
       "      <td>2474.55</td>\n",
       "      <td>7356.03</td>\n",
       "      <td>3783.67</td>\n",
       "      <td>5909.02</td>\n",
       "      <td>18855.6</td>\n",
       "      <td>11460.6</td>\n",
       "      <td>39097.1</td>\n",
       "      <td>7727</td>\n",
       "      <td>8605.05</td>\n",
       "    </tr>\n",
       "    <tr>\n",
       "      <th>gdpPercap_2007</th>\n",
       "      <td>12779.4</td>\n",
       "      <td>3822.14</td>\n",
       "      <td>9065.8</td>\n",
       "      <td>36319.2</td>\n",
       "      <td>13171.6</td>\n",
       "      <td>7006.58</td>\n",
       "      <td>9645.06</td>\n",
       "      <td>8948.1</td>\n",
       "      <td>6025.37</td>\n",
       "      <td>6873.26</td>\n",
       "      <td>...</td>\n",
       "      <td>11977.6</td>\n",
       "      <td>2749.32</td>\n",
       "      <td>9809.19</td>\n",
       "      <td>4172.84</td>\n",
       "      <td>7408.91</td>\n",
       "      <td>19328.7</td>\n",
       "      <td>18008.5</td>\n",
       "      <td>42951.7</td>\n",
       "      <td>10611.5</td>\n",
       "      <td>11415.8</td>\n",
       "    </tr>\n",
       "  </tbody>\n",
       "</table>\n",
       "<p>13 rows × 25 columns</p>\n",
       "</div>"
      ],
      "text/plain": [
       "country        Argentina   Bolivia    Brazil    Canada     Chile  Colombia  \\\n",
       "continent       Americas  Americas  Americas  Americas  Americas  Americas   \n",
       "gdpPercap_1952   5911.32   2677.33   2108.94   11367.2   3939.98   2144.12   \n",
       "gdpPercap_1957   6856.86   2127.69   2487.37     12490   4315.62   2323.81   \n",
       "gdpPercap_1962   7133.17   2180.97   3336.59   13462.5   4519.09   2492.35   \n",
       "gdpPercap_1967   8052.95   2586.89   3429.86   16076.6   5106.65   2678.73   \n",
       "gdpPercap_1972   9443.04   2980.33   4985.71   18970.6   5494.02   3264.66   \n",
       "gdpPercap_1977     10079    3548.1   6660.12   22090.9   4756.76   3815.81   \n",
       "gdpPercap_1982    8997.9   3156.51   7030.84   22898.8   5095.67   4397.58   \n",
       "gdpPercap_1987   9139.67   2753.69    7807.1   26626.5   5547.06   4903.22   \n",
       "gdpPercap_1992   9308.42    2961.7   6950.28   26342.9   7596.13   5444.65   \n",
       "gdpPercap_1997   10967.3   3326.14   7957.98   28954.9   10118.1   6117.36   \n",
       "gdpPercap_2002   8797.64   3413.26   8131.21     33329   10778.8   5755.26   \n",
       "gdpPercap_2007   12779.4   3822.14    9065.8   36319.2   13171.6   7006.58   \n",
       "\n",
       "country        Costa Rica      Cuba Dominican Republic   Ecuador    ...     \\\n",
       "continent        Americas  Americas           Americas  Americas    ...      \n",
       "gdpPercap_1952    2627.01   5586.54            1397.72   3522.11    ...      \n",
       "gdpPercap_1957    2990.01   6092.17             1544.4   3780.55    ...      \n",
       "gdpPercap_1962    3460.94   5180.76            1662.14   4086.11    ...      \n",
       "gdpPercap_1967    4161.73   5690.27            1653.72   4579.07    ...      \n",
       "gdpPercap_1972    5118.15   5305.45            2189.87   5280.99    ...      \n",
       "gdpPercap_1977    5926.88   6380.49            2681.99   6679.62    ...      \n",
       "gdpPercap_1982    5262.73   7316.92            2861.09   7213.79    ...      \n",
       "gdpPercap_1987    5629.92   7532.92            2899.84   6481.78    ...      \n",
       "gdpPercap_1992    6160.42   5592.84            3044.21    7103.7    ...      \n",
       "gdpPercap_1997    6677.05   5431.99             3614.1   7429.46    ...      \n",
       "gdpPercap_2002    7723.45   6340.65            4563.81   5773.04    ...      \n",
       "gdpPercap_2007    9645.06    8948.1            6025.37   6873.26    ...      \n",
       "\n",
       "country           Mexico Nicaragua    Panama  Paraguay      Peru Puerto Rico  \\\n",
       "continent       Americas  Americas  Americas  Americas  Americas    Americas   \n",
       "gdpPercap_1952   3478.13   3112.36   2480.38   1952.31   3758.52     3081.96   \n",
       "gdpPercap_1957   4131.55   3457.42    2961.8   2046.15   4245.26     3907.16   \n",
       "gdpPercap_1962   4581.61   3634.36   3536.54   2148.03   4957.04     5108.34   \n",
       "gdpPercap_1967   5754.73   4643.39   4421.01   2299.38   5788.09     6929.28   \n",
       "gdpPercap_1972   6809.41   4688.59   5364.25   2523.34   5937.83     9123.04   \n",
       "gdpPercap_1977   7674.93   5486.37   5351.91   3248.37   6281.29     9770.52   \n",
       "gdpPercap_1982   9611.15   3470.34    7009.6    4258.5    6434.5       10331   \n",
       "gdpPercap_1987   8688.16   2955.98   7034.78   3998.88   6360.94     12281.3   \n",
       "gdpPercap_1992   9472.38   2170.15   6618.74   4196.41   4446.38     14641.6   \n",
       "gdpPercap_1997    9767.3   2253.02   7113.69    4247.4   5838.35     16999.4   \n",
       "gdpPercap_2002   10742.4   2474.55   7356.03   3783.67   5909.02     18855.6   \n",
       "gdpPercap_2007   11977.6   2749.32   9809.19   4172.84   7408.91     19328.7   \n",
       "\n",
       "country        Trinidad and Tobago United States   Uruguay Venezuela  \n",
       "continent                 Americas      Americas  Americas  Americas  \n",
       "gdpPercap_1952             3023.27       13990.5   5716.77    7689.8  \n",
       "gdpPercap_1957             4100.39       14847.1   6150.77   9802.47  \n",
       "gdpPercap_1962             4997.52       16173.1   5603.36   8422.97  \n",
       "gdpPercap_1967             5621.37       19530.4   5444.62   9541.47  \n",
       "gdpPercap_1972             6619.55         21806   5703.41   10505.3  \n",
       "gdpPercap_1977             7899.55       24072.6   6504.34     13144  \n",
       "gdpPercap_1982             9119.53       25009.6   6920.22   11152.4  \n",
       "gdpPercap_1987              7388.6       29884.4    7452.4   9883.58  \n",
       "gdpPercap_1992             7370.99       32003.9      8137   10733.9  \n",
       "gdpPercap_1997             8792.57       35767.4   9230.24   10165.5  \n",
       "gdpPercap_2002             11460.6       39097.1      7727   8605.05  \n",
       "gdpPercap_2007             18008.5       42951.7   10611.5   11415.8  \n",
       "\n",
       "[13 rows x 25 columns]"
      ]
     },
     "execution_count": 154,
     "metadata": {},
     "output_type": "execute_result"
    }
   ],
   "source": [
    "americas.T"
   ]
  },
  {
   "cell_type": "code",
   "execution_count": 166,
   "metadata": {},
   "outputs": [],
   "source": [
    "americas.T.describe().to_csv('americasT_summ_stats.csv')"
   ]
  },
  {
   "cell_type": "markdown",
   "metadata": {},
   "source": [
    "# 5. Slicing, and selecting values"
   ]
  },
  {
   "cell_type": "markdown",
   "metadata": {},
   "source": [
    "DataFrame is the way Pandas represents a table.  \n",
    "Series is the data-structure Pandas use to represent a column."
   ]
  },
  {
   "cell_type": "markdown",
   "metadata": {},
   "source": [
    "**Selecting values, `.loc[]`**"
   ]
  },
  {
   "cell_type": "code",
   "execution_count": 242,
   "metadata": {},
   "outputs": [
    {
     "data": {
      "text/html": [
       "<div>\n",
       "<style scoped>\n",
       "    .dataframe tbody tr th:only-of-type {\n",
       "        vertical-align: middle;\n",
       "    }\n",
       "\n",
       "    .dataframe tbody tr th {\n",
       "        vertical-align: top;\n",
       "    }\n",
       "\n",
       "    .dataframe thead th {\n",
       "        text-align: right;\n",
       "    }\n",
       "</style>\n",
       "<table border=\"1\" class=\"dataframe\">\n",
       "  <thead>\n",
       "    <tr style=\"text-align: right;\">\n",
       "      <th></th>\n",
       "      <th>continent</th>\n",
       "      <th>gdpPercap_1952</th>\n",
       "      <th>gdpPercap_1957</th>\n",
       "      <th>gdpPercap_1962</th>\n",
       "      <th>gdpPercap_1967</th>\n",
       "      <th>gdpPercap_1972</th>\n",
       "      <th>gdpPercap_1977</th>\n",
       "      <th>gdpPercap_1982</th>\n",
       "      <th>gdpPercap_1987</th>\n",
       "      <th>gdpPercap_1992</th>\n",
       "      <th>gdpPercap_1997</th>\n",
       "      <th>gdpPercap_2002</th>\n",
       "      <th>gdpPercap_2007</th>\n",
       "    </tr>\n",
       "    <tr>\n",
       "      <th>country</th>\n",
       "      <th></th>\n",
       "      <th></th>\n",
       "      <th></th>\n",
       "      <th></th>\n",
       "      <th></th>\n",
       "      <th></th>\n",
       "      <th></th>\n",
       "      <th></th>\n",
       "      <th></th>\n",
       "      <th></th>\n",
       "      <th></th>\n",
       "      <th></th>\n",
       "      <th></th>\n",
       "    </tr>\n",
       "  </thead>\n",
       "  <tbody>\n",
       "    <tr>\n",
       "      <th>Argentina</th>\n",
       "      <td>Americas</td>\n",
       "      <td>5911.315053</td>\n",
       "      <td>6856.856212</td>\n",
       "      <td>7133.166023</td>\n",
       "      <td>8052.953021</td>\n",
       "      <td>9443.038526</td>\n",
       "      <td>10079.026740</td>\n",
       "      <td>8997.897412</td>\n",
       "      <td>9139.671389</td>\n",
       "      <td>9308.418710</td>\n",
       "      <td>10967.281950</td>\n",
       "      <td>8797.640716</td>\n",
       "      <td>12779.379640</td>\n",
       "    </tr>\n",
       "    <tr>\n",
       "      <th>Bolivia</th>\n",
       "      <td>Americas</td>\n",
       "      <td>2677.326347</td>\n",
       "      <td>2127.686326</td>\n",
       "      <td>2180.972546</td>\n",
       "      <td>2586.886053</td>\n",
       "      <td>2980.331339</td>\n",
       "      <td>3548.097832</td>\n",
       "      <td>3156.510452</td>\n",
       "      <td>2753.691490</td>\n",
       "      <td>2961.699694</td>\n",
       "      <td>3326.143191</td>\n",
       "      <td>3413.262690</td>\n",
       "      <td>3822.137084</td>\n",
       "    </tr>\n",
       "    <tr>\n",
       "      <th>Brazil</th>\n",
       "      <td>Americas</td>\n",
       "      <td>2108.944355</td>\n",
       "      <td>2487.365989</td>\n",
       "      <td>3336.585802</td>\n",
       "      <td>3429.864357</td>\n",
       "      <td>4985.711467</td>\n",
       "      <td>6660.118654</td>\n",
       "      <td>7030.835878</td>\n",
       "      <td>7807.095818</td>\n",
       "      <td>6950.283021</td>\n",
       "      <td>7957.980824</td>\n",
       "      <td>8131.212843</td>\n",
       "      <td>9065.800825</td>\n",
       "    </tr>\n",
       "    <tr>\n",
       "      <th>Canada</th>\n",
       "      <td>Americas</td>\n",
       "      <td>11367.161120</td>\n",
       "      <td>12489.950060</td>\n",
       "      <td>13462.485550</td>\n",
       "      <td>16076.588030</td>\n",
       "      <td>18970.570860</td>\n",
       "      <td>22090.883060</td>\n",
       "      <td>22898.792140</td>\n",
       "      <td>26626.515030</td>\n",
       "      <td>26342.884260</td>\n",
       "      <td>28954.925890</td>\n",
       "      <td>33328.965070</td>\n",
       "      <td>36319.235010</td>\n",
       "    </tr>\n",
       "    <tr>\n",
       "      <th>Chile</th>\n",
       "      <td>Americas</td>\n",
       "      <td>3939.978789</td>\n",
       "      <td>4315.622723</td>\n",
       "      <td>4519.094331</td>\n",
       "      <td>5106.654313</td>\n",
       "      <td>5494.024437</td>\n",
       "      <td>4756.763836</td>\n",
       "      <td>5095.665738</td>\n",
       "      <td>5547.063754</td>\n",
       "      <td>7596.125964</td>\n",
       "      <td>10118.053180</td>\n",
       "      <td>10778.783850</td>\n",
       "      <td>13171.638850</td>\n",
       "    </tr>\n",
       "  </tbody>\n",
       "</table>\n",
       "</div>"
      ],
      "text/plain": [
       "          continent  gdpPercap_1952  gdpPercap_1957  gdpPercap_1962  \\\n",
       "country                                                               \n",
       "Argentina  Americas     5911.315053     6856.856212     7133.166023   \n",
       "Bolivia    Americas     2677.326347     2127.686326     2180.972546   \n",
       "Brazil     Americas     2108.944355     2487.365989     3336.585802   \n",
       "Canada     Americas    11367.161120    12489.950060    13462.485550   \n",
       "Chile      Americas     3939.978789     4315.622723     4519.094331   \n",
       "\n",
       "           gdpPercap_1967  gdpPercap_1972  gdpPercap_1977  gdpPercap_1982  \\\n",
       "country                                                                     \n",
       "Argentina     8052.953021     9443.038526    10079.026740     8997.897412   \n",
       "Bolivia       2586.886053     2980.331339     3548.097832     3156.510452   \n",
       "Brazil        3429.864357     4985.711467     6660.118654     7030.835878   \n",
       "Canada       16076.588030    18970.570860    22090.883060    22898.792140   \n",
       "Chile         5106.654313     5494.024437     4756.763836     5095.665738   \n",
       "\n",
       "           gdpPercap_1987  gdpPercap_1992  gdpPercap_1997  gdpPercap_2002  \\\n",
       "country                                                                     \n",
       "Argentina     9139.671389     9308.418710    10967.281950     8797.640716   \n",
       "Bolivia       2753.691490     2961.699694     3326.143191     3413.262690   \n",
       "Brazil        7807.095818     6950.283021     7957.980824     8131.212843   \n",
       "Canada       26626.515030    26342.884260    28954.925890    33328.965070   \n",
       "Chile         5547.063754     7596.125964    10118.053180    10778.783850   \n",
       "\n",
       "           gdpPercap_2007  \n",
       "country                    \n",
       "Argentina    12779.379640  \n",
       "Bolivia       3822.137084  \n",
       "Brazil        9065.800825  \n",
       "Canada       36319.235010  \n",
       "Chile        13171.638850  "
      ]
     },
     "execution_count": 242,
     "metadata": {},
     "output_type": "execute_result"
    }
   ],
   "source": [
    "americas.head()"
   ]
  },
  {
   "cell_type": "code",
   "execution_count": 244,
   "metadata": {},
   "outputs": [
    {
     "data": {
      "text/plain": [
       "continent         Americas\n",
       "gdpPercap_1952     2108.94\n",
       "gdpPercap_1957     2487.37\n",
       "gdpPercap_1962     3336.59\n",
       "gdpPercap_1967     3429.86\n",
       "gdpPercap_1972     4985.71\n",
       "gdpPercap_1977     6660.12\n",
       "gdpPercap_1982     7030.84\n",
       "gdpPercap_1987      7807.1\n",
       "gdpPercap_1992     6950.28\n",
       "gdpPercap_1997     7957.98\n",
       "gdpPercap_2002     8131.21\n",
       "gdpPercap_2007      9065.8\n",
       "Name: Brazil, dtype: object"
      ]
     },
     "execution_count": 244,
     "metadata": {},
     "output_type": "execute_result"
    }
   ],
   "source": [
    "americas.loc[\"Brazil\",:]"
   ]
  },
  {
   "cell_type": "code",
   "execution_count": 205,
   "metadata": {},
   "outputs": [
    {
     "data": {
      "text/plain": [
       "country\n",
       "Argentina               5911.315053\n",
       "Bolivia                 2677.326347\n",
       "Brazil                  2108.944355\n",
       "Canada                 11367.161120\n",
       "Chile                   3939.978789\n",
       "Colombia                2144.115096\n",
       "Costa Rica              2627.009471\n",
       "Cuba                    5586.538780\n",
       "Dominican Republic      1397.717137\n",
       "Ecuador                 3522.110717\n",
       "El Salvador             3048.302900\n",
       "Guatemala               2428.237769\n",
       "Haiti                   1840.366939\n",
       "Honduras                2194.926204\n",
       "Jamaica                 2898.530881\n",
       "Mexico                  3478.125529\n",
       "Nicaragua               3112.363948\n",
       "Panama                  2480.380334\n",
       "Paraguay                1952.308701\n",
       "Peru                    3758.523437\n",
       "Puerto Rico             3081.959785\n",
       "Trinidad and Tobago     3023.271928\n",
       "United States          13990.482080\n",
       "Uruguay                 5716.766744\n",
       "Venezuela               7689.799761\n",
       "Name: gdpPercap_1952, dtype: float64"
      ]
     },
     "execution_count": 205,
     "metadata": {},
     "output_type": "execute_result"
    }
   ],
   "source": [
    "americas.loc[:,\"gdpPercap_1952\"]"
   ]
  },
  {
   "cell_type": "code",
   "execution_count": 222,
   "metadata": {
    "scrolled": true
   },
   "outputs": [
    {
     "data": {
      "text/html": [
       "<div>\n",
       "<style scoped>\n",
       "    .dataframe tbody tr th:only-of-type {\n",
       "        vertical-align: middle;\n",
       "    }\n",
       "\n",
       "    .dataframe tbody tr th {\n",
       "        vertical-align: top;\n",
       "    }\n",
       "\n",
       "    .dataframe thead th {\n",
       "        text-align: right;\n",
       "    }\n",
       "</style>\n",
       "<table border=\"1\" class=\"dataframe\">\n",
       "  <thead>\n",
       "    <tr style=\"text-align: right;\">\n",
       "      <th></th>\n",
       "      <th>continent</th>\n",
       "      <th>gdpPercap_1952</th>\n",
       "      <th>gdpPercap_1957</th>\n",
       "      <th>gdpPercap_1962</th>\n",
       "      <th>gdpPercap_1967</th>\n",
       "      <th>gdpPercap_1972</th>\n",
       "      <th>gdpPercap_1977</th>\n",
       "      <th>gdpPercap_1982</th>\n",
       "      <th>gdpPercap_1987</th>\n",
       "      <th>gdpPercap_1992</th>\n",
       "      <th>gdpPercap_1997</th>\n",
       "      <th>gdpPercap_2002</th>\n",
       "      <th>gdpPercap_2007</th>\n",
       "    </tr>\n",
       "    <tr>\n",
       "      <th>country</th>\n",
       "      <th></th>\n",
       "      <th></th>\n",
       "      <th></th>\n",
       "      <th></th>\n",
       "      <th></th>\n",
       "      <th></th>\n",
       "      <th></th>\n",
       "      <th></th>\n",
       "      <th></th>\n",
       "      <th></th>\n",
       "      <th></th>\n",
       "      <th></th>\n",
       "      <th></th>\n",
       "    </tr>\n",
       "  </thead>\n",
       "  <tbody>\n",
       "    <tr>\n",
       "      <th>Ecuador</th>\n",
       "      <td>Americas</td>\n",
       "      <td>3522.110717</td>\n",
       "      <td>3780.546651</td>\n",
       "      <td>4086.114078</td>\n",
       "      <td>4579.074215</td>\n",
       "      <td>5280.994710</td>\n",
       "      <td>6679.623260</td>\n",
       "      <td>7213.791267</td>\n",
       "      <td>6481.776993</td>\n",
       "      <td>7103.702595</td>\n",
       "      <td>7429.455877</td>\n",
       "      <td>5773.044512</td>\n",
       "      <td>6873.262326</td>\n",
       "    </tr>\n",
       "    <tr>\n",
       "      <th>El Salvador</th>\n",
       "      <td>Americas</td>\n",
       "      <td>3048.302900</td>\n",
       "      <td>3421.523218</td>\n",
       "      <td>3776.803627</td>\n",
       "      <td>4358.595393</td>\n",
       "      <td>4520.246008</td>\n",
       "      <td>5138.922374</td>\n",
       "      <td>4098.344175</td>\n",
       "      <td>4140.442097</td>\n",
       "      <td>4444.231700</td>\n",
       "      <td>5154.825496</td>\n",
       "      <td>5351.568666</td>\n",
       "      <td>5728.353514</td>\n",
       "    </tr>\n",
       "    <tr>\n",
       "      <th>Guatemala</th>\n",
       "      <td>Americas</td>\n",
       "      <td>2428.237769</td>\n",
       "      <td>2617.155967</td>\n",
       "      <td>2750.364446</td>\n",
       "      <td>3242.531147</td>\n",
       "      <td>4031.408271</td>\n",
       "      <td>4879.992748</td>\n",
       "      <td>4820.494790</td>\n",
       "      <td>4246.485974</td>\n",
       "      <td>4439.450840</td>\n",
       "      <td>4684.313807</td>\n",
       "      <td>4858.347495</td>\n",
       "      <td>5186.050003</td>\n",
       "    </tr>\n",
       "    <tr>\n",
       "      <th>Haiti</th>\n",
       "      <td>Americas</td>\n",
       "      <td>1840.366939</td>\n",
       "      <td>1726.887882</td>\n",
       "      <td>1796.589032</td>\n",
       "      <td>1452.057666</td>\n",
       "      <td>1654.456946</td>\n",
       "      <td>1874.298931</td>\n",
       "      <td>2011.159549</td>\n",
       "      <td>1823.015995</td>\n",
       "      <td>1456.309517</td>\n",
       "      <td>1341.726931</td>\n",
       "      <td>1270.364932</td>\n",
       "      <td>1201.637154</td>\n",
       "    </tr>\n",
       "    <tr>\n",
       "      <th>Honduras</th>\n",
       "      <td>Americas</td>\n",
       "      <td>2194.926204</td>\n",
       "      <td>2220.487682</td>\n",
       "      <td>2291.156835</td>\n",
       "      <td>2538.269358</td>\n",
       "      <td>2529.842345</td>\n",
       "      <td>3203.208066</td>\n",
       "      <td>3121.760794</td>\n",
       "      <td>3023.096699</td>\n",
       "      <td>3081.694603</td>\n",
       "      <td>3160.454906</td>\n",
       "      <td>3099.728660</td>\n",
       "      <td>3548.330846</td>\n",
       "    </tr>\n",
       "    <tr>\n",
       "      <th>Jamaica</th>\n",
       "      <td>Americas</td>\n",
       "      <td>2898.530881</td>\n",
       "      <td>4756.525781</td>\n",
       "      <td>5246.107524</td>\n",
       "      <td>6124.703451</td>\n",
       "      <td>7433.889293</td>\n",
       "      <td>6650.195573</td>\n",
       "      <td>6068.051350</td>\n",
       "      <td>6351.237495</td>\n",
       "      <td>7404.923685</td>\n",
       "      <td>7121.924704</td>\n",
       "      <td>6994.774861</td>\n",
       "      <td>7320.880262</td>\n",
       "    </tr>\n",
       "  </tbody>\n",
       "</table>\n",
       "</div>"
      ],
      "text/plain": [
       "            continent  gdpPercap_1952  gdpPercap_1957  gdpPercap_1962  \\\n",
       "country                                                                 \n",
       "Ecuador      Americas     3522.110717     3780.546651     4086.114078   \n",
       "El Salvador  Americas     3048.302900     3421.523218     3776.803627   \n",
       "Guatemala    Americas     2428.237769     2617.155967     2750.364446   \n",
       "Haiti        Americas     1840.366939     1726.887882     1796.589032   \n",
       "Honduras     Americas     2194.926204     2220.487682     2291.156835   \n",
       "Jamaica      Americas     2898.530881     4756.525781     5246.107524   \n",
       "\n",
       "             gdpPercap_1967  gdpPercap_1972  gdpPercap_1977  gdpPercap_1982  \\\n",
       "country                                                                       \n",
       "Ecuador         4579.074215     5280.994710     6679.623260     7213.791267   \n",
       "El Salvador     4358.595393     4520.246008     5138.922374     4098.344175   \n",
       "Guatemala       3242.531147     4031.408271     4879.992748     4820.494790   \n",
       "Haiti           1452.057666     1654.456946     1874.298931     2011.159549   \n",
       "Honduras        2538.269358     2529.842345     3203.208066     3121.760794   \n",
       "Jamaica         6124.703451     7433.889293     6650.195573     6068.051350   \n",
       "\n",
       "             gdpPercap_1987  gdpPercap_1992  gdpPercap_1997  gdpPercap_2002  \\\n",
       "country                                                                       \n",
       "Ecuador         6481.776993     7103.702595     7429.455877     5773.044512   \n",
       "El Salvador     4140.442097     4444.231700     5154.825496     5351.568666   \n",
       "Guatemala       4246.485974     4439.450840     4684.313807     4858.347495   \n",
       "Haiti           1823.015995     1456.309517     1341.726931     1270.364932   \n",
       "Honduras        3023.096699     3081.694603     3160.454906     3099.728660   \n",
       "Jamaica         6351.237495     7404.923685     7121.924704     6994.774861   \n",
       "\n",
       "             gdpPercap_2007  \n",
       "country                      \n",
       "Ecuador         6873.262326  \n",
       "El Salvador     5728.353514  \n",
       "Guatemala       5186.050003  \n",
       "Haiti           1201.637154  \n",
       "Honduras        3548.330846  \n",
       "Jamaica         7320.880262  "
      ]
     },
     "execution_count": 222,
     "metadata": {},
     "output_type": "execute_result"
    }
   ],
   "source": [
    "americas.loc['Ecuador':'Jamaica',:]"
   ]
  },
  {
   "cell_type": "code",
   "execution_count": 224,
   "metadata": {
    "scrolled": true
   },
   "outputs": [
    {
     "data": {
      "text/html": [
       "<div>\n",
       "<style scoped>\n",
       "    .dataframe tbody tr th:only-of-type {\n",
       "        vertical-align: middle;\n",
       "    }\n",
       "\n",
       "    .dataframe tbody tr th {\n",
       "        vertical-align: top;\n",
       "    }\n",
       "\n",
       "    .dataframe thead th {\n",
       "        text-align: right;\n",
       "    }\n",
       "</style>\n",
       "<table border=\"1\" class=\"dataframe\">\n",
       "  <thead>\n",
       "    <tr style=\"text-align: right;\">\n",
       "      <th></th>\n",
       "      <th>gdpPercap_1957</th>\n",
       "      <th>gdpPercap_1962</th>\n",
       "      <th>gdpPercap_1967</th>\n",
       "      <th>gdpPercap_1972</th>\n",
       "    </tr>\n",
       "    <tr>\n",
       "      <th>country</th>\n",
       "      <th></th>\n",
       "      <th></th>\n",
       "      <th></th>\n",
       "      <th></th>\n",
       "    </tr>\n",
       "  </thead>\n",
       "  <tbody>\n",
       "    <tr>\n",
       "      <th>Ecuador</th>\n",
       "      <td>3780.546651</td>\n",
       "      <td>4086.114078</td>\n",
       "      <td>4579.074215</td>\n",
       "      <td>5280.994710</td>\n",
       "    </tr>\n",
       "    <tr>\n",
       "      <th>El Salvador</th>\n",
       "      <td>3421.523218</td>\n",
       "      <td>3776.803627</td>\n",
       "      <td>4358.595393</td>\n",
       "      <td>4520.246008</td>\n",
       "    </tr>\n",
       "    <tr>\n",
       "      <th>Guatemala</th>\n",
       "      <td>2617.155967</td>\n",
       "      <td>2750.364446</td>\n",
       "      <td>3242.531147</td>\n",
       "      <td>4031.408271</td>\n",
       "    </tr>\n",
       "    <tr>\n",
       "      <th>Haiti</th>\n",
       "      <td>1726.887882</td>\n",
       "      <td>1796.589032</td>\n",
       "      <td>1452.057666</td>\n",
       "      <td>1654.456946</td>\n",
       "    </tr>\n",
       "    <tr>\n",
       "      <th>Honduras</th>\n",
       "      <td>2220.487682</td>\n",
       "      <td>2291.156835</td>\n",
       "      <td>2538.269358</td>\n",
       "      <td>2529.842345</td>\n",
       "    </tr>\n",
       "    <tr>\n",
       "      <th>Jamaica</th>\n",
       "      <td>4756.525781</td>\n",
       "      <td>5246.107524</td>\n",
       "      <td>6124.703451</td>\n",
       "      <td>7433.889293</td>\n",
       "    </tr>\n",
       "  </tbody>\n",
       "</table>\n",
       "</div>"
      ],
      "text/plain": [
       "             gdpPercap_1957  gdpPercap_1962  gdpPercap_1967  gdpPercap_1972\n",
       "country                                                                    \n",
       "Ecuador         3780.546651     4086.114078     4579.074215     5280.994710\n",
       "El Salvador     3421.523218     3776.803627     4358.595393     4520.246008\n",
       "Guatemala       2617.155967     2750.364446     3242.531147     4031.408271\n",
       "Haiti           1726.887882     1796.589032     1452.057666     1654.456946\n",
       "Honduras        2220.487682     2291.156835     2538.269358     2529.842345\n",
       "Jamaica         4756.525781     5246.107524     6124.703451     7433.889293"
      ]
     },
     "execution_count": 224,
     "metadata": {},
     "output_type": "execute_result"
    }
   ],
   "source": [
    "americas.loc['Ecuador':'Jamaica','gdpPercap_1957':'gdpPercap_1972']"
   ]
  },
  {
   "cell_type": "code",
   "execution_count": 234,
   "metadata": {},
   "outputs": [
    {
     "data": {
      "text/plain": [
       "gdpPercap_1957    1726.887882\n",
       "gdpPercap_1962    1796.589032\n",
       "gdpPercap_1967    1452.057666\n",
       "gdpPercap_1972    1654.456946\n",
       "dtype: float64"
      ]
     },
     "execution_count": 234,
     "metadata": {},
     "output_type": "execute_result"
    }
   ],
   "source": [
    "americas.loc['Ecuador':'Jamaica','gdpPercap_1957':'gdpPercap_1972'].min()"
   ]
  },
  {
   "cell_type": "code",
   "execution_count": 235,
   "metadata": {},
   "outputs": [
    {
     "data": {
      "text/plain": [
       "gdpPercap_1957    4756.525781\n",
       "gdpPercap_1962    5246.107524\n",
       "gdpPercap_1967    6124.703451\n",
       "gdpPercap_1972    7433.889293\n",
       "dtype: float64"
      ]
     },
     "execution_count": 235,
     "metadata": {},
     "output_type": "execute_result"
    }
   ],
   "source": [
    "americas.loc['Ecuador':'Jamaica','gdpPercap_1957':'gdpPercap_1972'].max()"
   ]
  },
  {
   "cell_type": "code",
   "execution_count": 237,
   "metadata": {},
   "outputs": [
    {
     "data": {
      "text/html": [
       "<div>\n",
       "<style scoped>\n",
       "    .dataframe tbody tr th:only-of-type {\n",
       "        vertical-align: middle;\n",
       "    }\n",
       "\n",
       "    .dataframe tbody tr th {\n",
       "        vertical-align: top;\n",
       "    }\n",
       "\n",
       "    .dataframe thead th {\n",
       "        text-align: right;\n",
       "    }\n",
       "</style>\n",
       "<table border=\"1\" class=\"dataframe\">\n",
       "  <thead>\n",
       "    <tr style=\"text-align: right;\">\n",
       "      <th>country</th>\n",
       "      <th>Ecuador</th>\n",
       "      <th>El Salvador</th>\n",
       "      <th>Guatemala</th>\n",
       "      <th>Haiti</th>\n",
       "      <th>Honduras</th>\n",
       "      <th>Jamaica</th>\n",
       "    </tr>\n",
       "  </thead>\n",
       "  <tbody>\n",
       "    <tr>\n",
       "      <th>gdpPercap_1957</th>\n",
       "      <td>3780.546651</td>\n",
       "      <td>3421.523218</td>\n",
       "      <td>2617.155967</td>\n",
       "      <td>1726.887882</td>\n",
       "      <td>2220.487682</td>\n",
       "      <td>4756.525781</td>\n",
       "    </tr>\n",
       "    <tr>\n",
       "      <th>gdpPercap_1962</th>\n",
       "      <td>4086.114078</td>\n",
       "      <td>3776.803627</td>\n",
       "      <td>2750.364446</td>\n",
       "      <td>1796.589032</td>\n",
       "      <td>2291.156835</td>\n",
       "      <td>5246.107524</td>\n",
       "    </tr>\n",
       "    <tr>\n",
       "      <th>gdpPercap_1967</th>\n",
       "      <td>4579.074215</td>\n",
       "      <td>4358.595393</td>\n",
       "      <td>3242.531147</td>\n",
       "      <td>1452.057666</td>\n",
       "      <td>2538.269358</td>\n",
       "      <td>6124.703451</td>\n",
       "    </tr>\n",
       "    <tr>\n",
       "      <th>gdpPercap_1972</th>\n",
       "      <td>5280.994710</td>\n",
       "      <td>4520.246008</td>\n",
       "      <td>4031.408271</td>\n",
       "      <td>1654.456946</td>\n",
       "      <td>2529.842345</td>\n",
       "      <td>7433.889293</td>\n",
       "    </tr>\n",
       "  </tbody>\n",
       "</table>\n",
       "</div>"
      ],
      "text/plain": [
       "country             Ecuador  El Salvador    Guatemala        Haiti  \\\n",
       "gdpPercap_1957  3780.546651  3421.523218  2617.155967  1726.887882   \n",
       "gdpPercap_1962  4086.114078  3776.803627  2750.364446  1796.589032   \n",
       "gdpPercap_1967  4579.074215  4358.595393  3242.531147  1452.057666   \n",
       "gdpPercap_1972  5280.994710  4520.246008  4031.408271  1654.456946   \n",
       "\n",
       "country            Honduras      Jamaica  \n",
       "gdpPercap_1957  2220.487682  4756.525781  \n",
       "gdpPercap_1962  2291.156835  5246.107524  \n",
       "gdpPercap_1967  2538.269358  6124.703451  \n",
       "gdpPercap_1972  2529.842345  7433.889293  "
      ]
     },
     "execution_count": 237,
     "metadata": {},
     "output_type": "execute_result"
    }
   ],
   "source": [
    "americas.loc['Ecuador':'Jamaica','gdpPercap_1957':'gdpPercap_1972'].T"
   ]
  },
  {
   "cell_type": "code",
   "execution_count": 239,
   "metadata": {},
   "outputs": [
    {
     "data": {
      "text/plain": [
       "country\n",
       "Ecuador        3780.546651\n",
       "El Salvador    3421.523218\n",
       "Guatemala      2617.155967\n",
       "Haiti          1452.057666\n",
       "Honduras       2220.487682\n",
       "Jamaica        4756.525781\n",
       "dtype: float64"
      ]
     },
     "execution_count": 239,
     "metadata": {},
     "output_type": "execute_result"
    }
   ],
   "source": [
    "americas.loc['Ecuador':'Jamaica','gdpPercap_1957':'gdpPercap_1972'].T.min()"
   ]
  },
  {
   "cell_type": "code",
   "execution_count": 240,
   "metadata": {},
   "outputs": [
    {
     "data": {
      "text/html": [
       "<div>\n",
       "<style scoped>\n",
       "    .dataframe tbody tr th:only-of-type {\n",
       "        vertical-align: middle;\n",
       "    }\n",
       "\n",
       "    .dataframe tbody tr th {\n",
       "        vertical-align: top;\n",
       "    }\n",
       "\n",
       "    .dataframe thead th {\n",
       "        text-align: right;\n",
       "    }\n",
       "</style>\n",
       "<table border=\"1\" class=\"dataframe\">\n",
       "  <thead>\n",
       "    <tr style=\"text-align: right;\">\n",
       "      <th>country</th>\n",
       "      <th>Ecuador</th>\n",
       "      <th>El Salvador</th>\n",
       "      <th>Guatemala</th>\n",
       "      <th>Haiti</th>\n",
       "      <th>Honduras</th>\n",
       "      <th>Jamaica</th>\n",
       "    </tr>\n",
       "  </thead>\n",
       "  <tbody>\n",
       "    <tr>\n",
       "      <th>count</th>\n",
       "      <td>4.000000</td>\n",
       "      <td>4.000000</td>\n",
       "      <td>4.000000</td>\n",
       "      <td>4.000000</td>\n",
       "      <td>4.000000</td>\n",
       "      <td>4.000000</td>\n",
       "    </tr>\n",
       "    <tr>\n",
       "      <th>mean</th>\n",
       "      <td>4431.682413</td>\n",
       "      <td>4019.292061</td>\n",
       "      <td>3160.364958</td>\n",
       "      <td>1657.497881</td>\n",
       "      <td>2394.939055</td>\n",
       "      <td>5890.306512</td>\n",
       "    </tr>\n",
       "    <tr>\n",
       "      <th>std</th>\n",
       "      <td>654.841196</td>\n",
       "      <td>510.623749</td>\n",
       "      <td>639.959416</td>\n",
       "      <td>148.746148</td>\n",
       "      <td>163.244708</td>\n",
       "      <td>1174.456017</td>\n",
       "    </tr>\n",
       "    <tr>\n",
       "      <th>min</th>\n",
       "      <td>3780.546651</td>\n",
       "      <td>3421.523218</td>\n",
       "      <td>2617.155967</td>\n",
       "      <td>1452.057666</td>\n",
       "      <td>2220.487682</td>\n",
       "      <td>4756.525781</td>\n",
       "    </tr>\n",
       "    <tr>\n",
       "      <th>25%</th>\n",
       "      <td>4009.722221</td>\n",
       "      <td>3687.983525</td>\n",
       "      <td>2717.062326</td>\n",
       "      <td>1603.857126</td>\n",
       "      <td>2273.489547</td>\n",
       "      <td>5123.712088</td>\n",
       "    </tr>\n",
       "    <tr>\n",
       "      <th>50%</th>\n",
       "      <td>4332.594146</td>\n",
       "      <td>4067.699510</td>\n",
       "      <td>2996.447796</td>\n",
       "      <td>1690.672414</td>\n",
       "      <td>2410.499590</td>\n",
       "      <td>5685.405488</td>\n",
       "    </tr>\n",
       "    <tr>\n",
       "      <th>75%</th>\n",
       "      <td>4754.554339</td>\n",
       "      <td>4399.008047</td>\n",
       "      <td>3439.750428</td>\n",
       "      <td>1744.313169</td>\n",
       "      <td>2531.949098</td>\n",
       "      <td>6451.999911</td>\n",
       "    </tr>\n",
       "    <tr>\n",
       "      <th>max</th>\n",
       "      <td>5280.994710</td>\n",
       "      <td>4520.246008</td>\n",
       "      <td>4031.408271</td>\n",
       "      <td>1796.589032</td>\n",
       "      <td>2538.269358</td>\n",
       "      <td>7433.889293</td>\n",
       "    </tr>\n",
       "  </tbody>\n",
       "</table>\n",
       "</div>"
      ],
      "text/plain": [
       "country      Ecuador  El Salvador    Guatemala        Haiti     Honduras  \\\n",
       "count       4.000000     4.000000     4.000000     4.000000     4.000000   \n",
       "mean     4431.682413  4019.292061  3160.364958  1657.497881  2394.939055   \n",
       "std       654.841196   510.623749   639.959416   148.746148   163.244708   \n",
       "min      3780.546651  3421.523218  2617.155967  1452.057666  2220.487682   \n",
       "25%      4009.722221  3687.983525  2717.062326  1603.857126  2273.489547   \n",
       "50%      4332.594146  4067.699510  2996.447796  1690.672414  2410.499590   \n",
       "75%      4754.554339  4399.008047  3439.750428  1744.313169  2531.949098   \n",
       "max      5280.994710  4520.246008  4031.408271  1796.589032  2538.269358   \n",
       "\n",
       "country      Jamaica  \n",
       "count       4.000000  \n",
       "mean     5890.306512  \n",
       "std      1174.456017  \n",
       "min      4756.525781  \n",
       "25%      5123.712088  \n",
       "50%      5685.405488  \n",
       "75%      6451.999911  \n",
       "max      7433.889293  "
      ]
     },
     "execution_count": 240,
     "metadata": {},
     "output_type": "execute_result"
    }
   ],
   "source": [
    "americas.loc['Ecuador':'Jamaica','gdpPercap_1957':'gdpPercap_1972'].T.describe()"
   ]
  },
  {
   "cell_type": "code",
   "execution_count": 241,
   "metadata": {},
   "outputs": [
    {
     "data": {
      "text/html": [
       "<div>\n",
       "<style scoped>\n",
       "    .dataframe tbody tr th:only-of-type {\n",
       "        vertical-align: middle;\n",
       "    }\n",
       "\n",
       "    .dataframe tbody tr th {\n",
       "        vertical-align: top;\n",
       "    }\n",
       "\n",
       "    .dataframe thead th {\n",
       "        text-align: right;\n",
       "    }\n",
       "</style>\n",
       "<table border=\"1\" class=\"dataframe\">\n",
       "  <thead>\n",
       "    <tr style=\"text-align: right;\">\n",
       "      <th></th>\n",
       "      <th>gdpPercap_1957</th>\n",
       "      <th>gdpPercap_1962</th>\n",
       "      <th>gdpPercap_1967</th>\n",
       "      <th>gdpPercap_1972</th>\n",
       "    </tr>\n",
       "  </thead>\n",
       "  <tbody>\n",
       "    <tr>\n",
       "      <th>count</th>\n",
       "      <td>6.000000</td>\n",
       "      <td>6.000000</td>\n",
       "      <td>6.000000</td>\n",
       "      <td>6.000000</td>\n",
       "    </tr>\n",
       "    <tr>\n",
       "      <th>mean</th>\n",
       "      <td>3087.187863</td>\n",
       "      <td>3324.522590</td>\n",
       "      <td>3715.871872</td>\n",
       "      <td>4241.806262</td>\n",
       "    </tr>\n",
       "    <tr>\n",
       "      <th>std</th>\n",
       "      <td>1113.708296</td>\n",
       "      <td>1281.339276</td>\n",
       "      <td>1655.073126</td>\n",
       "      <td>2050.185340</td>\n",
       "    </tr>\n",
       "    <tr>\n",
       "      <th>min</th>\n",
       "      <td>1726.887882</td>\n",
       "      <td>1796.589032</td>\n",
       "      <td>1452.057666</td>\n",
       "      <td>1654.456946</td>\n",
       "    </tr>\n",
       "    <tr>\n",
       "      <th>25%</th>\n",
       "      <td>2319.654753</td>\n",
       "      <td>2405.958738</td>\n",
       "      <td>2714.334805</td>\n",
       "      <td>2905.233826</td>\n",
       "    </tr>\n",
       "    <tr>\n",
       "      <th>50%</th>\n",
       "      <td>3019.339592</td>\n",
       "      <td>3263.584037</td>\n",
       "      <td>3800.563270</td>\n",
       "      <td>4275.827140</td>\n",
       "    </tr>\n",
       "    <tr>\n",
       "      <th>75%</th>\n",
       "      <td>3690.790793</td>\n",
       "      <td>4008.786465</td>\n",
       "      <td>4523.954509</td>\n",
       "      <td>5090.807534</td>\n",
       "    </tr>\n",
       "    <tr>\n",
       "      <th>max</th>\n",
       "      <td>4756.525781</td>\n",
       "      <td>5246.107524</td>\n",
       "      <td>6124.703451</td>\n",
       "      <td>7433.889293</td>\n",
       "    </tr>\n",
       "  </tbody>\n",
       "</table>\n",
       "</div>"
      ],
      "text/plain": [
       "       gdpPercap_1957  gdpPercap_1962  gdpPercap_1967  gdpPercap_1972\n",
       "count        6.000000        6.000000        6.000000        6.000000\n",
       "mean      3087.187863     3324.522590     3715.871872     4241.806262\n",
       "std       1113.708296     1281.339276     1655.073126     2050.185340\n",
       "min       1726.887882     1796.589032     1452.057666     1654.456946\n",
       "25%       2319.654753     2405.958738     2714.334805     2905.233826\n",
       "50%       3019.339592     3263.584037     3800.563270     4275.827140\n",
       "75%       3690.790793     4008.786465     4523.954509     5090.807534\n",
       "max       4756.525781     5246.107524     6124.703451     7433.889293"
      ]
     },
     "execution_count": 241,
     "metadata": {},
     "output_type": "execute_result"
    }
   ],
   "source": [
    "americas.loc['Ecuador':'Jamaica','gdpPercap_1957':'gdpPercap_1972'].describe()"
   ]
  },
  {
   "cell_type": "markdown",
   "metadata": {},
   "source": [
    "**Selecting values, `.iloc[]`**"
   ]
  },
  {
   "cell_type": "code",
   "execution_count": 257,
   "metadata": {},
   "outputs": [
    {
     "data": {
      "text/html": [
       "<div>\n",
       "<style scoped>\n",
       "    .dataframe tbody tr th:only-of-type {\n",
       "        vertical-align: middle;\n",
       "    }\n",
       "\n",
       "    .dataframe tbody tr th {\n",
       "        vertical-align: top;\n",
       "    }\n",
       "\n",
       "    .dataframe thead th {\n",
       "        text-align: right;\n",
       "    }\n",
       "</style>\n",
       "<table border=\"1\" class=\"dataframe\">\n",
       "  <thead>\n",
       "    <tr style=\"text-align: right;\">\n",
       "      <th></th>\n",
       "      <th>gdpPercap_1957</th>\n",
       "      <th>gdpPercap_1962</th>\n",
       "      <th>gdpPercap_1967</th>\n",
       "      <th>gdpPercap_1972</th>\n",
       "    </tr>\n",
       "    <tr>\n",
       "      <th>country</th>\n",
       "      <th></th>\n",
       "      <th></th>\n",
       "      <th></th>\n",
       "      <th></th>\n",
       "    </tr>\n",
       "  </thead>\n",
       "  <tbody>\n",
       "    <tr>\n",
       "      <th>Ecuador</th>\n",
       "      <td>3780.546651</td>\n",
       "      <td>4086.114078</td>\n",
       "      <td>4579.074215</td>\n",
       "      <td>5280.994710</td>\n",
       "    </tr>\n",
       "    <tr>\n",
       "      <th>El Salvador</th>\n",
       "      <td>3421.523218</td>\n",
       "      <td>3776.803627</td>\n",
       "      <td>4358.595393</td>\n",
       "      <td>4520.246008</td>\n",
       "    </tr>\n",
       "    <tr>\n",
       "      <th>Guatemala</th>\n",
       "      <td>2617.155967</td>\n",
       "      <td>2750.364446</td>\n",
       "      <td>3242.531147</td>\n",
       "      <td>4031.408271</td>\n",
       "    </tr>\n",
       "    <tr>\n",
       "      <th>Haiti</th>\n",
       "      <td>1726.887882</td>\n",
       "      <td>1796.589032</td>\n",
       "      <td>1452.057666</td>\n",
       "      <td>1654.456946</td>\n",
       "    </tr>\n",
       "    <tr>\n",
       "      <th>Honduras</th>\n",
       "      <td>2220.487682</td>\n",
       "      <td>2291.156835</td>\n",
       "      <td>2538.269358</td>\n",
       "      <td>2529.842345</td>\n",
       "    </tr>\n",
       "    <tr>\n",
       "      <th>Jamaica</th>\n",
       "      <td>4756.525781</td>\n",
       "      <td>5246.107524</td>\n",
       "      <td>6124.703451</td>\n",
       "      <td>7433.889293</td>\n",
       "    </tr>\n",
       "    <tr>\n",
       "      <th>Mexico</th>\n",
       "      <td>4131.546641</td>\n",
       "      <td>4581.609385</td>\n",
       "      <td>5754.733883</td>\n",
       "      <td>6809.406690</td>\n",
       "    </tr>\n",
       "  </tbody>\n",
       "</table>\n",
       "</div>"
      ],
      "text/plain": [
       "             gdpPercap_1957  gdpPercap_1962  gdpPercap_1967  gdpPercap_1972\n",
       "country                                                                    \n",
       "Ecuador         3780.546651     4086.114078     4579.074215     5280.994710\n",
       "El Salvador     3421.523218     3776.803627     4358.595393     4520.246008\n",
       "Guatemala       2617.155967     2750.364446     3242.531147     4031.408271\n",
       "Haiti           1726.887882     1796.589032     1452.057666     1654.456946\n",
       "Honduras        2220.487682     2291.156835     2538.269358     2529.842345\n",
       "Jamaica         4756.525781     5246.107524     6124.703451     7433.889293\n",
       "Mexico          4131.546641     4581.609385     5754.733883     6809.406690"
      ]
     },
     "execution_count": 257,
     "metadata": {},
     "output_type": "execute_result"
    }
   ],
   "source": [
    "americas.iloc[9:16,2:6]"
   ]
  },
  {
   "cell_type": "code",
   "execution_count": 262,
   "metadata": {},
   "outputs": [
    {
     "data": {
      "text/html": [
       "<div>\n",
       "<style scoped>\n",
       "    .dataframe tbody tr th:only-of-type {\n",
       "        vertical-align: middle;\n",
       "    }\n",
       "\n",
       "    .dataframe tbody tr th {\n",
       "        vertical-align: top;\n",
       "    }\n",
       "\n",
       "    .dataframe thead th {\n",
       "        text-align: right;\n",
       "    }\n",
       "</style>\n",
       "<table border=\"1\" class=\"dataframe\">\n",
       "  <thead>\n",
       "    <tr style=\"text-align: right;\">\n",
       "      <th></th>\n",
       "      <th>gdpPercap_1952</th>\n",
       "      <th>gdpPercap_1957</th>\n",
       "      <th>gdpPercap_1962</th>\n",
       "      <th>gdpPercap_1967</th>\n",
       "      <th>gdpPercap_1972</th>\n",
       "      <th>gdpPercap_1977</th>\n",
       "      <th>gdpPercap_1982</th>\n",
       "      <th>gdpPercap_1987</th>\n",
       "      <th>gdpPercap_1992</th>\n",
       "      <th>gdpPercap_1997</th>\n",
       "      <th>gdpPercap_2002</th>\n",
       "      <th>gdpPercap_2007</th>\n",
       "    </tr>\n",
       "    <tr>\n",
       "      <th>country</th>\n",
       "      <th></th>\n",
       "      <th></th>\n",
       "      <th></th>\n",
       "      <th></th>\n",
       "      <th></th>\n",
       "      <th></th>\n",
       "      <th></th>\n",
       "      <th></th>\n",
       "      <th></th>\n",
       "      <th></th>\n",
       "      <th></th>\n",
       "      <th></th>\n",
       "    </tr>\n",
       "  </thead>\n",
       "  <tbody>\n",
       "    <tr>\n",
       "      <th>Argentina</th>\n",
       "      <td>5911.315053</td>\n",
       "      <td>6856.856212</td>\n",
       "      <td>7133.166023</td>\n",
       "      <td>8052.953021</td>\n",
       "      <td>9443.038526</td>\n",
       "      <td>10079.026740</td>\n",
       "      <td>8997.897412</td>\n",
       "      <td>9139.671389</td>\n",
       "      <td>9308.418710</td>\n",
       "      <td>10967.281950</td>\n",
       "      <td>8797.640716</td>\n",
       "      <td>12779.379640</td>\n",
       "    </tr>\n",
       "    <tr>\n",
       "      <th>Bolivia</th>\n",
       "      <td>2677.326347</td>\n",
       "      <td>2127.686326</td>\n",
       "      <td>2180.972546</td>\n",
       "      <td>2586.886053</td>\n",
       "      <td>2980.331339</td>\n",
       "      <td>3548.097832</td>\n",
       "      <td>3156.510452</td>\n",
       "      <td>2753.691490</td>\n",
       "      <td>2961.699694</td>\n",
       "      <td>3326.143191</td>\n",
       "      <td>3413.262690</td>\n",
       "      <td>3822.137084</td>\n",
       "    </tr>\n",
       "    <tr>\n",
       "      <th>Brazil</th>\n",
       "      <td>2108.944355</td>\n",
       "      <td>2487.365989</td>\n",
       "      <td>3336.585802</td>\n",
       "      <td>3429.864357</td>\n",
       "      <td>4985.711467</td>\n",
       "      <td>6660.118654</td>\n",
       "      <td>7030.835878</td>\n",
       "      <td>7807.095818</td>\n",
       "      <td>6950.283021</td>\n",
       "      <td>7957.980824</td>\n",
       "      <td>8131.212843</td>\n",
       "      <td>9065.800825</td>\n",
       "    </tr>\n",
       "    <tr>\n",
       "      <th>Canada</th>\n",
       "      <td>11367.161120</td>\n",
       "      <td>12489.950060</td>\n",
       "      <td>13462.485550</td>\n",
       "      <td>16076.588030</td>\n",
       "      <td>18970.570860</td>\n",
       "      <td>22090.883060</td>\n",
       "      <td>22898.792140</td>\n",
       "      <td>26626.515030</td>\n",
       "      <td>26342.884260</td>\n",
       "      <td>28954.925890</td>\n",
       "      <td>33328.965070</td>\n",
       "      <td>36319.235010</td>\n",
       "    </tr>\n",
       "    <tr>\n",
       "      <th>Chile</th>\n",
       "      <td>3939.978789</td>\n",
       "      <td>4315.622723</td>\n",
       "      <td>4519.094331</td>\n",
       "      <td>5106.654313</td>\n",
       "      <td>5494.024437</td>\n",
       "      <td>4756.763836</td>\n",
       "      <td>5095.665738</td>\n",
       "      <td>5547.063754</td>\n",
       "      <td>7596.125964</td>\n",
       "      <td>10118.053180</td>\n",
       "      <td>10778.783850</td>\n",
       "      <td>13171.638850</td>\n",
       "    </tr>\n",
       "  </tbody>\n",
       "</table>\n",
       "</div>"
      ],
      "text/plain": [
       "           gdpPercap_1952  gdpPercap_1957  gdpPercap_1962  gdpPercap_1967  \\\n",
       "country                                                                     \n",
       "Argentina     5911.315053     6856.856212     7133.166023     8052.953021   \n",
       "Bolivia       2677.326347     2127.686326     2180.972546     2586.886053   \n",
       "Brazil        2108.944355     2487.365989     3336.585802     3429.864357   \n",
       "Canada       11367.161120    12489.950060    13462.485550    16076.588030   \n",
       "Chile         3939.978789     4315.622723     4519.094331     5106.654313   \n",
       "\n",
       "           gdpPercap_1972  gdpPercap_1977  gdpPercap_1982  gdpPercap_1987  \\\n",
       "country                                                                     \n",
       "Argentina     9443.038526    10079.026740     8997.897412     9139.671389   \n",
       "Bolivia       2980.331339     3548.097832     3156.510452     2753.691490   \n",
       "Brazil        4985.711467     6660.118654     7030.835878     7807.095818   \n",
       "Canada       18970.570860    22090.883060    22898.792140    26626.515030   \n",
       "Chile         5494.024437     4756.763836     5095.665738     5547.063754   \n",
       "\n",
       "           gdpPercap_1992  gdpPercap_1997  gdpPercap_2002  gdpPercap_2007  \n",
       "country                                                                    \n",
       "Argentina     9308.418710    10967.281950     8797.640716    12779.379640  \n",
       "Bolivia       2961.699694     3326.143191     3413.262690     3822.137084  \n",
       "Brazil        6950.283021     7957.980824     8131.212843     9065.800825  \n",
       "Canada       26342.884260    28954.925890    33328.965070    36319.235010  \n",
       "Chile         7596.125964    10118.053180    10778.783850    13171.638850  "
      ]
     },
     "execution_count": 262,
     "metadata": {},
     "output_type": "execute_result"
    }
   ],
   "source": [
    "americas.iloc[:,1:].head() # omits the 'continent' column"
   ]
  },
  {
   "cell_type": "code",
   "execution_count": 319,
   "metadata": {},
   "outputs": [
    {
     "data": {
      "text/html": [
       "<div>\n",
       "<style scoped>\n",
       "    .dataframe tbody tr th:only-of-type {\n",
       "        vertical-align: middle;\n",
       "    }\n",
       "\n",
       "    .dataframe tbody tr th {\n",
       "        vertical-align: top;\n",
       "    }\n",
       "\n",
       "    .dataframe thead th {\n",
       "        text-align: right;\n",
       "    }\n",
       "</style>\n",
       "<table border=\"1\" class=\"dataframe\">\n",
       "  <thead>\n",
       "    <tr style=\"text-align: right;\">\n",
       "      <th></th>\n",
       "      <th>gdpPercap_1952</th>\n",
       "      <th>gdpPercap_1957</th>\n",
       "    </tr>\n",
       "    <tr>\n",
       "      <th>country</th>\n",
       "      <th></th>\n",
       "      <th></th>\n",
       "    </tr>\n",
       "  </thead>\n",
       "  <tbody>\n",
       "    <tr>\n",
       "      <th>Argentina</th>\n",
       "      <td>5911.315053</td>\n",
       "      <td>6856.856212</td>\n",
       "    </tr>\n",
       "    <tr>\n",
       "      <th>Bolivia</th>\n",
       "      <td>2677.326347</td>\n",
       "      <td>2127.686326</td>\n",
       "    </tr>\n",
       "    <tr>\n",
       "      <th>Brazil</th>\n",
       "      <td>2108.944355</td>\n",
       "      <td>2487.365989</td>\n",
       "    </tr>\n",
       "  </tbody>\n",
       "</table>\n",
       "</div>"
      ],
      "text/plain": [
       "           gdpPercap_1952  gdpPercap_1957\n",
       "country                                  \n",
       "Argentina     5911.315053     6856.856212\n",
       "Bolivia       2677.326347     2127.686326\n",
       "Brazil        2108.944355     2487.365989"
      ]
     },
     "execution_count": 319,
     "metadata": {},
     "output_type": "execute_result"
    }
   ],
   "source": [
    "americas.iloc[0:3,1:3] # 1:3 -- 1 omits the 'continent' column"
   ]
  },
  {
   "cell_type": "markdown",
   "metadata": {},
   "source": [
    "Observation:\n",
    "```\n",
    "1:3, omits the final index (i.e. index 3) in the range provided, while a named slice, ‘gdpPercap_1952’:’gdpPercap_1962’, includes the final element.```"
   ]
  },
  {
   "cell_type": "code",
   "execution_count": 315,
   "metadata": {},
   "outputs": [
    {
     "data": {
      "text/html": [
       "<div>\n",
       "<style scoped>\n",
       "    .dataframe tbody tr th:only-of-type {\n",
       "        vertical-align: middle;\n",
       "    }\n",
       "\n",
       "    .dataframe tbody tr th {\n",
       "        vertical-align: top;\n",
       "    }\n",
       "\n",
       "    .dataframe thead th {\n",
       "        text-align: right;\n",
       "    }\n",
       "</style>\n",
       "<table border=\"1\" class=\"dataframe\">\n",
       "  <thead>\n",
       "    <tr style=\"text-align: right;\">\n",
       "      <th></th>\n",
       "      <th>gdpPercap_1952</th>\n",
       "      <th>gdpPercap_1957</th>\n",
       "      <th>gdpPercap_1962</th>\n",
       "    </tr>\n",
       "    <tr>\n",
       "      <th>country</th>\n",
       "      <th></th>\n",
       "      <th></th>\n",
       "      <th></th>\n",
       "    </tr>\n",
       "  </thead>\n",
       "  <tbody>\n",
       "    <tr>\n",
       "      <th>Argentina</th>\n",
       "      <td>5911.315053</td>\n",
       "      <td>6856.856212</td>\n",
       "      <td>7133.166023</td>\n",
       "    </tr>\n",
       "    <tr>\n",
       "      <th>Bolivia</th>\n",
       "      <td>2677.326347</td>\n",
       "      <td>2127.686326</td>\n",
       "      <td>2180.972546</td>\n",
       "    </tr>\n",
       "    <tr>\n",
       "      <th>Brazil</th>\n",
       "      <td>2108.944355</td>\n",
       "      <td>2487.365989</td>\n",
       "      <td>3336.585802</td>\n",
       "    </tr>\n",
       "  </tbody>\n",
       "</table>\n",
       "</div>"
      ],
      "text/plain": [
       "           gdpPercap_1952  gdpPercap_1957  gdpPercap_1962\n",
       "country                                                  \n",
       "Argentina     5911.315053     6856.856212     7133.166023\n",
       "Bolivia       2677.326347     2127.686326     2180.972546\n",
       "Brazil        2108.944355     2487.365989     3336.585802"
      ]
     },
     "execution_count": 315,
     "metadata": {},
     "output_type": "execute_result"
    }
   ],
   "source": [
    "americas.loc['Argentina':'Brazil','gdpPercap_1952':'gdpPercap_1962']"
   ]
  },
  {
   "cell_type": "markdown",
   "metadata": {},
   "source": [
    "**Selecting data based on value**"
   ]
  },
  {
   "cell_type": "code",
   "execution_count": 285,
   "metadata": {},
   "outputs": [],
   "source": [
    "subset_americas=americas.loc['Ecuador':'Jamaica','gdpPercap_1957':'gdpPercap_1972']"
   ]
  },
  {
   "cell_type": "code",
   "execution_count": 286,
   "metadata": {},
   "outputs": [
    {
     "name": "stdout",
     "output_type": "stream",
     "text": [
      "\t--> Subset of Americas:\n",
      "\n",
      "              gdpPercap_1957  gdpPercap_1962  gdpPercap_1967  gdpPercap_1972\n",
      "country                                                                    \n",
      "Ecuador         3780.546651     4086.114078     4579.074215     5280.994710\n",
      "El Salvador     3421.523218     3776.803627     4358.595393     4520.246008\n",
      "Guatemala       2617.155967     2750.364446     3242.531147     4031.408271\n",
      "Haiti           1726.887882     1796.589032     1452.057666     1654.456946\n",
      "Honduras        2220.487682     2291.156835     2538.269358     2529.842345\n",
      "Jamaica         4756.525781     5246.107524     6124.703451     7433.889293 \n",
      "\n",
      "\n",
      "\t--> Where are values larger than 3,500 \n",
      "\n",
      "              gdpPercap_1957  gdpPercap_1962  gdpPercap_1967  gdpPercap_1972\n",
      "country                                                                    \n",
      "Ecuador                True            True            True            True\n",
      "El Salvador           False            True            True            True\n",
      "Guatemala             False           False           False            True\n",
      "Haiti                 False           False           False           False\n",
      "Honduras              False           False           False           False\n",
      "Jamaica                True            True            True            True\n"
     ]
    }
   ],
   "source": [
    "print('\\t--> Subset of Americas:\\n\\n', subset_americas,'\\n\\n')\n",
    "print('\\t--> Where are values larger than 3,500 \\n\\n',subset_americas >=3500)"
   ]
  },
  {
   "cell_type": "markdown",
   "metadata": {},
   "source": [
    "**Mask values**"
   ]
  },
  {
   "cell_type": "code",
   "execution_count": 290,
   "metadata": {},
   "outputs": [
    {
     "data": {
      "text/html": [
       "<div>\n",
       "<style scoped>\n",
       "    .dataframe tbody tr th:only-of-type {\n",
       "        vertical-align: middle;\n",
       "    }\n",
       "\n",
       "    .dataframe tbody tr th {\n",
       "        vertical-align: top;\n",
       "    }\n",
       "\n",
       "    .dataframe thead th {\n",
       "        text-align: right;\n",
       "    }\n",
       "</style>\n",
       "<table border=\"1\" class=\"dataframe\">\n",
       "  <thead>\n",
       "    <tr style=\"text-align: right;\">\n",
       "      <th></th>\n",
       "      <th>gdpPercap_1957</th>\n",
       "      <th>gdpPercap_1962</th>\n",
       "      <th>gdpPercap_1967</th>\n",
       "      <th>gdpPercap_1972</th>\n",
       "    </tr>\n",
       "    <tr>\n",
       "      <th>country</th>\n",
       "      <th></th>\n",
       "      <th></th>\n",
       "      <th></th>\n",
       "      <th></th>\n",
       "    </tr>\n",
       "  </thead>\n",
       "  <tbody>\n",
       "    <tr>\n",
       "      <th>Ecuador</th>\n",
       "      <td>3780.546651</td>\n",
       "      <td>4086.114078</td>\n",
       "      <td>4579.074215</td>\n",
       "      <td>5280.994710</td>\n",
       "    </tr>\n",
       "    <tr>\n",
       "      <th>El Salvador</th>\n",
       "      <td>NaN</td>\n",
       "      <td>3776.803627</td>\n",
       "      <td>4358.595393</td>\n",
       "      <td>4520.246008</td>\n",
       "    </tr>\n",
       "    <tr>\n",
       "      <th>Guatemala</th>\n",
       "      <td>NaN</td>\n",
       "      <td>NaN</td>\n",
       "      <td>NaN</td>\n",
       "      <td>4031.408271</td>\n",
       "    </tr>\n",
       "    <tr>\n",
       "      <th>Haiti</th>\n",
       "      <td>NaN</td>\n",
       "      <td>NaN</td>\n",
       "      <td>NaN</td>\n",
       "      <td>NaN</td>\n",
       "    </tr>\n",
       "    <tr>\n",
       "      <th>Honduras</th>\n",
       "      <td>NaN</td>\n",
       "      <td>NaN</td>\n",
       "      <td>NaN</td>\n",
       "      <td>NaN</td>\n",
       "    </tr>\n",
       "    <tr>\n",
       "      <th>Jamaica</th>\n",
       "      <td>4756.525781</td>\n",
       "      <td>5246.107524</td>\n",
       "      <td>6124.703451</td>\n",
       "      <td>7433.889293</td>\n",
       "    </tr>\n",
       "  </tbody>\n",
       "</table>\n",
       "</div>"
      ],
      "text/plain": [
       "             gdpPercap_1957  gdpPercap_1962  gdpPercap_1967  gdpPercap_1972\n",
       "country                                                                    \n",
       "Ecuador         3780.546651     4086.114078     4579.074215     5280.994710\n",
       "El Salvador             NaN     3776.803627     4358.595393     4520.246008\n",
       "Guatemala               NaN             NaN             NaN     4031.408271\n",
       "Haiti                   NaN             NaN             NaN             NaN\n",
       "Honduras                NaN             NaN             NaN             NaN\n",
       "Jamaica         4756.525781     5246.107524     6124.703451     7433.889293"
      ]
     },
     "execution_count": 290,
     "metadata": {},
     "output_type": "execute_result"
    }
   ],
   "source": [
    "subset_americas[subset_americas >=3500]"
   ]
  },
  {
   "cell_type": "code",
   "execution_count": 296,
   "metadata": {},
   "outputs": [
    {
     "data": {
      "text/html": [
       "<div>\n",
       "<style scoped>\n",
       "    .dataframe tbody tr th:only-of-type {\n",
       "        vertical-align: middle;\n",
       "    }\n",
       "\n",
       "    .dataframe tbody tr th {\n",
       "        vertical-align: top;\n",
       "    }\n",
       "\n",
       "    .dataframe thead th {\n",
       "        text-align: right;\n",
       "    }\n",
       "</style>\n",
       "<table border=\"1\" class=\"dataframe\">\n",
       "  <thead>\n",
       "    <tr style=\"text-align: right;\">\n",
       "      <th></th>\n",
       "      <th>gdpPercap_1957</th>\n",
       "      <th>gdpPercap_1962</th>\n",
       "      <th>gdpPercap_1967</th>\n",
       "      <th>gdpPercap_1972</th>\n",
       "    </tr>\n",
       "    <tr>\n",
       "      <th>country</th>\n",
       "      <th></th>\n",
       "      <th></th>\n",
       "      <th></th>\n",
       "      <th></th>\n",
       "    </tr>\n",
       "  </thead>\n",
       "  <tbody>\n",
       "    <tr>\n",
       "      <th>Ecuador</th>\n",
       "      <td>3780.546651</td>\n",
       "      <td>4086.114078</td>\n",
       "      <td>4579.074215</td>\n",
       "      <td>5280.994710</td>\n",
       "    </tr>\n",
       "    <tr>\n",
       "      <th>El Salvador</th>\n",
       "      <td>NaN</td>\n",
       "      <td>3776.803627</td>\n",
       "      <td>4358.595393</td>\n",
       "      <td>4520.246008</td>\n",
       "    </tr>\n",
       "    <tr>\n",
       "      <th>Guatemala</th>\n",
       "      <td>NaN</td>\n",
       "      <td>NaN</td>\n",
       "      <td>NaN</td>\n",
       "      <td>4031.408271</td>\n",
       "    </tr>\n",
       "    <tr>\n",
       "      <th>Haiti</th>\n",
       "      <td>NaN</td>\n",
       "      <td>NaN</td>\n",
       "      <td>NaN</td>\n",
       "      <td>NaN</td>\n",
       "    </tr>\n",
       "    <tr>\n",
       "      <th>Honduras</th>\n",
       "      <td>NaN</td>\n",
       "      <td>NaN</td>\n",
       "      <td>NaN</td>\n",
       "      <td>NaN</td>\n",
       "    </tr>\n",
       "    <tr>\n",
       "      <th>Jamaica</th>\n",
       "      <td>4756.525781</td>\n",
       "      <td>5246.107524</td>\n",
       "      <td>6124.703451</td>\n",
       "      <td>7433.889293</td>\n",
       "    </tr>\n",
       "  </tbody>\n",
       "</table>\n",
       "</div>"
      ],
      "text/plain": [
       "             gdpPercap_1957  gdpPercap_1962  gdpPercap_1967  gdpPercap_1972\n",
       "country                                                                    \n",
       "Ecuador         3780.546651     4086.114078     4579.074215     5280.994710\n",
       "El Salvador             NaN     3776.803627     4358.595393     4520.246008\n",
       "Guatemala               NaN             NaN             NaN     4031.408271\n",
       "Haiti                   NaN             NaN             NaN             NaN\n",
       "Honduras                NaN             NaN             NaN             NaN\n",
       "Jamaica         4756.525781     5246.107524     6124.703451     7433.889293"
      ]
     },
     "execution_count": 296,
     "metadata": {},
     "output_type": "execute_result"
    }
   ],
   "source": [
    "mask=subset_americas >=3500\n",
    "subset_americas[mask] # another way to do it"
   ]
  },
  {
   "cell_type": "code",
   "execution_count": 293,
   "metadata": {},
   "outputs": [
    {
     "data": {
      "text/html": [
       "<div>\n",
       "<style scoped>\n",
       "    .dataframe tbody tr th:only-of-type {\n",
       "        vertical-align: middle;\n",
       "    }\n",
       "\n",
       "    .dataframe tbody tr th {\n",
       "        vertical-align: top;\n",
       "    }\n",
       "\n",
       "    .dataframe thead th {\n",
       "        text-align: right;\n",
       "    }\n",
       "</style>\n",
       "<table border=\"1\" class=\"dataframe\">\n",
       "  <thead>\n",
       "    <tr style=\"text-align: right;\">\n",
       "      <th></th>\n",
       "      <th>gdpPercap_1957</th>\n",
       "      <th>gdpPercap_1962</th>\n",
       "      <th>gdpPercap_1967</th>\n",
       "      <th>gdpPercap_1972</th>\n",
       "    </tr>\n",
       "  </thead>\n",
       "  <tbody>\n",
       "    <tr>\n",
       "      <th>count</th>\n",
       "      <td>2.000000</td>\n",
       "      <td>3.000000</td>\n",
       "      <td>3.000000</td>\n",
       "      <td>4.000000</td>\n",
       "    </tr>\n",
       "    <tr>\n",
       "      <th>mean</th>\n",
       "      <td>4268.536216</td>\n",
       "      <td>4369.675076</td>\n",
       "      <td>5020.791020</td>\n",
       "      <td>5316.634571</td>\n",
       "    </tr>\n",
       "    <tr>\n",
       "      <th>std</th>\n",
       "      <td>690.121461</td>\n",
       "      <td>774.608685</td>\n",
       "      <td>962.351142</td>\n",
       "      <td>1502.229359</td>\n",
       "    </tr>\n",
       "    <tr>\n",
       "      <th>min</th>\n",
       "      <td>3780.546651</td>\n",
       "      <td>3776.803627</td>\n",
       "      <td>4358.595393</td>\n",
       "      <td>4031.408271</td>\n",
       "    </tr>\n",
       "    <tr>\n",
       "      <th>25%</th>\n",
       "      <td>4024.541433</td>\n",
       "      <td>3931.458852</td>\n",
       "      <td>4468.834804</td>\n",
       "      <td>4398.036574</td>\n",
       "    </tr>\n",
       "    <tr>\n",
       "      <th>50%</th>\n",
       "      <td>4268.536216</td>\n",
       "      <td>4086.114078</td>\n",
       "      <td>4579.074215</td>\n",
       "      <td>4900.620359</td>\n",
       "    </tr>\n",
       "    <tr>\n",
       "      <th>75%</th>\n",
       "      <td>4512.530999</td>\n",
       "      <td>4666.110801</td>\n",
       "      <td>5351.888833</td>\n",
       "      <td>5819.218356</td>\n",
       "    </tr>\n",
       "    <tr>\n",
       "      <th>max</th>\n",
       "      <td>4756.525781</td>\n",
       "      <td>5246.107524</td>\n",
       "      <td>6124.703451</td>\n",
       "      <td>7433.889293</td>\n",
       "    </tr>\n",
       "  </tbody>\n",
       "</table>\n",
       "</div>"
      ],
      "text/plain": [
       "       gdpPercap_1957  gdpPercap_1962  gdpPercap_1967  gdpPercap_1972\n",
       "count        2.000000        3.000000        3.000000        4.000000\n",
       "mean      4268.536216     4369.675076     5020.791020     5316.634571\n",
       "std        690.121461      774.608685      962.351142     1502.229359\n",
       "min       3780.546651     3776.803627     4358.595393     4031.408271\n",
       "25%       4024.541433     3931.458852     4468.834804     4398.036574\n",
       "50%       4268.536216     4086.114078     4579.074215     4900.620359\n",
       "75%       4512.530999     4666.110801     5351.888833     5819.218356\n",
       "max       4756.525781     5246.107524     6124.703451     7433.889293"
      ]
     },
     "execution_count": 293,
     "metadata": {},
     "output_type": "execute_result"
    }
   ],
   "source": [
    "subset_americas[mask].describe()"
   ]
  },
  {
   "cell_type": "code",
   "execution_count": 295,
   "metadata": {},
   "outputs": [
    {
     "data": {
      "text/html": [
       "<div>\n",
       "<style scoped>\n",
       "    .dataframe tbody tr th:only-of-type {\n",
       "        vertical-align: middle;\n",
       "    }\n",
       "\n",
       "    .dataframe tbody tr th {\n",
       "        vertical-align: top;\n",
       "    }\n",
       "\n",
       "    .dataframe thead th {\n",
       "        text-align: right;\n",
       "    }\n",
       "</style>\n",
       "<table border=\"1\" class=\"dataframe\">\n",
       "  <thead>\n",
       "    <tr style=\"text-align: right;\">\n",
       "      <th></th>\n",
       "      <th>gdpPercap_1957</th>\n",
       "      <th>gdpPercap_1962</th>\n",
       "      <th>gdpPercap_1967</th>\n",
       "      <th>gdpPercap_1972</th>\n",
       "    </tr>\n",
       "  </thead>\n",
       "  <tbody>\n",
       "    <tr>\n",
       "      <th>count</th>\n",
       "      <td>6.000000</td>\n",
       "      <td>6.000000</td>\n",
       "      <td>6.000000</td>\n",
       "      <td>6.000000</td>\n",
       "    </tr>\n",
       "    <tr>\n",
       "      <th>mean</th>\n",
       "      <td>3087.187863</td>\n",
       "      <td>3324.522590</td>\n",
       "      <td>3715.871872</td>\n",
       "      <td>4241.806262</td>\n",
       "    </tr>\n",
       "    <tr>\n",
       "      <th>std</th>\n",
       "      <td>1113.708296</td>\n",
       "      <td>1281.339276</td>\n",
       "      <td>1655.073126</td>\n",
       "      <td>2050.185340</td>\n",
       "    </tr>\n",
       "    <tr>\n",
       "      <th>min</th>\n",
       "      <td>1726.887882</td>\n",
       "      <td>1796.589032</td>\n",
       "      <td>1452.057666</td>\n",
       "      <td>1654.456946</td>\n",
       "    </tr>\n",
       "    <tr>\n",
       "      <th>25%</th>\n",
       "      <td>2319.654753</td>\n",
       "      <td>2405.958738</td>\n",
       "      <td>2714.334805</td>\n",
       "      <td>2905.233826</td>\n",
       "    </tr>\n",
       "    <tr>\n",
       "      <th>50%</th>\n",
       "      <td>3019.339592</td>\n",
       "      <td>3263.584037</td>\n",
       "      <td>3800.563270</td>\n",
       "      <td>4275.827140</td>\n",
       "    </tr>\n",
       "    <tr>\n",
       "      <th>75%</th>\n",
       "      <td>3690.790793</td>\n",
       "      <td>4008.786465</td>\n",
       "      <td>4523.954509</td>\n",
       "      <td>5090.807534</td>\n",
       "    </tr>\n",
       "    <tr>\n",
       "      <th>max</th>\n",
       "      <td>4756.525781</td>\n",
       "      <td>5246.107524</td>\n",
       "      <td>6124.703451</td>\n",
       "      <td>7433.889293</td>\n",
       "    </tr>\n",
       "  </tbody>\n",
       "</table>\n",
       "</div>"
      ],
      "text/plain": [
       "       gdpPercap_1957  gdpPercap_1962  gdpPercap_1967  gdpPercap_1972\n",
       "count        6.000000        6.000000        6.000000        6.000000\n",
       "mean      3087.187863     3324.522590     3715.871872     4241.806262\n",
       "std       1113.708296     1281.339276     1655.073126     2050.185340\n",
       "min       1726.887882     1796.589032     1452.057666     1654.456946\n",
       "25%       2319.654753     2405.958738     2714.334805     2905.233826\n",
       "50%       3019.339592     3263.584037     3800.563270     4275.827140\n",
       "75%       3690.790793     4008.786465     4523.954509     5090.807534\n",
       "max       4756.525781     5246.107524     6124.703451     7433.889293"
      ]
     },
     "execution_count": 295,
     "metadata": {},
     "output_type": "execute_result"
    }
   ],
   "source": [
    "americas.loc['Ecuador':'Jamaica','gdpPercap_1957':'gdpPercap_1972'].describe() # compare to the original"
   ]
  },
  {
   "cell_type": "markdown",
   "metadata": {},
   "source": [
    "# Cheeky Exercise"
   ]
  },
  {
   "cell_type": "markdown",
   "metadata": {},
   "source": [
    "# 3. \n",
    "## A. Import `gapminder_gdp_europe.csv` as `europe`, \n",
    "## B. slice to keep `Italy` to `Poland`, and\n",
    "## C. also slice `1962` to `1972`\n",
    "## D. Mask values less than `8000`"
   ]
  },
  {
   "cell_type": "code",
   "execution_count": 297,
   "metadata": {},
   "outputs": [],
   "source": [
    "europe=pd.read_csv('gapminder_gdp_europe.csv', index_col='country')"
   ]
  },
  {
   "cell_type": "code",
   "execution_count": 300,
   "metadata": {},
   "outputs": [
    {
     "data": {
      "text/html": [
       "<div>\n",
       "<style scoped>\n",
       "    .dataframe tbody tr th:only-of-type {\n",
       "        vertical-align: middle;\n",
       "    }\n",
       "\n",
       "    .dataframe tbody tr th {\n",
       "        vertical-align: top;\n",
       "    }\n",
       "\n",
       "    .dataframe thead th {\n",
       "        text-align: right;\n",
       "    }\n",
       "</style>\n",
       "<table border=\"1\" class=\"dataframe\">\n",
       "  <thead>\n",
       "    <tr style=\"text-align: right;\">\n",
       "      <th></th>\n",
       "      <th>gdpPercap_1962</th>\n",
       "      <th>gdpPercap_1967</th>\n",
       "      <th>gdpPercap_1972</th>\n",
       "    </tr>\n",
       "    <tr>\n",
       "      <th>country</th>\n",
       "      <th></th>\n",
       "      <th></th>\n",
       "      <th></th>\n",
       "    </tr>\n",
       "  </thead>\n",
       "  <tbody>\n",
       "    <tr>\n",
       "      <th>Italy</th>\n",
       "      <td>8243.582340</td>\n",
       "      <td>10022.401310</td>\n",
       "      <td>12269.273780</td>\n",
       "    </tr>\n",
       "    <tr>\n",
       "      <th>Montenegro</th>\n",
       "      <td>4649.593785</td>\n",
       "      <td>5907.850937</td>\n",
       "      <td>7778.414017</td>\n",
       "    </tr>\n",
       "    <tr>\n",
       "      <th>Netherlands</th>\n",
       "      <td>12790.849560</td>\n",
       "      <td>15363.251360</td>\n",
       "      <td>18794.745670</td>\n",
       "    </tr>\n",
       "    <tr>\n",
       "      <th>Norway</th>\n",
       "      <td>13450.401510</td>\n",
       "      <td>16361.876470</td>\n",
       "      <td>18965.055510</td>\n",
       "    </tr>\n",
       "    <tr>\n",
       "      <th>Poland</th>\n",
       "      <td>5338.752143</td>\n",
       "      <td>6557.152776</td>\n",
       "      <td>8006.506993</td>\n",
       "    </tr>\n",
       "  </tbody>\n",
       "</table>\n",
       "</div>"
      ],
      "text/plain": [
       "             gdpPercap_1962  gdpPercap_1967  gdpPercap_1972\n",
       "country                                                    \n",
       "Italy           8243.582340    10022.401310    12269.273780\n",
       "Montenegro      4649.593785     5907.850937     7778.414017\n",
       "Netherlands    12790.849560    15363.251360    18794.745670\n",
       "Norway         13450.401510    16361.876470    18965.055510\n",
       "Poland          5338.752143     6557.152776     8006.506993"
      ]
     },
     "execution_count": 300,
     "metadata": {},
     "output_type": "execute_result"
    }
   ],
   "source": [
    "subset_europe=europe.loc['Italy':'Poland','gdpPercap_1962':'gdpPercap_1972']\n",
    "subset_europe"
   ]
  },
  {
   "cell_type": "code",
   "execution_count": 307,
   "metadata": {
    "scrolled": true
   },
   "outputs": [
    {
     "data": {
      "text/html": [
       "<div>\n",
       "<style scoped>\n",
       "    .dataframe tbody tr th:only-of-type {\n",
       "        vertical-align: middle;\n",
       "    }\n",
       "\n",
       "    .dataframe tbody tr th {\n",
       "        vertical-align: top;\n",
       "    }\n",
       "\n",
       "    .dataframe thead th {\n",
       "        text-align: right;\n",
       "    }\n",
       "</style>\n",
       "<table border=\"1\" class=\"dataframe\">\n",
       "  <thead>\n",
       "    <tr style=\"text-align: right;\">\n",
       "      <th></th>\n",
       "      <th>gdpPercap_1962</th>\n",
       "      <th>gdpPercap_1967</th>\n",
       "      <th>gdpPercap_1972</th>\n",
       "    </tr>\n",
       "    <tr>\n",
       "      <th>country</th>\n",
       "      <th></th>\n",
       "      <th></th>\n",
       "      <th></th>\n",
       "    </tr>\n",
       "  </thead>\n",
       "  <tbody>\n",
       "    <tr>\n",
       "      <th>Italy</th>\n",
       "      <td>8243.58234</td>\n",
       "      <td>10022.40131</td>\n",
       "      <td>12269.273780</td>\n",
       "    </tr>\n",
       "    <tr>\n",
       "      <th>Montenegro</th>\n",
       "      <td>NaN</td>\n",
       "      <td>NaN</td>\n",
       "      <td>NaN</td>\n",
       "    </tr>\n",
       "    <tr>\n",
       "      <th>Netherlands</th>\n",
       "      <td>12790.84956</td>\n",
       "      <td>15363.25136</td>\n",
       "      <td>18794.745670</td>\n",
       "    </tr>\n",
       "    <tr>\n",
       "      <th>Norway</th>\n",
       "      <td>13450.40151</td>\n",
       "      <td>16361.87647</td>\n",
       "      <td>18965.055510</td>\n",
       "    </tr>\n",
       "    <tr>\n",
       "      <th>Poland</th>\n",
       "      <td>NaN</td>\n",
       "      <td>NaN</td>\n",
       "      <td>8006.506993</td>\n",
       "    </tr>\n",
       "  </tbody>\n",
       "</table>\n",
       "</div>"
      ],
      "text/plain": [
       "             gdpPercap_1962  gdpPercap_1967  gdpPercap_1972\n",
       "country                                                    \n",
       "Italy            8243.58234     10022.40131    12269.273780\n",
       "Montenegro              NaN             NaN             NaN\n",
       "Netherlands     12790.84956     15363.25136    18794.745670\n",
       "Norway          13450.40151     16361.87647    18965.055510\n",
       "Poland                  NaN             NaN     8006.506993"
      ]
     },
     "execution_count": 307,
     "metadata": {},
     "output_type": "execute_result"
    }
   ],
   "source": [
    "masker=subset_europe>8000\n",
    "subset_europe[masker]"
   ]
  },
  {
   "cell_type": "code",
   "execution_count": 311,
   "metadata": {},
   "outputs": [
    {
     "data": {
      "text/plain": [
       "gdpPercap_1952     5661.057435\n",
       "gdpPercap_1957     6963.012816\n",
       "gdpPercap_1962     8365.486814\n",
       "gdpPercap_1967    10143.823757\n",
       "gdpPercap_1972    12479.575246\n",
       "gdpPercap_1977    14283.979110\n",
       "gdpPercap_1982    15617.896551\n",
       "gdpPercap_1987    17214.310727\n",
       "gdpPercap_1992    17061.568084\n",
       "gdpPercap_1997    19076.781802\n",
       "gdpPercap_2002    21711.732422\n",
       "gdpPercap_2007    25054.481636\n",
       "dtype: float64"
      ]
     },
     "execution_count": 311,
     "metadata": {},
     "output_type": "execute_result"
    }
   ],
   "source": [
    "europe.mean()"
   ]
  },
  {
   "cell_type": "markdown",
   "metadata": {},
   "source": [
    "# 6. Plotting!"
   ]
  },
  {
   "cell_type": "code",
   "execution_count": 320,
   "metadata": {},
   "outputs": [],
   "source": [
    "%matplotlib inline\n",
    "import matplotlib.pyplot as plt"
   ]
  },
  {
   "cell_type": "code",
   "execution_count": 322,
   "metadata": {},
   "outputs": [
    {
     "data": {
      "text/plain": [
       "Text(0, 0.5, 'Position km')"
      ]
     },
     "execution_count": 322,
     "metadata": {},
     "output_type": "execute_result"
    },
    {
     "data": {
      "image/png": "[encoded data removed]",
      "text/plain": [
       "<Figure size 432x288 with 1 Axes>"
      ]
     },
     "metadata": {},
     "output_type": "display_data"
    }
   ],
   "source": [
    "time=[0,1,2,3,4]\n",
    "position=[0,100,200,300,400]\n",
    "plt.plot(time,position)\n",
    "plt.xlabel('Time h')\n",
    "plt.ylabel('Position km')"
   ]
  },
  {
   "cell_type": "code",
   "execution_count": 350,
   "metadata": {},
   "outputs": [
    {
     "data": {
      "text/html": [
       "<div>\n",
       "<style scoped>\n",
       "    .dataframe tbody tr th:only-of-type {\n",
       "        vertical-align: middle;\n",
       "    }\n",
       "\n",
       "    .dataframe tbody tr th {\n",
       "        vertical-align: top;\n",
       "    }\n",
       "\n",
       "    .dataframe thead th {\n",
       "        text-align: right;\n",
       "    }\n",
       "</style>\n",
       "<table border=\"1\" class=\"dataframe\">\n",
       "  <thead>\n",
       "    <tr style=\"text-align: right;\">\n",
       "      <th></th>\n",
       "      <th>gdpPercap_1952</th>\n",
       "      <th>gdpPercap_1957</th>\n",
       "      <th>gdpPercap_1962</th>\n",
       "      <th>gdpPercap_1967</th>\n",
       "      <th>gdpPercap_1972</th>\n",
       "      <th>gdpPercap_1977</th>\n",
       "      <th>gdpPercap_1982</th>\n",
       "      <th>gdpPercap_1987</th>\n",
       "      <th>gdpPercap_1992</th>\n",
       "      <th>gdpPercap_1997</th>\n",
       "      <th>gdpPercap_2002</th>\n",
       "      <th>gdpPercap_2007</th>\n",
       "    </tr>\n",
       "    <tr>\n",
       "      <th>country</th>\n",
       "      <th></th>\n",
       "      <th></th>\n",
       "      <th></th>\n",
       "      <th></th>\n",
       "      <th></th>\n",
       "      <th></th>\n",
       "      <th></th>\n",
       "      <th></th>\n",
       "      <th></th>\n",
       "      <th></th>\n",
       "      <th></th>\n",
       "      <th></th>\n",
       "    </tr>\n",
       "  </thead>\n",
       "  <tbody>\n",
       "    <tr>\n",
       "      <th>Australia</th>\n",
       "      <td>10039.59564</td>\n",
       "      <td>10949.64959</td>\n",
       "      <td>12217.22686</td>\n",
       "      <td>14526.12465</td>\n",
       "      <td>16788.62948</td>\n",
       "      <td>18334.19751</td>\n",
       "      <td>19477.00928</td>\n",
       "      <td>21888.88903</td>\n",
       "      <td>23424.76683</td>\n",
       "      <td>26997.93657</td>\n",
       "      <td>30687.75473</td>\n",
       "      <td>34435.36744</td>\n",
       "    </tr>\n",
       "    <tr>\n",
       "      <th>New Zealand</th>\n",
       "      <td>10556.57566</td>\n",
       "      <td>12247.39532</td>\n",
       "      <td>13175.67800</td>\n",
       "      <td>14463.91893</td>\n",
       "      <td>16046.03728</td>\n",
       "      <td>16233.71770</td>\n",
       "      <td>17632.41040</td>\n",
       "      <td>19007.19129</td>\n",
       "      <td>18363.32494</td>\n",
       "      <td>21050.41377</td>\n",
       "      <td>23189.80135</td>\n",
       "      <td>25185.00911</td>\n",
       "    </tr>\n",
       "  </tbody>\n",
       "</table>\n",
       "</div>"
      ],
      "text/plain": [
       "             gdpPercap_1952  gdpPercap_1957  gdpPercap_1962  gdpPercap_1967  \\\n",
       "country                                                                       \n",
       "Australia       10039.59564     10949.64959     12217.22686     14526.12465   \n",
       "New Zealand     10556.57566     12247.39532     13175.67800     14463.91893   \n",
       "\n",
       "             gdpPercap_1972  gdpPercap_1977  gdpPercap_1982  gdpPercap_1987  \\\n",
       "country                                                                       \n",
       "Australia       16788.62948     18334.19751     19477.00928     21888.88903   \n",
       "New Zealand     16046.03728     16233.71770     17632.41040     19007.19129   \n",
       "\n",
       "             gdpPercap_1992  gdpPercap_1997  gdpPercap_2002  gdpPercap_2007  \n",
       "country                                                                      \n",
       "Australia       23424.76683     26997.93657     30687.75473     34435.36744  \n",
       "New Zealand     18363.32494     21050.41377     23189.80135     25185.00911  "
      ]
     },
     "execution_count": 350,
     "metadata": {},
     "output_type": "execute_result"
    }
   ],
   "source": [
    "data"
   ]
  },
  {
   "cell_type": "code",
   "execution_count": 351,
   "metadata": {},
   "outputs": [
    {
     "data": {
      "text/plain": [
       "<matplotlib.axes._subplots.AxesSubplot at 0x1185d90b8>"
      ]
     },
     "execution_count": 351,
     "metadata": {},
     "output_type": "execute_result"
    },
    {
     "data": {
      "image/png": "[encoded data removed]",
      "text/plain": [
       "<Figure size 432x288 with 1 Axes>"
      ]
     },
     "metadata": {},
     "output_type": "display_data"
    }
   ],
   "source": [
    "data.loc['Australia'].plot()"
   ]
  },
  {
   "cell_type": "code",
   "execution_count": 355,
   "metadata": {},
   "outputs": [],
   "source": [
    "years = data.columns.str.strip('gdpPercap_')\n",
    "data.columns=years.astype(int)"
   ]
  },
  {
   "cell_type": "code",
   "execution_count": 357,
   "metadata": {},
   "outputs": [
    {
     "data": {
      "text/plain": [
       "Int64Index([1952, 1957, 1962, 1967, 1972, 1977, 1982, 1987, 1992, 1997, 2002,\n",
       "            2007],\n",
       "           dtype='int64')"
      ]
     },
     "execution_count": 357,
     "metadata": {},
     "output_type": "execute_result"
    }
   ],
   "source": [
    "data.columns"
   ]
  },
  {
   "cell_type": "code",
   "execution_count": 362,
   "metadata": {},
   "outputs": [
    {
     "data": {
      "text/plain": [
       "Text(0, 0.5, 'GDP per capita, $1,000')"
      ]
     },
     "execution_count": 362,
     "metadata": {},
     "output_type": "execute_result"
    },
    {
     "data": {
      "image/png": "[encoded data removed]",
      "text/plain": [
       "<Figure size 432x288 with 1 Axes>"
      ]
     },
     "metadata": {},
     "output_type": "display_data"
    }
   ],
   "source": [
    "data.loc['Australia'].plot()\n",
    "plt.xlabel('Year')\n",
    "plt.ylabel('GDP per capita, $1,000')"
   ]
  },
  {
   "cell_type": "code",
   "execution_count": 370,
   "metadata": {},
   "outputs": [
    {
     "data": {
      "text/plain": [
       "Index(['1952', '1957', '1962', '1967', '1972', '1977', '1982', '1987', '1992',\n",
       "       '1997', '2002', '2007'],\n",
       "      dtype='object')"
      ]
     },
     "execution_count": 370,
     "metadata": {},
     "output_type": "execute_result"
    }
   ],
   "source": [
    "years"
   ]
  },
  {
   "cell_type": "code",
   "execution_count": 372,
   "metadata": {},
   "outputs": [
    {
     "data": {
      "text/plain": [
       "1952    10039.59564\n",
       "1957    10949.64959\n",
       "1962    12217.22686\n",
       "1967    14526.12465\n",
       "1972    16788.62948\n",
       "1977    18334.19751\n",
       "1982    19477.00928\n",
       "1987    21888.88903\n",
       "1992    23424.76683\n",
       "1997    26997.93657\n",
       "2002    30687.75473\n",
       "2007    34435.36744\n",
       "Name: Australia, dtype: float64"
      ]
     },
     "execution_count": 372,
     "metadata": {},
     "output_type": "execute_result"
    }
   ],
   "source": [
    "gdp_aus=data.loc['Australia']\n",
    "gdp_aus"
   ]
  },
  {
   "cell_type": "markdown",
   "metadata": {},
   "source": [
    "Another way to plot data"
   ]
  },
  {
   "cell_type": "code",
   "execution_count": 376,
   "metadata": {},
   "outputs": [
    {
     "data": {
      "text/plain": [
       "[<matplotlib.lines.Line2D at 0x11d223518>]"
      ]
     },
     "execution_count": 376,
     "metadata": {},
     "output_type": "execute_result"
    },
    {
     "data": {
      "image/png": "[encoded data removed]",
      "text/plain": [
       "<Figure size 432x288 with 1 Axes>"
      ]
     },
     "metadata": {},
     "output_type": "display_data"
    }
   ],
   "source": [
    "plt.plot(years,gdp_aus) ## add one at each time each time!"
   ]
  },
  {
   "cell_type": "code",
   "execution_count": 373,
   "metadata": {},
   "outputs": [
    {
     "data": {
      "text/plain": [
       "[<matplotlib.lines.Line2D at 0x11cf3c9e8>]"
      ]
     },
     "execution_count": 373,
     "metadata": {},
     "output_type": "execute_result"
    },
    {
     "data": {
      "image/png": "[encoded data removed]",
      "text/plain": [
       "<Figure size 432x288 with 1 Axes>"
      ]
     },
     "metadata": {},
     "output_type": "display_data"
    }
   ],
   "source": [
    "plt.plot(years, gdp_aus, 'g--') # g == green; -- dashed line style"
   ]
  },
  {
   "cell_type": "code",
   "execution_count": 379,
   "metadata": {},
   "outputs": [
    {
     "data": {
      "text/plain": [
       "[<matplotlib.lines.Line2D at 0x11d397da0>]"
      ]
     },
     "execution_count": 379,
     "metadata": {},
     "output_type": "execute_result"
    },
    {
     "data": {
      "image/png": "[encoded data removed]",
      "text/plain": [
       "<Figure size 432x288 with 1 Axes>"
      ]
     },
     "metadata": {},
     "output_type": "display_data"
    }
   ],
   "source": [
    "plt.plot(years, gdp_aus, 'k:')"
   ]
  },
  {
   "cell_type": "code",
   "execution_count": 384,
   "metadata": {},
   "outputs": [
    {
     "data": {
      "text/plain": [
       "[<matplotlib.lines.Line2D at 0x11c3fb3c8>]"
      ]
     },
     "execution_count": 384,
     "metadata": {},
     "output_type": "execute_result"
    },
    {
     "data": {
      "image/png": "[encoded data removed]",
      "text/plain": [
       "<Figure size 432x288 with 1 Axes>"
      ]
     },
     "metadata": {},
     "output_type": "display_data"
    }
   ],
   "source": [
    "plt.plot(years, gdp_aus, 'rD')"
   ]
  },
  {
   "cell_type": "code",
   "execution_count": 385,
   "metadata": {},
   "outputs": [
    {
     "data": {
      "text/plain": [
       "[<matplotlib.lines.Line2D at 0x11c60aac8>]"
      ]
     },
     "execution_count": 385,
     "metadata": {},
     "output_type": "execute_result"
    },
    {
     "data": {
      "image/png": "[encoded data removed]",
      "text/plain": [
       "<Figure size 432x288 with 1 Axes>"
      ]
     },
     "metadata": {},
     "output_type": "display_data"
    }
   ],
   "source": [
    "plt.plot(years, gdp_aus, 'rD-')"
   ]
  },
  {
   "cell_type": "code",
   "execution_count": 407,
   "metadata": {},
   "outputs": [],
   "source": [
    "plt.plot?"
   ]
  },
  {
   "cell_type": "code",
   "execution_count": 363,
   "metadata": {},
   "outputs": [
    {
     "data": {
      "text/html": [
       "<div>\n",
       "<style scoped>\n",
       "    .dataframe tbody tr th:only-of-type {\n",
       "        vertical-align: middle;\n",
       "    }\n",
       "\n",
       "    .dataframe tbody tr th {\n",
       "        vertical-align: top;\n",
       "    }\n",
       "\n",
       "    .dataframe thead th {\n",
       "        text-align: right;\n",
       "    }\n",
       "</style>\n",
       "<table border=\"1\" class=\"dataframe\">\n",
       "  <thead>\n",
       "    <tr style=\"text-align: right;\">\n",
       "      <th></th>\n",
       "      <th>1952</th>\n",
       "      <th>1957</th>\n",
       "      <th>1962</th>\n",
       "      <th>1967</th>\n",
       "      <th>1972</th>\n",
       "      <th>1977</th>\n",
       "      <th>1982</th>\n",
       "      <th>1987</th>\n",
       "      <th>1992</th>\n",
       "      <th>1997</th>\n",
       "      <th>2002</th>\n",
       "      <th>2007</th>\n",
       "    </tr>\n",
       "    <tr>\n",
       "      <th>country</th>\n",
       "      <th></th>\n",
       "      <th></th>\n",
       "      <th></th>\n",
       "      <th></th>\n",
       "      <th></th>\n",
       "      <th></th>\n",
       "      <th></th>\n",
       "      <th></th>\n",
       "      <th></th>\n",
       "      <th></th>\n",
       "      <th></th>\n",
       "      <th></th>\n",
       "    </tr>\n",
       "  </thead>\n",
       "  <tbody>\n",
       "    <tr>\n",
       "      <th>Australia</th>\n",
       "      <td>10039.59564</td>\n",
       "      <td>10949.64959</td>\n",
       "      <td>12217.22686</td>\n",
       "      <td>14526.12465</td>\n",
       "      <td>16788.62948</td>\n",
       "      <td>18334.19751</td>\n",
       "      <td>19477.00928</td>\n",
       "      <td>21888.88903</td>\n",
       "      <td>23424.76683</td>\n",
       "      <td>26997.93657</td>\n",
       "      <td>30687.75473</td>\n",
       "      <td>34435.36744</td>\n",
       "    </tr>\n",
       "    <tr>\n",
       "      <th>New Zealand</th>\n",
       "      <td>10556.57566</td>\n",
       "      <td>12247.39532</td>\n",
       "      <td>13175.67800</td>\n",
       "      <td>14463.91893</td>\n",
       "      <td>16046.03728</td>\n",
       "      <td>16233.71770</td>\n",
       "      <td>17632.41040</td>\n",
       "      <td>19007.19129</td>\n",
       "      <td>18363.32494</td>\n",
       "      <td>21050.41377</td>\n",
       "      <td>23189.80135</td>\n",
       "      <td>25185.00911</td>\n",
       "    </tr>\n",
       "  </tbody>\n",
       "</table>\n",
       "</div>"
      ],
      "text/plain": [
       "                    1952         1957         1962         1967         1972  \\\n",
       "country                                                                        \n",
       "Australia    10039.59564  10949.64959  12217.22686  14526.12465  16788.62948   \n",
       "New Zealand  10556.57566  12247.39532  13175.67800  14463.91893  16046.03728   \n",
       "\n",
       "                    1977         1982         1987         1992         1997  \\\n",
       "country                                                                        \n",
       "Australia    18334.19751  19477.00928  21888.88903  23424.76683  26997.93657   \n",
       "New Zealand  16233.71770  17632.41040  19007.19129  18363.32494  21050.41377   \n",
       "\n",
       "                    2002         2007  \n",
       "country                                \n",
       "Australia    30687.75473  34435.36744  \n",
       "New Zealand  23189.80135  25185.00911  "
      ]
     },
     "execution_count": 363,
     "metadata": {},
     "output_type": "execute_result"
    }
   ],
   "source": [
    "data"
   ]
  },
  {
   "cell_type": "code",
   "execution_count": 366,
   "metadata": {},
   "outputs": [
    {
     "data": {
      "text/plain": [
       "<matplotlib.axes._subplots.AxesSubplot at 0x11c82f748>"
      ]
     },
     "execution_count": 366,
     "metadata": {},
     "output_type": "execute_result"
    },
    {
     "data": {
      "image/png": "[encoded data removed]",
      "text/plain": [
       "<Figure size 432x288 with 1 Axes>"
      ]
     },
     "metadata": {},
     "output_type": "display_data"
    }
   ],
   "source": [
    "data.plot()"
   ]
  },
  {
   "cell_type": "code",
   "execution_count": 364,
   "metadata": {},
   "outputs": [
    {
     "data": {
      "text/html": [
       "<div>\n",
       "<style scoped>\n",
       "    .dataframe tbody tr th:only-of-type {\n",
       "        vertical-align: middle;\n",
       "    }\n",
       "\n",
       "    .dataframe tbody tr th {\n",
       "        vertical-align: top;\n",
       "    }\n",
       "\n",
       "    .dataframe thead th {\n",
       "        text-align: right;\n",
       "    }\n",
       "</style>\n",
       "<table border=\"1\" class=\"dataframe\">\n",
       "  <thead>\n",
       "    <tr style=\"text-align: right;\">\n",
       "      <th>country</th>\n",
       "      <th>Australia</th>\n",
       "      <th>New Zealand</th>\n",
       "    </tr>\n",
       "  </thead>\n",
       "  <tbody>\n",
       "    <tr>\n",
       "      <th>1952</th>\n",
       "      <td>10039.59564</td>\n",
       "      <td>10556.57566</td>\n",
       "    </tr>\n",
       "    <tr>\n",
       "      <th>1957</th>\n",
       "      <td>10949.64959</td>\n",
       "      <td>12247.39532</td>\n",
       "    </tr>\n",
       "    <tr>\n",
       "      <th>1962</th>\n",
       "      <td>12217.22686</td>\n",
       "      <td>13175.67800</td>\n",
       "    </tr>\n",
       "    <tr>\n",
       "      <th>1967</th>\n",
       "      <td>14526.12465</td>\n",
       "      <td>14463.91893</td>\n",
       "    </tr>\n",
       "    <tr>\n",
       "      <th>1972</th>\n",
       "      <td>16788.62948</td>\n",
       "      <td>16046.03728</td>\n",
       "    </tr>\n",
       "    <tr>\n",
       "      <th>1977</th>\n",
       "      <td>18334.19751</td>\n",
       "      <td>16233.71770</td>\n",
       "    </tr>\n",
       "    <tr>\n",
       "      <th>1982</th>\n",
       "      <td>19477.00928</td>\n",
       "      <td>17632.41040</td>\n",
       "    </tr>\n",
       "    <tr>\n",
       "      <th>1987</th>\n",
       "      <td>21888.88903</td>\n",
       "      <td>19007.19129</td>\n",
       "    </tr>\n",
       "    <tr>\n",
       "      <th>1992</th>\n",
       "      <td>23424.76683</td>\n",
       "      <td>18363.32494</td>\n",
       "    </tr>\n",
       "    <tr>\n",
       "      <th>1997</th>\n",
       "      <td>26997.93657</td>\n",
       "      <td>21050.41377</td>\n",
       "    </tr>\n",
       "    <tr>\n",
       "      <th>2002</th>\n",
       "      <td>30687.75473</td>\n",
       "      <td>23189.80135</td>\n",
       "    </tr>\n",
       "    <tr>\n",
       "      <th>2007</th>\n",
       "      <td>34435.36744</td>\n",
       "      <td>25185.00911</td>\n",
       "    </tr>\n",
       "  </tbody>\n",
       "</table>\n",
       "</div>"
      ],
      "text/plain": [
       "country    Australia  New Zealand\n",
       "1952     10039.59564  10556.57566\n",
       "1957     10949.64959  12247.39532\n",
       "1962     12217.22686  13175.67800\n",
       "1967     14526.12465  14463.91893\n",
       "1972     16788.62948  16046.03728\n",
       "1977     18334.19751  16233.71770\n",
       "1982     19477.00928  17632.41040\n",
       "1987     21888.88903  19007.19129\n",
       "1992     23424.76683  18363.32494\n",
       "1997     26997.93657  21050.41377\n",
       "2002     30687.75473  23189.80135\n",
       "2007     34435.36744  25185.00911"
      ]
     },
     "execution_count": 364,
     "metadata": {},
     "output_type": "execute_result"
    }
   ],
   "source": [
    "data.T"
   ]
  },
  {
   "cell_type": "code",
   "execution_count": 367,
   "metadata": {
    "scrolled": true
   },
   "outputs": [
    {
     "data": {
      "text/plain": [
       "Text(0.5, 0, 'Years')"
      ]
     },
     "execution_count": 367,
     "metadata": {},
     "output_type": "execute_result"
    },
    {
     "data": {
      "image/png": "[encoded data removed]",
      "text/plain": [
       "<Figure size 432x288 with 1 Axes>"
      ]
     },
     "metadata": {},
     "output_type": "display_data"
    }
   ],
   "source": [
    "data_transposed=data.T\n",
    "plt.ylabel('GDP per capita')\n",
    "plt.xlabel('Years')"
   ]
  },
  {
   "cell_type": "code",
   "execution_count": 386,
   "metadata": {},
   "outputs": [
    {
     "data": {
      "text/plain": [
       "1952    10039.59564\n",
       "1957    10949.64959\n",
       "1962    12217.22686\n",
       "1967    14526.12465\n",
       "1972    16788.62948\n",
       "1977    18334.19751\n",
       "1982    19477.00928\n",
       "1987    21888.88903\n",
       "1992    23424.76683\n",
       "1997    26997.93657\n",
       "2002    30687.75473\n",
       "2007    34435.36744\n",
       "Name: Australia, dtype: float64"
      ]
     },
     "execution_count": 386,
     "metadata": {},
     "output_type": "execute_result"
    }
   ],
   "source": [
    "gdp_aus"
   ]
  },
  {
   "cell_type": "code",
   "execution_count": 388,
   "metadata": {},
   "outputs": [
    {
     "data": {
      "text/plain": [
       "1952    10556.57566\n",
       "1957    12247.39532\n",
       "1962    13175.67800\n",
       "1967    14463.91893\n",
       "1972    16046.03728\n",
       "1977    16233.71770\n",
       "1982    17632.41040\n",
       "1987    19007.19129\n",
       "1992    18363.32494\n",
       "1997    21050.41377\n",
       "2002    23189.80135\n",
       "2007    25185.00911\n",
       "Name: New Zealand, dtype: float64"
      ]
     },
     "execution_count": 388,
     "metadata": {},
     "output_type": "execute_result"
    }
   ],
   "source": [
    "gdp_nz=data.loc['New Zealand']\n",
    "gdp_nz"
   ]
  },
  {
   "cell_type": "code",
   "execution_count": 393,
   "metadata": {},
   "outputs": [
    {
     "data": {
      "text/plain": [
       "Text(0, 0.5, 'GDP per capita')"
      ]
     },
     "execution_count": 393,
     "metadata": {},
     "output_type": "execute_result"
    },
    {
     "data": {
      "image/png": "[encoded data removed]",
      "text/plain": [
       "<Figure size 432x288 with 1 Axes>"
      ]
     },
     "metadata": {},
     "output_type": "display_data"
    }
   ],
   "source": [
    "plt.plot(years, gdp_aus, 'b-', label='Australia')\n",
    "plt.plot(years, gdp_nz, 'g-', label='New Zealand')\n",
    "plt.legend(loc='upper left')\n",
    "plt.xlabel('Years')\n",
    "plt.ylabel('GDP per capita')"
   ]
  },
  {
   "cell_type": "code",
   "execution_count": 398,
   "metadata": {},
   "outputs": [
    {
     "data": {
      "text/plain": [
       "Text(0, 0.5, 'New Zealand')"
      ]
     },
     "execution_count": 398,
     "metadata": {},
     "output_type": "execute_result"
    },
    {
     "data": {
      "image/png": "[encoded data removed]",
      "text/plain": [
       "<Figure size 432x288 with 1 Axes>"
      ]
     },
     "metadata": {},
     "output_type": "display_data"
    }
   ],
   "source": [
    "plt.scatter(gdp_aus, gdp_nz)\n",
    "plt.xlabel('Australia')\n",
    "plt.ylabel('New Zealand')"
   ]
  },
  {
   "cell_type": "code",
   "execution_count": 410,
   "metadata": {},
   "outputs": [
    {
     "data": {
      "text/plain": [
       "<matplotlib.axes._subplots.AxesSubplot at 0x11e815278>"
      ]
     },
     "execution_count": 410,
     "metadata": {},
     "output_type": "execute_result"
    },
    {
     "data": {
      "image/png": "[encoded data removed]",
      "text/plain": [
       "<Figure size 432x288 with 1 Axes>"
      ]
     },
     "metadata": {},
     "output_type": "display_data"
    }
   ],
   "source": [
    "# another way to scatter plot\n",
    "data.T.plot.scatter(x='Australia',y='New Zealand')"
   ]
  },
  {
   "cell_type": "code",
   "execution_count": 411,
   "metadata": {},
   "outputs": [
    {
     "data": {
      "text/plain": [
       "<matplotlib.axes._subplots.AxesSubplot at 0x11e7bca58>"
      ]
     },
     "execution_count": 411,
     "metadata": {},
     "output_type": "execute_result"
    },
    {
     "data": {
      "image/png": "[encoded data removed]",
      "text/plain": [
       "<Figure size 432x288 with 1 Axes>"
      ]
     },
     "metadata": {},
     "output_type": "display_data"
    }
   ],
   "source": [
    "# another way to scatter plot\n",
    "data.T.plot.scatter(x='Australia',y='New Zealand', c='green', marker='D')"
   ]
  },
  {
   "cell_type": "code",
   "execution_count": 400,
   "metadata": {},
   "outputs": [],
   "source": [
    "plt.scatter?"
   ]
  },
  {
   "cell_type": "code",
   "execution_count": 368,
   "metadata": {
    "scrolled": true
   },
   "outputs": [
    {
     "data": {
      "text/plain": [
       "Text(0, 0.5, 'GDP per capita')"
      ]
     },
     "execution_count": 368,
     "metadata": {},
     "output_type": "execute_result"
    },
    {
     "data": {
      "image/png": "[encoded data removed]",
      "text/plain": [
       "<Figure size 432x288 with 1 Axes>"
      ]
     },
     "metadata": {},
     "output_type": "display_data"
    }
   ],
   "source": [
    "plt.style.use('ggplot')\n",
    "data.T.plot(kind='bar')\n",
    "plt.ylabel('GDP per capita')"
   ]
  },
  {
   "cell_type": "markdown",
   "metadata": {},
   "source": [
    "# Cheeky Exercise"
   ]
  },
  {
   "cell_type": "markdown",
   "metadata": {},
   "source": [
    "# 4. \n",
    "## A. Use `europe`\n",
    "## B. Plot a line graph with the `min`, `mean`, and `max` GDP per capita over time for all countries "
   ]
  },
  {
   "cell_type": "code",
   "execution_count": 413,
   "metadata": {},
   "outputs": [
    {
     "data": {
      "text/html": [
       "<div>\n",
       "<style scoped>\n",
       "    .dataframe tbody tr th:only-of-type {\n",
       "        vertical-align: middle;\n",
       "    }\n",
       "\n",
       "    .dataframe tbody tr th {\n",
       "        vertical-align: top;\n",
       "    }\n",
       "\n",
       "    .dataframe thead th {\n",
       "        text-align: right;\n",
       "    }\n",
       "</style>\n",
       "<table border=\"1\" class=\"dataframe\">\n",
       "  <thead>\n",
       "    <tr style=\"text-align: right;\">\n",
       "      <th></th>\n",
       "      <th>gdpPercap_1952</th>\n",
       "      <th>gdpPercap_1957</th>\n",
       "      <th>gdpPercap_1962</th>\n",
       "      <th>gdpPercap_1967</th>\n",
       "      <th>gdpPercap_1972</th>\n",
       "      <th>gdpPercap_1977</th>\n",
       "      <th>gdpPercap_1982</th>\n",
       "      <th>gdpPercap_1987</th>\n",
       "      <th>gdpPercap_1992</th>\n",
       "      <th>gdpPercap_1997</th>\n",
       "      <th>gdpPercap_2002</th>\n",
       "      <th>gdpPercap_2007</th>\n",
       "    </tr>\n",
       "    <tr>\n",
       "      <th>country</th>\n",
       "      <th></th>\n",
       "      <th></th>\n",
       "      <th></th>\n",
       "      <th></th>\n",
       "      <th></th>\n",
       "      <th></th>\n",
       "      <th></th>\n",
       "      <th></th>\n",
       "      <th></th>\n",
       "      <th></th>\n",
       "      <th></th>\n",
       "      <th></th>\n",
       "    </tr>\n",
       "  </thead>\n",
       "  <tbody>\n",
       "    <tr>\n",
       "      <th>Albania</th>\n",
       "      <td>1601.056136</td>\n",
       "      <td>1942.284244</td>\n",
       "      <td>2312.888958</td>\n",
       "      <td>2760.196931</td>\n",
       "      <td>3313.422188</td>\n",
       "      <td>3533.003910</td>\n",
       "      <td>3630.880722</td>\n",
       "      <td>3738.932735</td>\n",
       "      <td>2497.437901</td>\n",
       "      <td>3193.054604</td>\n",
       "      <td>4604.211737</td>\n",
       "      <td>5937.029526</td>\n",
       "    </tr>\n",
       "    <tr>\n",
       "      <th>Austria</th>\n",
       "      <td>6137.076492</td>\n",
       "      <td>8842.598030</td>\n",
       "      <td>10750.721110</td>\n",
       "      <td>12834.602400</td>\n",
       "      <td>16661.625600</td>\n",
       "      <td>19749.422300</td>\n",
       "      <td>21597.083620</td>\n",
       "      <td>23687.826070</td>\n",
       "      <td>27042.018680</td>\n",
       "      <td>29095.920660</td>\n",
       "      <td>32417.607690</td>\n",
       "      <td>36126.492700</td>\n",
       "    </tr>\n",
       "    <tr>\n",
       "      <th>Belgium</th>\n",
       "      <td>8343.105127</td>\n",
       "      <td>9714.960623</td>\n",
       "      <td>10991.206760</td>\n",
       "      <td>13149.041190</td>\n",
       "      <td>16672.143560</td>\n",
       "      <td>19117.974480</td>\n",
       "      <td>20979.845890</td>\n",
       "      <td>22525.563080</td>\n",
       "      <td>25575.570690</td>\n",
       "      <td>27561.196630</td>\n",
       "      <td>30485.883750</td>\n",
       "      <td>33692.605080</td>\n",
       "    </tr>\n",
       "    <tr>\n",
       "      <th>Bosnia and Herzegovina</th>\n",
       "      <td>973.533195</td>\n",
       "      <td>1353.989176</td>\n",
       "      <td>1709.683679</td>\n",
       "      <td>2172.352423</td>\n",
       "      <td>2860.169750</td>\n",
       "      <td>3528.481305</td>\n",
       "      <td>4126.613157</td>\n",
       "      <td>4314.114757</td>\n",
       "      <td>2546.781445</td>\n",
       "      <td>4766.355904</td>\n",
       "      <td>6018.975239</td>\n",
       "      <td>7446.298803</td>\n",
       "    </tr>\n",
       "    <tr>\n",
       "      <th>Bulgaria</th>\n",
       "      <td>2444.286648</td>\n",
       "      <td>3008.670727</td>\n",
       "      <td>4254.337839</td>\n",
       "      <td>5577.002800</td>\n",
       "      <td>6597.494398</td>\n",
       "      <td>7612.240438</td>\n",
       "      <td>8224.191647</td>\n",
       "      <td>8239.854824</td>\n",
       "      <td>6302.623438</td>\n",
       "      <td>5970.388760</td>\n",
       "      <td>7696.777725</td>\n",
       "      <td>10680.792820</td>\n",
       "    </tr>\n",
       "  </tbody>\n",
       "</table>\n",
       "</div>"
      ],
      "text/plain": [
       "                        gdpPercap_1952  gdpPercap_1957  gdpPercap_1962  \\\n",
       "country                                                                  \n",
       "Albania                    1601.056136     1942.284244     2312.888958   \n",
       "Austria                    6137.076492     8842.598030    10750.721110   \n",
       "Belgium                    8343.105127     9714.960623    10991.206760   \n",
       "Bosnia and Herzegovina      973.533195     1353.989176     1709.683679   \n",
       "Bulgaria                   2444.286648     3008.670727     4254.337839   \n",
       "\n",
       "                        gdpPercap_1967  gdpPercap_1972  gdpPercap_1977  \\\n",
       "country                                                                  \n",
       "Albania                    2760.196931     3313.422188     3533.003910   \n",
       "Austria                   12834.602400    16661.625600    19749.422300   \n",
       "Belgium                   13149.041190    16672.143560    19117.974480   \n",
       "Bosnia and Herzegovina     2172.352423     2860.169750     3528.481305   \n",
       "Bulgaria                   5577.002800     6597.494398     7612.240438   \n",
       "\n",
       "                        gdpPercap_1982  gdpPercap_1987  gdpPercap_1992  \\\n",
       "country                                                                  \n",
       "Albania                    3630.880722     3738.932735     2497.437901   \n",
       "Austria                   21597.083620    23687.826070    27042.018680   \n",
       "Belgium                   20979.845890    22525.563080    25575.570690   \n",
       "Bosnia and Herzegovina     4126.613157     4314.114757     2546.781445   \n",
       "Bulgaria                   8224.191647     8239.854824     6302.623438   \n",
       "\n",
       "                        gdpPercap_1997  gdpPercap_2002  gdpPercap_2007  \n",
       "country                                                                 \n",
       "Albania                    3193.054604     4604.211737     5937.029526  \n",
       "Austria                   29095.920660    32417.607690    36126.492700  \n",
       "Belgium                   27561.196630    30485.883750    33692.605080  \n",
       "Bosnia and Herzegovina     4766.355904     6018.975239     7446.298803  \n",
       "Bulgaria                   5970.388760     7696.777725    10680.792820  "
      ]
     },
     "execution_count": 413,
     "metadata": {},
     "output_type": "execute_result"
    }
   ],
   "source": [
    "europe.head()"
   ]
  },
  {
   "cell_type": "code",
   "execution_count": 425,
   "metadata": {},
   "outputs": [
    {
     "data": {
      "text/plain": [
       "Text(0.5, 0, 'Years')"
      ]
     },
     "execution_count": 425,
     "metadata": {},
     "output_type": "execute_result"
    },
    {
     "data": {
      "image/png": "[encoded data removed]",
      "text/plain": [
       "<Figure size 432x288 with 1 Axes>"
      ]
     },
     "metadata": {},
     "output_type": "display_data"
    }
   ],
   "source": [
    "europe.min().plot(label='min')\n",
    "europe.max().plot(label='max')\n",
    "europe.mean().plot(label='mean')\n",
    "plt.legend(loc='best')\n",
    "plt.xlabel('Years')"
   ]
  },
  {
   "cell_type": "markdown",
   "metadata": {},
   "source": [
    "More plotting..."
   ]
  },
  {
   "cell_type": "markdown",
   "metadata": {},
   "source": [
    "Shows the relationship between min and max GDP in Asian countries for each year. No particular correlations can be seen between the minimum and maximum gdp values year on year. It seems the fortunes of asian countries do not rise and fall together.\n"
   ]
  },
  {
   "cell_type": "code",
   "execution_count": 426,
   "metadata": {
    "scrolled": true
   },
   "outputs": [
    {
     "data": {
      "text/plain": [
       "<matplotlib.axes._subplots.AxesSubplot at 0x11f01c208>"
      ]
     },
     "execution_count": 426,
     "metadata": {},
     "output_type": "execute_result"
    },
    {
     "data": {
      "image/png": "[encoded data removed]",
      "text/plain": [
       "<Figure size 432x288 with 1 Axes>"
      ]
     },
     "metadata": {},
     "output_type": "display_data"
    }
   ],
   "source": [
    "asia = pd.read_csv('gapminder_gdp_asia.csv', index_col='country')\n",
    "asia.describe().T.plot(kind='scatter', x='min', y='max')"
   ]
  },
  {
   "cell_type": "markdown",
   "metadata": {},
   "source": [
    "You might note that the variability in the maximum is much higher than that of the minimum. Take a look at the maximum and the max indexes:\n",
    "\n",
    "Seems the variability in this value is due to a sharp drop after 1972. Some geopolitics at play perhaps? Given the dominance of oil producing countries, maybe the Brent crude index would make an interesting comparison? Whilst Myanmar consistently has the lowest gdp, the highest gdb nation has varied more notably."
   ]
  },
  {
   "cell_type": "code",
   "execution_count": 428,
   "metadata": {},
   "outputs": [
    {
     "name": "stdout",
     "output_type": "stream",
     "text": [
      "gdpPercap_1952          Kuwait\n",
      "gdpPercap_1957          Kuwait\n",
      "gdpPercap_1962          Kuwait\n",
      "gdpPercap_1967          Kuwait\n",
      "gdpPercap_1972          Kuwait\n",
      "gdpPercap_1977          Kuwait\n",
      "gdpPercap_1982    Saudi Arabia\n",
      "gdpPercap_1987          Kuwait\n",
      "gdpPercap_1992          Kuwait\n",
      "gdpPercap_1997          Kuwait\n",
      "gdpPercap_2002       Singapore\n",
      "gdpPercap_2007          Kuwait\n",
      "dtype: object\n",
      "gdpPercap_1952    Myanmar\n",
      "gdpPercap_1957    Myanmar\n",
      "gdpPercap_1962    Myanmar\n",
      "gdpPercap_1967    Myanmar\n",
      "gdpPercap_1972    Myanmar\n",
      "gdpPercap_1977    Myanmar\n",
      "gdpPercap_1982    Myanmar\n",
      "gdpPercap_1987    Myanmar\n",
      "gdpPercap_1992    Myanmar\n",
      "gdpPercap_1997    Myanmar\n",
      "gdpPercap_2002    Myanmar\n",
      "gdpPercap_2007    Myanmar\n",
      "dtype: object\n"
     ]
    },
    {
     "data": {
      "image/png": "[encoded data removed]",
      "text/plain": [
       "<Figure size 432x288 with 1 Axes>"
      ]
     },
     "metadata": {},
     "output_type": "display_data"
    }
   ],
   "source": [
    "asia.max().plot()\n",
    "print(asia.idxmax())\n",
    "print(asia.idxmin())"
   ]
  },
  {
   "cell_type": "markdown",
   "metadata": {},
   "source": [
    "All..."
   ]
  },
  {
   "cell_type": "code",
   "execution_count": 430,
   "metadata": {},
   "outputs": [
    {
     "data": {
      "text/html": [
       "<div>\n",
       "<style scoped>\n",
       "    .dataframe tbody tr th:only-of-type {\n",
       "        vertical-align: middle;\n",
       "    }\n",
       "\n",
       "    .dataframe tbody tr th {\n",
       "        vertical-align: top;\n",
       "    }\n",
       "\n",
       "    .dataframe thead th {\n",
       "        text-align: right;\n",
       "    }\n",
       "</style>\n",
       "<table border=\"1\" class=\"dataframe\">\n",
       "  <thead>\n",
       "    <tr style=\"text-align: right;\">\n",
       "      <th></th>\n",
       "      <th>continent</th>\n",
       "      <th>gdpPercap_1952</th>\n",
       "      <th>gdpPercap_1957</th>\n",
       "      <th>gdpPercap_1962</th>\n",
       "      <th>gdpPercap_1967</th>\n",
       "      <th>gdpPercap_1972</th>\n",
       "      <th>gdpPercap_1977</th>\n",
       "      <th>gdpPercap_1982</th>\n",
       "      <th>gdpPercap_1987</th>\n",
       "      <th>gdpPercap_1992</th>\n",
       "      <th>...</th>\n",
       "      <th>pop_1962</th>\n",
       "      <th>pop_1967</th>\n",
       "      <th>pop_1972</th>\n",
       "      <th>pop_1977</th>\n",
       "      <th>pop_1982</th>\n",
       "      <th>pop_1987</th>\n",
       "      <th>pop_1992</th>\n",
       "      <th>pop_1997</th>\n",
       "      <th>pop_2002</th>\n",
       "      <th>pop_2007</th>\n",
       "    </tr>\n",
       "    <tr>\n",
       "      <th>country</th>\n",
       "      <th></th>\n",
       "      <th></th>\n",
       "      <th></th>\n",
       "      <th></th>\n",
       "      <th></th>\n",
       "      <th></th>\n",
       "      <th></th>\n",
       "      <th></th>\n",
       "      <th></th>\n",
       "      <th></th>\n",
       "      <th></th>\n",
       "      <th></th>\n",
       "      <th></th>\n",
       "      <th></th>\n",
       "      <th></th>\n",
       "      <th></th>\n",
       "      <th></th>\n",
       "      <th></th>\n",
       "      <th></th>\n",
       "      <th></th>\n",
       "      <th></th>\n",
       "    </tr>\n",
       "  </thead>\n",
       "  <tbody>\n",
       "    <tr>\n",
       "      <th>Algeria</th>\n",
       "      <td>Africa</td>\n",
       "      <td>2449.008185</td>\n",
       "      <td>3013.976023</td>\n",
       "      <td>2550.816880</td>\n",
       "      <td>3246.991771</td>\n",
       "      <td>4182.663766</td>\n",
       "      <td>4910.416756</td>\n",
       "      <td>5745.160213</td>\n",
       "      <td>5681.358539</td>\n",
       "      <td>5023.216647</td>\n",
       "      <td>...</td>\n",
       "      <td>11000948.0</td>\n",
       "      <td>12760499.0</td>\n",
       "      <td>14760787.0</td>\n",
       "      <td>17152804.0</td>\n",
       "      <td>20033753.0</td>\n",
       "      <td>23254956.0</td>\n",
       "      <td>26298373.0</td>\n",
       "      <td>29072015.0</td>\n",
       "      <td>31287142</td>\n",
       "      <td>33333216</td>\n",
       "    </tr>\n",
       "    <tr>\n",
       "      <th>Angola</th>\n",
       "      <td>Africa</td>\n",
       "      <td>3520.610273</td>\n",
       "      <td>3827.940465</td>\n",
       "      <td>4269.276742</td>\n",
       "      <td>5522.776375</td>\n",
       "      <td>5473.288005</td>\n",
       "      <td>3008.647355</td>\n",
       "      <td>2756.953672</td>\n",
       "      <td>2430.208311</td>\n",
       "      <td>2627.845685</td>\n",
       "      <td>...</td>\n",
       "      <td>4826015.0</td>\n",
       "      <td>5247469.0</td>\n",
       "      <td>5894858.0</td>\n",
       "      <td>6162675.0</td>\n",
       "      <td>7016384.0</td>\n",
       "      <td>7874230.0</td>\n",
       "      <td>8735988.0</td>\n",
       "      <td>9875024.0</td>\n",
       "      <td>10866106</td>\n",
       "      <td>12420476</td>\n",
       "    </tr>\n",
       "    <tr>\n",
       "      <th>Benin</th>\n",
       "      <td>Africa</td>\n",
       "      <td>1062.752200</td>\n",
       "      <td>959.601080</td>\n",
       "      <td>949.499064</td>\n",
       "      <td>1035.831411</td>\n",
       "      <td>1085.796879</td>\n",
       "      <td>1029.161251</td>\n",
       "      <td>1277.897616</td>\n",
       "      <td>1225.856010</td>\n",
       "      <td>1191.207681</td>\n",
       "      <td>...</td>\n",
       "      <td>2151895.0</td>\n",
       "      <td>2427334.0</td>\n",
       "      <td>2761407.0</td>\n",
       "      <td>3168267.0</td>\n",
       "      <td>3641603.0</td>\n",
       "      <td>4243788.0</td>\n",
       "      <td>4981671.0</td>\n",
       "      <td>6066080.0</td>\n",
       "      <td>7026113</td>\n",
       "      <td>8078314</td>\n",
       "    </tr>\n",
       "    <tr>\n",
       "      <th>Botswana</th>\n",
       "      <td>Africa</td>\n",
       "      <td>851.241141</td>\n",
       "      <td>918.232535</td>\n",
       "      <td>983.653976</td>\n",
       "      <td>1214.709294</td>\n",
       "      <td>2263.611114</td>\n",
       "      <td>3214.857818</td>\n",
       "      <td>4551.142150</td>\n",
       "      <td>6205.883850</td>\n",
       "      <td>7954.111645</td>\n",
       "      <td>...</td>\n",
       "      <td>512764.0</td>\n",
       "      <td>553541.0</td>\n",
       "      <td>619351.0</td>\n",
       "      <td>781472.0</td>\n",
       "      <td>970347.0</td>\n",
       "      <td>1151184.0</td>\n",
       "      <td>1342614.0</td>\n",
       "      <td>1536536.0</td>\n",
       "      <td>1630347</td>\n",
       "      <td>1639131</td>\n",
       "    </tr>\n",
       "    <tr>\n",
       "      <th>Burkina Faso</th>\n",
       "      <td>Africa</td>\n",
       "      <td>543.255241</td>\n",
       "      <td>617.183465</td>\n",
       "      <td>722.512021</td>\n",
       "      <td>794.826560</td>\n",
       "      <td>854.735976</td>\n",
       "      <td>743.387037</td>\n",
       "      <td>807.198586</td>\n",
       "      <td>912.063142</td>\n",
       "      <td>931.752773</td>\n",
       "      <td>...</td>\n",
       "      <td>4919632.0</td>\n",
       "      <td>5127935.0</td>\n",
       "      <td>5433886.0</td>\n",
       "      <td>5889574.0</td>\n",
       "      <td>6634596.0</td>\n",
       "      <td>7586551.0</td>\n",
       "      <td>8878303.0</td>\n",
       "      <td>10352843.0</td>\n",
       "      <td>12251209</td>\n",
       "      <td>14326203</td>\n",
       "    </tr>\n",
       "  </tbody>\n",
       "</table>\n",
       "<p>5 rows × 37 columns</p>\n",
       "</div>"
      ],
      "text/plain": [
       "             continent  gdpPercap_1952  gdpPercap_1957  gdpPercap_1962  \\\n",
       "country                                                                  \n",
       "Algeria         Africa     2449.008185     3013.976023     2550.816880   \n",
       "Angola          Africa     3520.610273     3827.940465     4269.276742   \n",
       "Benin           Africa     1062.752200      959.601080      949.499064   \n",
       "Botswana        Africa      851.241141      918.232535      983.653976   \n",
       "Burkina Faso    Africa      543.255241      617.183465      722.512021   \n",
       "\n",
       "              gdpPercap_1967  gdpPercap_1972  gdpPercap_1977  gdpPercap_1982  \\\n",
       "country                                                                        \n",
       "Algeria          3246.991771     4182.663766     4910.416756     5745.160213   \n",
       "Angola           5522.776375     5473.288005     3008.647355     2756.953672   \n",
       "Benin            1035.831411     1085.796879     1029.161251     1277.897616   \n",
       "Botswana         1214.709294     2263.611114     3214.857818     4551.142150   \n",
       "Burkina Faso      794.826560      854.735976      743.387037      807.198586   \n",
       "\n",
       "              gdpPercap_1987  gdpPercap_1992    ...       pop_1962  \\\n",
       "country                                         ...                  \n",
       "Algeria          5681.358539     5023.216647    ...     11000948.0   \n",
       "Angola           2430.208311     2627.845685    ...      4826015.0   \n",
       "Benin            1225.856010     1191.207681    ...      2151895.0   \n",
       "Botswana         6205.883850     7954.111645    ...       512764.0   \n",
       "Burkina Faso      912.063142      931.752773    ...      4919632.0   \n",
       "\n",
       "                pop_1967    pop_1972    pop_1977    pop_1982    pop_1987  \\\n",
       "country                                                                    \n",
       "Algeria       12760499.0  14760787.0  17152804.0  20033753.0  23254956.0   \n",
       "Angola         5247469.0   5894858.0   6162675.0   7016384.0   7874230.0   \n",
       "Benin          2427334.0   2761407.0   3168267.0   3641603.0   4243788.0   \n",
       "Botswana        553541.0    619351.0    781472.0    970347.0   1151184.0   \n",
       "Burkina Faso   5127935.0   5433886.0   5889574.0   6634596.0   7586551.0   \n",
       "\n",
       "                pop_1992    pop_1997  pop_2002  pop_2007  \n",
       "country                                                   \n",
       "Algeria       26298373.0  29072015.0  31287142  33333216  \n",
       "Angola         8735988.0   9875024.0  10866106  12420476  \n",
       "Benin          4981671.0   6066080.0   7026113   8078314  \n",
       "Botswana       1342614.0   1536536.0   1630347   1639131  \n",
       "Burkina Faso   8878303.0  10352843.0  12251209  14326203  \n",
       "\n",
       "[5 rows x 37 columns]"
      ]
     },
     "execution_count": 430,
     "metadata": {},
     "output_type": "execute_result"
    }
   ],
   "source": [
    "data_all = pandas.read_csv('gapminder_all.csv', index_col='country')\n",
    "data_all.head()"
   ]
  },
  {
   "cell_type": "code",
   "execution_count": 431,
   "metadata": {},
   "outputs": [
    {
     "data": {
      "text/plain": [
       "<matplotlib.axes._subplots.AxesSubplot at 0x11f54c278>"
      ]
     },
     "execution_count": 431,
     "metadata": {},
     "output_type": "execute_result"
    },
    {
     "data": {
      "image/png": "[encoded data removed]",
      "text/plain": [
       "<Figure size 432x288 with 1 Axes>"
      ]
     },
     "metadata": {},
     "output_type": "display_data"
    }
   ],
   "source": [
    "data_all.plot(kind='scatter', x='gdpPercap_2007', y='lifeExp_2007', s=data_all['pop_2007']/1e6)"
   ]
  },
  {
   "cell_type": "code",
   "execution_count": null,
   "metadata": {},
   "outputs": [],
   "source": [
    "help(data_all.plot)"
   ]
  },
  {
   "cell_type": "markdown",
   "metadata": {},
   "source": [
    "# 7. Saving figures"
   ]
  },
  {
   "cell_type": "markdown",
   "metadata": {},
   "source": [
    "+ save a reference to the current figure in a local variable (with plt.gcf)\n",
    "+ call the savefig class method from that varible."
   ]
  },
  {
   "cell_type": "code",
   "execution_count": 446,
   "metadata": {},
   "outputs": [
    {
     "data": {
      "image/png": "[encoded data removed]",
      "text/plain": [
       "<Figure size 432x288 with 1 Axes>"
      ]
     },
     "metadata": {},
     "output_type": "display_data"
    }
   ],
   "source": [
    "data_all.plot(kind='scatter', x='gdpPercap_2007', y='lifeExp_2007', s=data_all['pop_2007']/1e6)\n",
    "plt.savefig('my_figure.png')"
   ]
  },
  {
   "cell_type": "code",
   "execution_count": 447,
   "metadata": {},
   "outputs": [
    {
     "name": "stdout",
     "output_type": "stream",
     "text": [
      "americasT_summ_stats.csv    gapminder_gdp_asia.csv\r\n",
      "americas_summ_stats.csv     gapminder_gdp_europe.csv\r\n",
      "gapminder_all.csv           gapminder_gdp_oceania.csv\r\n",
      "gapminder_gdp_africa.csv    my_figure.png\r\n",
      "gapminder_gdp_americas.csv  oceania_summ_stats.csv\r\n"
     ]
    }
   ],
   "source": [
    "ls"
   ]
  },
  {
   "cell_type": "code",
   "execution_count": 448,
   "metadata": {},
   "outputs": [],
   "source": [
    "%%bash\n",
    "open ."
   ]
  },
  {
   "cell_type": "markdown",
   "metadata": {},
   "source": [
    "# 8. Looping over data sets -- Automating tasks"
   ]
  },
  {
   "cell_type": "code",
   "execution_count": 450,
   "metadata": {},
   "outputs": [],
   "source": [
    "import glob"
   ]
  },
  {
   "cell_type": "code",
   "execution_count": 451,
   "metadata": {},
   "outputs": [],
   "source": [
    "# match files with a pattern == globbing"
   ]
  },
  {
   "cell_type": "code",
   "execution_count": 452,
   "metadata": {},
   "outputs": [
    {
     "name": "stdout",
     "output_type": "stream",
     "text": [
      "['gapminder_gdp_americas.csv', 'gapminder_gdp_europe.csv', 'gapminder_all.csv', 'gapminder_gdp_oceania.csv', 'americas_summ_stats.csv', 'gapminder_gdp_africa.csv', 'americasT_summ_stats.csv', 'oceania_summ_stats.csv', 'gapminder_gdp_asia.csv']\n"
     ]
    }
   ],
   "source": [
    "print(glob.glob('*.csv')) # we have extra files with summs... remove those"
   ]
  },
  {
   "cell_type": "code",
   "execution_count": 456,
   "metadata": {},
   "outputs": [
    {
     "name": "stdout",
     "output_type": "stream",
     "text": [
      "['gapminder_gdp_americas.csv', 'gapminder_gdp_europe.csv', 'gapminder_all.csv', 'gapminder_gdp_oceania.csv', 'gapminder_gdp_africa.csv', 'gapminder_gdp_asia.csv']\n"
     ]
    }
   ],
   "source": [
    "print(glob.glob('gap*.csv'))"
   ]
  },
  {
   "cell_type": "code",
   "execution_count": 457,
   "metadata": {},
   "outputs": [
    {
     "name": "stdout",
     "output_type": "stream",
     "text": [
      "gapminder_gdp_americas.csv\n",
      "gapminder_gdp_europe.csv\n",
      "gapminder_all.csv\n",
      "gapminder_gdp_oceania.csv\n",
      "gapminder_gdp_africa.csv\n",
      "gapminder_gdp_asia.csv\n"
     ]
    }
   ],
   "source": [
    "for file in glob.glob('gap*.csv'):\n",
    "    print(file)"
   ]
  },
  {
   "cell_type": "code",
   "execution_count": 460,
   "metadata": {},
   "outputs": [
    {
     "name": "stdout",
     "output_type": "stream",
     "text": [
      "gapminder_gdp_americas.csv \n",
      "\n",
      "           continent  gdpPercap_1952  gdpPercap_1957  gdpPercap_1962  \\\n",
      "country                                                               \n",
      "Argentina  Americas     5911.315053     6856.856212     7133.166023   \n",
      "Bolivia    Americas     2677.326347     2127.686326     2180.972546   \n",
      "Brazil     Americas     2108.944355     2487.365989     3336.585802   \n",
      "Canada     Americas    11367.161120    12489.950060    13462.485550   \n",
      "Chile      Americas     3939.978789     4315.622723     4519.094331   \n",
      "\n",
      "           gdpPercap_1967  gdpPercap_1972  gdpPercap_1977  gdpPercap_1982  \\\n",
      "country                                                                     \n",
      "Argentina     8052.953021     9443.038526    10079.026740     8997.897412   \n",
      "Bolivia       2586.886053     2980.331339     3548.097832     3156.510452   \n",
      "Brazil        3429.864357     4985.711467     6660.118654     7030.835878   \n",
      "Canada       16076.588030    18970.570860    22090.883060    22898.792140   \n",
      "Chile         5106.654313     5494.024437     4756.763836     5095.665738   \n",
      "\n",
      "           gdpPercap_1987  gdpPercap_1992  gdpPercap_1997  gdpPercap_2002  \\\n",
      "country                                                                     \n",
      "Argentina     9139.671389     9308.418710    10967.281950     8797.640716   \n",
      "Bolivia       2753.691490     2961.699694     3326.143191     3413.262690   \n",
      "Brazil        7807.095818     6950.283021     7957.980824     8131.212843   \n",
      "Canada       26626.515030    26342.884260    28954.925890    33328.965070   \n",
      "Chile         5547.063754     7596.125964    10118.053180    10778.783850   \n",
      "\n",
      "           gdpPercap_2007  \n",
      "country                    \n",
      "Argentina    12779.379640  \n",
      "Bolivia       3822.137084  \n",
      "Brazil        9065.800825  \n",
      "Canada       36319.235010  \n",
      "Chile        13171.638850   \n",
      "\n",
      "\n",
      "gapminder_gdp_europe.csv \n",
      "\n",
      "                         gdpPercap_1952  gdpPercap_1957  gdpPercap_1962  \\\n",
      "country                                                                  \n",
      "Albania                    1601.056136     1942.284244     2312.888958   \n",
      "Austria                    6137.076492     8842.598030    10750.721110   \n",
      "Belgium                    8343.105127     9714.960623    10991.206760   \n",
      "Bosnia and Herzegovina      973.533195     1353.989176     1709.683679   \n",
      "Bulgaria                   2444.286648     3008.670727     4254.337839   \n",
      "\n",
      "                        gdpPercap_1967  gdpPercap_1972  gdpPercap_1977  \\\n",
      "country                                                                  \n",
      "Albania                    2760.196931     3313.422188     3533.003910   \n",
      "Austria                   12834.602400    16661.625600    19749.422300   \n",
      "Belgium                   13149.041190    16672.143560    19117.974480   \n",
      "Bosnia and Herzegovina     2172.352423     2860.169750     3528.481305   \n",
      "Bulgaria                   5577.002800     6597.494398     7612.240438   \n",
      "\n",
      "                        gdpPercap_1982  gdpPercap_1987  gdpPercap_1992  \\\n",
      "country                                                                  \n",
      "Albania                    3630.880722     3738.932735     2497.437901   \n",
      "Austria                   21597.083620    23687.826070    27042.018680   \n",
      "Belgium                   20979.845890    22525.563080    25575.570690   \n",
      "Bosnia and Herzegovina     4126.613157     4314.114757     2546.781445   \n",
      "Bulgaria                   8224.191647     8239.854824     6302.623438   \n",
      "\n",
      "                        gdpPercap_1997  gdpPercap_2002  gdpPercap_2007  \n",
      "country                                                                 \n",
      "Albania                    3193.054604     4604.211737     5937.029526  \n",
      "Austria                   29095.920660    32417.607690    36126.492700  \n",
      "Belgium                   27561.196630    30485.883750    33692.605080  \n",
      "Bosnia and Herzegovina     4766.355904     6018.975239     7446.298803  \n",
      "Bulgaria                   5970.388760     7696.777725    10680.792820   \n",
      "\n",
      "\n",
      "gapminder_all.csv \n",
      "\n",
      "              continent  gdpPercap_1952  gdpPercap_1957  gdpPercap_1962  \\\n",
      "country                                                                  \n",
      "Algeria         Africa     2449.008185     3013.976023     2550.816880   \n",
      "Angola          Africa     3520.610273     3827.940465     4269.276742   \n",
      "Benin           Africa     1062.752200      959.601080      949.499064   \n",
      "Botswana        Africa      851.241141      918.232535      983.653976   \n",
      "Burkina Faso    Africa      543.255241      617.183465      722.512021   \n",
      "\n",
      "              gdpPercap_1967  gdpPercap_1972  gdpPercap_1977  gdpPercap_1982  \\\n",
      "country                                                                        \n",
      "Algeria          3246.991771     4182.663766     4910.416756     5745.160213   \n",
      "Angola           5522.776375     5473.288005     3008.647355     2756.953672   \n",
      "Benin            1035.831411     1085.796879     1029.161251     1277.897616   \n",
      "Botswana         1214.709294     2263.611114     3214.857818     4551.142150   \n",
      "Burkina Faso      794.826560      854.735976      743.387037      807.198586   \n",
      "\n",
      "              gdpPercap_1987  gdpPercap_1992    ...       pop_1962  \\\n",
      "country                                         ...                  \n",
      "Algeria          5681.358539     5023.216647    ...     11000948.0   \n",
      "Angola           2430.208311     2627.845685    ...      4826015.0   \n",
      "Benin            1225.856010     1191.207681    ...      2151895.0   \n",
      "Botswana         6205.883850     7954.111645    ...       512764.0   \n",
      "Burkina Faso      912.063142      931.752773    ...      4919632.0   \n",
      "\n",
      "                pop_1967    pop_1972    pop_1977    pop_1982    pop_1987  \\\n",
      "country                                                                    \n",
      "Algeria       12760499.0  14760787.0  17152804.0  20033753.0  23254956.0   \n",
      "Angola         5247469.0   5894858.0   6162675.0   7016384.0   7874230.0   \n",
      "Benin          2427334.0   2761407.0   3168267.0   3641603.0   4243788.0   \n",
      "Botswana        553541.0    619351.0    781472.0    970347.0   1151184.0   \n",
      "Burkina Faso   5127935.0   5433886.0   5889574.0   6634596.0   7586551.0   \n",
      "\n",
      "                pop_1992    pop_1997  pop_2002  pop_2007  \n",
      "country                                                   \n",
      "Algeria       26298373.0  29072015.0  31287142  33333216  \n",
      "Angola         8735988.0   9875024.0  10866106  12420476  \n",
      "Benin          4981671.0   6066080.0   7026113   8078314  \n",
      "Botswana       1342614.0   1536536.0   1630347   1639131  \n",
      "Burkina Faso   8878303.0  10352843.0  12251209  14326203  \n",
      "\n",
      "[5 rows x 37 columns] \n",
      "\n",
      "\n",
      "gapminder_gdp_oceania.csv \n",
      "\n",
      "              gdpPercap_1952  gdpPercap_1957  gdpPercap_1962  gdpPercap_1967  \\\n",
      "country                                                                       \n",
      "Australia       10039.59564     10949.64959     12217.22686     14526.12465   \n",
      "New Zealand     10556.57566     12247.39532     13175.67800     14463.91893   \n",
      "\n",
      "             gdpPercap_1972  gdpPercap_1977  gdpPercap_1982  gdpPercap_1987  \\\n",
      "country                                                                       \n",
      "Australia       16788.62948     18334.19751     19477.00928     21888.88903   \n",
      "New Zealand     16046.03728     16233.71770     17632.41040     19007.19129   \n",
      "\n",
      "             gdpPercap_1992  gdpPercap_1997  gdpPercap_2002  gdpPercap_2007  \n",
      "country                                                                      \n",
      "Australia       23424.76683     26997.93657     30687.75473     34435.36744  \n",
      "New Zealand     18363.32494     21050.41377     23189.80135     25185.00911   \n",
      "\n",
      "\n",
      "gapminder_gdp_africa.csv \n",
      "\n",
      "               gdpPercap_1952  gdpPercap_1957  gdpPercap_1962  gdpPercap_1967  \\\n",
      "country                                                                        \n",
      "Algeria          2449.008185     3013.976023     2550.816880     3246.991771   \n",
      "Angola           3520.610273     3827.940465     4269.276742     5522.776375   \n",
      "Benin            1062.752200      959.601080      949.499064     1035.831411   \n",
      "Botswana          851.241141      918.232535      983.653976     1214.709294   \n",
      "Burkina Faso      543.255241      617.183465      722.512021      794.826560   \n",
      "\n",
      "              gdpPercap_1972  gdpPercap_1977  gdpPercap_1982  gdpPercap_1987  \\\n",
      "country                                                                        \n",
      "Algeria          4182.663766     4910.416756     5745.160213     5681.358539   \n",
      "Angola           5473.288005     3008.647355     2756.953672     2430.208311   \n",
      "Benin            1085.796879     1029.161251     1277.897616     1225.856010   \n",
      "Botswana         2263.611114     3214.857818     4551.142150     6205.883850   \n",
      "Burkina Faso      854.735976      743.387037      807.198586      912.063142   \n",
      "\n",
      "              gdpPercap_1992  gdpPercap_1997  gdpPercap_2002  gdpPercap_2007  \n",
      "country                                                                       \n",
      "Algeria          5023.216647     4797.295051     5288.040382     6223.367465  \n",
      "Angola           2627.845685     2277.140884     2773.287312     4797.231267  \n",
      "Benin            1191.207681     1232.975292     1372.877931     1441.284873  \n",
      "Botswana         7954.111645     8647.142313    11003.605080    12569.851770  \n",
      "Burkina Faso      931.752773      946.294962     1037.645221     1217.032994   \n",
      "\n",
      "\n",
      "gapminder_gdp_asia.csv \n",
      "\n",
      "              gdpPercap_1952  gdpPercap_1957  gdpPercap_1962  gdpPercap_1967  \\\n",
      "country                                                                       \n",
      "Afghanistan      779.445314      820.853030      853.100710      836.197138   \n",
      "Bahrain         9867.084765    11635.799450    12753.275140    14804.672700   \n",
      "Bangladesh       684.244172      661.637458      686.341554      721.186086   \n",
      "Cambodia         368.469286      434.038336      496.913648      523.432314   \n",
      "China            400.448611      575.987001      487.674018      612.705693   \n",
      "\n",
      "             gdpPercap_1972  gdpPercap_1977  gdpPercap_1982  gdpPercap_1987  \\\n",
      "country                                                                       \n",
      "Afghanistan      739.981106      786.113360      978.011439      852.395945   \n",
      "Bahrain        18268.658390    19340.101960    19211.147310    18524.024060   \n",
      "Bangladesh       630.233627      659.877232      676.981866      751.979403   \n",
      "Cambodia         421.624026      524.972183      624.475478      683.895573   \n",
      "China            676.900092      741.237470      962.421380     1378.904018   \n",
      "\n",
      "             gdpPercap_1992  gdpPercap_1997  gdpPercap_2002  gdpPercap_2007  \n",
      "country                                                                      \n",
      "Afghanistan      649.341395      635.341351      726.734055      974.580338  \n",
      "Bahrain        19035.579170    20292.016790    23403.559270    29796.048340  \n",
      "Bangladesh       837.810164      972.770035     1136.390430     1391.253792  \n",
      "Cambodia         682.303175      734.285170      896.226015     1713.778686  \n",
      "China           1655.784158     2289.234136     3119.280896     4959.114854   \n",
      "\n",
      "\n"
     ]
    }
   ],
   "source": [
    "for file in glob.glob('gap*.csv'):\n",
    "    dataframe=pd.read_csv(file,index_col='country')\n",
    "    print(file, '\\n\\n',dataframe.head(),'\\n\\n')"
   ]
  },
  {
   "cell_type": "code",
   "execution_count": 486,
   "metadata": {},
   "outputs": [
    {
     "name": "stdout",
     "output_type": "stream",
     "text": [
      "Filename\tMinimum\tMean\tMaxima\n",
      "gapminder_gdp_america\t1397.7171369999999\t4079.0625522000005\t13990.482080000002\n",
      "gapminder_gdp_europe\t973.5331947999999\t5661.0574347599995\t14734.23275\n",
      "gapminder_all\t298.8462121\t3725.2760457992963\t108382.3529\n",
      "gapminder_gdp_oceania\t10039.595640000001\t10298.08565\t10556.575659999999\n",
      "gapminder_gdp_africa\t298.8462121\t1252.5724658211539\t4725.295531000001\n",
      "gapminder_gdp_asia\t331.0\t5195.484004030303\t108382.3529\n"
     ]
    }
   ],
   "source": [
    "print('{}\\t{}\\t{}\\t{}'.format('Filename','Minimum','Mean','Maxima'))\n",
    "\n",
    "for file in glob.glob('gap*.csv'):\n",
    "    dataframe=pd.read_csv(file,index_col='country')\n",
    "    subset=dataframe.loc[:,\"gdpPercap_1952\"]\n",
    "    print('{}\\t{}\\t{}\\t{}'.format(file.strip('.csv'),subset.min(),subset.mean(),subset.max()))"
   ]
  },
  {
   "cell_type": "code",
   "execution_count": 534,
   "metadata": {},
   "outputs": [],
   "source": [
    "with open('loop_minTOmax.txt','w') as output:\n",
    "    output.write('{}\\t{}\\t{}\\t{}\\n'.format('Filename','Minimum','Mean','Maxima'))\n",
    "    for file in glob.glob('gap*.csv'):\n",
    "        dataframe=pd.read_csv(file,index_col='country')\n",
    "        subset=dataframe.loc[:,\"gdpPercap_1952\"]\n",
    "        output.write('{}\\t{}\\t{}\\t{}\\n'.format(file.strip('.csv'),subset.min(),subset.mean(),subset.max()))\n",
    "        \n",
    "output.close()"
   ]
  },
  {
   "cell_type": "code",
   "execution_count": 535,
   "metadata": {},
   "outputs": [
    {
     "name": "stdout",
     "output_type": "stream",
     "text": [
      "americasT_summ_stats.csv    gapminder_gdp_europe.csv\r\n",
      "americas_summ_stats.csv     gapminder_gdp_oceania.csv\r\n",
      "gapminder_all.csv           loop_minTOmax.txt\r\n",
      "gapminder_gdp_africa.csv    my_figure.png\r\n",
      "gapminder_gdp_americas.csv  oceania_summ_stats.csv\r\n",
      "gapminder_gdp_asia.csv\r\n"
     ]
    }
   ],
   "source": [
    "ls"
   ]
  },
  {
   "cell_type": "code",
   "execution_count": 536,
   "metadata": {},
   "outputs": [],
   "source": [
    "%%bash\n",
    "open ."
   ]
  },
  {
   "cell_type": "markdown",
   "metadata": {},
   "source": [
    "# 9. Functions"
   ]
  },
  {
   "cell_type": "code",
   "execution_count": 581,
   "metadata": {},
   "outputs": [],
   "source": [
    "def temp_converter(a, b):\n",
    "    if a == 'C':\n",
    "        fahr=9/5*b+32\n",
    "        print('Converting from Celsius to Fahrenheit')\n",
    "        print('{}C is {}F'.format(b,int(fahr)))\n",
    "    elif a == 'F':\n",
    "        celsius=(b-32)*5/9\n",
    "        print('Converting from Fahrenheit to Celsius')\n",
    "        print('{}F is {}C'.format(b,int(celsius)))"
   ]
  },
  {
   "cell_type": "code",
   "execution_count": 582,
   "metadata": {},
   "outputs": [
    {
     "name": "stdout",
     "output_type": "stream",
     "text": [
      "Converting from Celsius to Fahrenheit\n",
      "25C is 77F\n"
     ]
    }
   ],
   "source": [
    "temp_converter('C',25)"
   ]
  },
  {
   "cell_type": "code",
   "execution_count": 583,
   "metadata": {},
   "outputs": [
    {
     "name": "stdout",
     "output_type": "stream",
     "text": [
      "Converting from Fahrenheit to Celsius\n",
      "101F is 38C\n"
     ]
    }
   ],
   "source": [
    "temp_converter('F',101)"
   ]
  },
  {
   "cell_type": "code",
   "execution_count": null,
   "metadata": {},
   "outputs": [],
   "source": []
  }
 ],
 "metadata": {
  "kernelspec": {
   "display_name": "Python 3",
   "language": "python",
   "name": "python3"
  },
  "language_info": {
   "codemirror_mode": {
    "name": "ipython",
    "version": 3
   },
   "file_extension": ".py",
   "mimetype": "text/x-python",
   "name": "python",
   "nbconvert_exporter": "python",
   "pygments_lexer": "ipython3",
   "version": "3.6.7"
  }
 },
 "nbformat": 4,
 "nbformat_minor": 2
}
