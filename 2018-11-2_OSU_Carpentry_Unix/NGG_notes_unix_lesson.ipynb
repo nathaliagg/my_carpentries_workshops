{
 "cells": [
  {
   "cell_type": "markdown",
   "metadata": {},
   "source": [
    "# 02/11/2018\n",
    "\n",
    "## OSU Software Carpentry Workshop\n",
    "\n",
    "### Unix Shell - MORNING LESSON BY NGG"
   ]
  },
  {
   "cell_type": "markdown",
   "metadata": {},
   "source": [
    "**Topics to cover:**  \n",
    "\n",
    "1. Introduction to Shell  \n",
    "2. Navigating Directories   \n",
    "**Break**  \n",
    "3. Working with Files  \n",
    "4. Pipes and Filters  \n",
    "**Break**  \n",
    "5. Loops  \n",
    "6. Scripts  "
   ]
  },
  {
   "cell_type": "markdown",
   "metadata": {},
   "source": [
    "### 1. Introduction to Shell\n",
    "\n",
    "Slides."
   ]
  },
  {
   "cell_type": "markdown",
   "metadata": {},
   "source": [
    "### 2. Navigating Directories  \n",
    "\n",
    "Start with slides, then move to the terminal in local machine.\n",
    "\n",
    "**THE MOUSE DOES NOT WORK IN THE SHELL!!! USE ONLY YOUR KEYBOARD AND ARROW KEYS FROM NOW ON!!!**"
   ]
  },
  {
   "cell_type": "markdown",
   "metadata": {},
   "source": [
    "```\n",
    "[nathalia] $  hdjsfn\n",
    "-bash: hdjsfn: command not found\n",
    "```"
   ]
  },
  {
   "cell_type": "markdown",
   "metadata": {},
   "source": [
    "We have to type commands that the computer recognizes..."
   ]
  },
  {
   "cell_type": "markdown",
   "metadata": {},
   "source": [
    "```\n",
    "[nathalia] $  pwd\n",
    "/Users/grachetng  #HOME DIRECTORY.\n",
    "```"
   ]
  },
  {
   "cell_type": "markdown",
   "metadata": {},
   "source": [
    "<div class=\"alert alert-info\">\n",
    "\n",
    "**Note:** OUR FILESYSTEM IS DIFFERENT! What shows up on my screen will be different from what shows up on your screen, AND our paths to directories like the Desktop might be slight different too.\n",
    "\n",
    "</div> \n",
    "\n",
    "**In this part of the lesson, we'll learn how to navigate the filesystem. We will find out our current directory, change directories, list contents of the directory, and make new directory.**"
   ]
  },
  {
   "cell_type": "markdown",
   "metadata": {},
   "source": [
    "Let's change directory to our Desktop...\n",
    "\n",
    "But how do I know which path I should take to Desktop?"
   ]
  },
  {
   "cell_type": "markdown",
   "metadata": {},
   "source": [
    "```\n",
    "[nathalia] $  ls #LIST THE CONTENT OF YOUR CURRENT DIRECTORY\n",
    "(...)\n",
    "\n",
    "[nathalia] $  cd Desktop/ #MOST LIKELY YOUR DESKTOP DIRECTORY WILL BE INSIDE YOUR HOME DIRECTORY\n",
    "\n",
    "[nathalia] $  pwd #OUR CURRENT DIRECTORY CHANGED\n",
    "/Users/grachetng/Desktop\n",
    "\n",
    "[nathalia] $  ls\n",
    "(...)\n",
    "```"
   ]
  },
  {
   "cell_type": "markdown",
   "metadata": {},
   "source": [
    "`cd` allows us to move anywhere in the filesystem hierarchy (up, down, from side-to-side) by providing a path.  \n",
    "\n",
    "Remember that `Final_draft.doc` file that was in my Desktop/PhD/Dissertation ???"
   ]
  },
  {
   "cell_type": "markdown",
   "metadata": {},
   "source": [
    "```\n",
    "[nathalia] $  cd PhD/Dissertation/ #GOING DOWN IN THE HIERARCHY\n",
    "\n",
    "[nathalia] $  pwd\n",
    "/Users/grachetng/Desktop/PhD/Dissertation\n",
    "```"
   ]
  },
  {
   "cell_type": "markdown",
   "metadata": {},
   "source": [
    "`cd` takes a path, or a shortcut\n",
    "\n",
    "*Point out: relative vs absolute paths*\n",
    "\n",
    "~ represents HOME directory  \n",
    "../ represents PARENT directory  \n",
    "/ in the **beginning** of a path represents the ROOT directory\n",
    "\n",
    "#IF I WANT TO GO BACK TO HOME, THERE ARE A FEW OPTIONS (USE ONLY ONE)"
   ]
  },
  {
   "cell_type": "markdown",
   "metadata": {},
   "source": [
    "```\n",
    "[nathalia] $  cd  #GOING UP IN THE HIERARCHY\n",
    "[nathalia] $  pwd\n",
    "/Users/grachetng\n",
    "\n",
    "[nathalia] $  cd ~\n",
    "[nathalia] $  pwd\n",
    "/Users/grachetng\n",
    "\n",
    "[nathalia] $  cd ../../.. #3 PARENT DIRECTORIES DOWN FROM HOME\n",
    "[nathalia] $  pwd\n",
    "/Users/grachetng\n",
    "\n",
    "[nathalia] $  cd /Users/grachetng/\n",
    "[nathalia] $  pwd\n",
    "/Users/grachetng\n",
    "```"
   ]
  },
  {
   "cell_type": "markdown",
   "metadata": {},
   "source": [
    "I want to be in the Desktop."
   ]
  },
  {
   "cell_type": "markdown",
   "metadata": {},
   "source": [
    "```\n",
    "[nathalia] $  cd Desktop/\n",
    "\n",
    "[nathalia] $  pwd\n",
    "/Users/grachetng/Desktop\n",
    "\n",
    "[nathalia] $  ls\n",
    "(...)\n",
    "```"
   ]
  },
  {
   "cell_type": "markdown",
   "metadata": {},
   "source": [
    "`ls` list current directory contents. \n",
    "\n",
    "*Point out about options or flags*\n",
    "\n",
    "Depending on how much files you have gathered in you Desktop, or in any directory, you might want to customize `ls` so it can be easier for you to find your files or directory. We can customize `ls` by using `flags` or `options`.\n",
    "\n",
    "\n",
    "Notice that just typing `ls` I cannot recognize immediately what is a directory or a file. "
   ]
  },
  {
   "cell_type": "markdown",
   "metadata": {},
   "source": [
    "```\n",
    "[nathalia] $  ls\n",
    "2-11-2018_OSU_Carpentry_Workshop\tFigTree v1.4.3.dmg\t\t\tUntitled.pages\n",
    "Agronomy Journal\t\t\tJOBS\t\t\t\t\traxmlGUI_v1.5b1.dmg\n",
    "BIOSTAR Handbook releases\t\tPhD\t\t\t\t\t~$Moller.docx\n",
    "Colton_PLS\t\t\t\tPython_for_Biologists_super_bundle\t~$PCRs turf.xlsx\n",
    "```"
   ]
  },
  {
   "cell_type": "markdown",
   "metadata": {},
   "source": [
    "```\n",
    "[nathalia] $  ls -F\n",
    "2-11-2018_OSU_Carpentry_Workshop/\tFigTree v1.4.3.dmg\t\t\tUntitled.pages\n",
    "Agronomy Journal/\t\t\tJOBS/\t\t\t\t\traxmlGUI_v1.5b1.dmg\n",
    "BIOSTAR Handbook releases/\t\tPhD/\t\t\t\t\t~$Moller.docx\n",
    "Colton_PLS/\t\t\t\tPython_for_Biologists_super_bundle/\t~$PCRs turf.xlsx\n",
    "```"
   ]
  },
  {
   "cell_type": "markdown",
   "metadata": {},
   "source": [
    "*Point out that a / in the beginning of a name refers to the root directory, and a / in the end of a name refers to a directory*\n",
    "\n",
    "*Point out the usage of flags (command, space, dash, option), and nesting* "
   ]
  },
  {
   "cell_type": "markdown",
   "metadata": {},
   "source": [
    "```\n",
    "[nathalia] $  ls -lF\n",
    "total 44192\n",
    "drwxr-xr-x   6 grachetng  staff       192 Oct 31 12:15 2-11-2018_OSU_Carpentry_Workshop/\n",
    "drwxr-xr-x   5 grachetng  staff       160 Sep 25  2017 Agronomy Journal/\n",
    "drwxr-xr-x   5 grachetng  staff       160 Jun  3 13:36 BIOSTAR Handbook releases/\n",
    "drwxr-xr-x  12 grachetng  staff       384 Oct 30 14:33 Colton_PLS/\n",
    "-rw-r--r--@  1 grachetng  staff  11787328 Jan 19  2018 FigTree v1.4.3.dmg\n",
    "drwxr-xr-x   7 grachetng  staff       224 Oct 15 17:25 JOBS/\n",
    "drwxr-xr-x  41 grachetng  staff      1312 Oct 31 09:00 PhD/\n",
    "drwx------@ 10 grachetng  staff       320 Mar  8  2018 Python_for_Biologists_super_bundle/\n",
    "-rw-r--r--@  1 grachetng  staff    145724 Sep 18 16:48 Untitled.pages\n",
    "-rw-r--r--@  1 grachetng  staff  10231390 Feb  8  2018 raxmlGUI_v1.5b1.dmg\n",
    "-rw-r--r--@  1 grachetng  staff       162 Feb 28  2018 ~$Moller.docx\n",
    "-rw-r--r--@  1 grachetng  staff       171 Jul 16  2015 ~$PCRs turf.xlsx\n",
    "\n",
    "# NOW NOTICE THE CHANGES BETWEEN THESE OPTIONS\n",
    "\n",
    "[nathalia] $  ls -lhtrF\n",
    "total 44192\n",
    "-rw-r--r--@  1 grachetng  staff   171B Jul 16  2015 ~$PCRs turf.xlsx\n",
    "-rw-r--r--@  1 grachetng  staff   162B Feb 28  2018 ~$Moller.docx\n",
    "-rw-r--r--@  1 grachetng  staff   9.8M Feb  8  2018 raxmlGUI_v1.5b1.dmg\n",
    "-rw-r--r--@  1 grachetng  staff   142K Sep 18 16:48 Untitled.pages\n",
    "drwx------@ 10 grachetng  staff   320B Mar  8  2018 Python_for_Biologists_super_bundle/\n",
    "drwxr-xr-x  41 grachetng  staff   1.3K Oct 31 09:00 PhD/\n",
    "drwxr-xr-x   7 grachetng  staff   224B Oct 15 17:25 JOBS/\n",
    "-rw-r--r--@  1 grachetng  staff    11M Jan 19  2018 FigTree v1.4.3.dmg\n",
    "drwxr-xr-x  12 grachetng  staff   384B Oct 30 14:33 Colton_PLS/\n",
    "drwxr-xr-x   5 grachetng  staff   160B Jun  3 13:36 BIOSTAR Handbook releases/\n",
    "drwxr-xr-x   5 grachetng  staff   160B Sep 25  2017 Agronomy Journal/\n",
    "drwxr-xr-x   6 grachetng  staff   192B Oct 31 12:15 2-11-2018_OSU_Carpentry_Workshop/\n",
    "\n",
    "```"
   ]
  },
  {
   "cell_type": "markdown",
   "metadata": {},
   "source": [
    "How do I know all the options I can use?\n",
    "\n",
    "Let's check the manual pages of these commands! Use `man` to open up the manual page of a command."
   ]
  },
  {
   "cell_type": "markdown",
   "metadata": {},
   "source": [
    "```\n",
    "[nathalia] $  man ls\n",
    "```"
   ]
  },
  {
   "cell_type": "markdown",
   "metadata": {},
   "source": [
    "- POP-UP WINDON WILL APPEAR WITH THE MANUAL PAGE\n",
    "\n",
    "- IN A MANUAL PAGE YOU WILL FIND:  \n",
    "    NAME - THE NAME OF THE COMMAND    \n",
    "    SYNOPSIS - HOW TO USE THE COMMAND, FLAGS AND INPUT FILES  \n",
    "    DESCRIPTION - DESCRIPTION OF THE FLAGS AND OUTPUTS PRODUCED BY EACH ONE.  \n",
    "    \n",
    "\n",
    "- SCROW UP-AND-DOWN (IN MAC THE MOUSE WORKS FOR SCROLLING... IN WINDOWS?!)\n",
    "\n",
    "\n",
    "- NOTICE THE PROMPT IS GONE... "
   ]
  },
  {
   "cell_type": "markdown",
   "metadata": {},
   "source": [
    "**TELL ME** what does `l`, `h`, `r`, and `F` mean.\n",
    "\n",
    "**TELL ME** is `F` the same as `f`? #lowercase and uppercase letters are considered different characters for the computer.\n",
    "\n",
    "All commands we will use today have a manual page. **I want to make you aware of the manual pages, and how to find information in it for your troubleshooting. I recommend exploring these man pages in your own time... before going to bed, morning read, when you are watching Netflix...**\n",
    "\n",
    "PRESS `q` to exit the manual page.\n",
    "\n",
    "You can also find help by the folllowing flag:"
   ]
  },
  {
   "cell_type": "markdown",
   "metadata": {},
   "source": [
    "```\n",
    "[nathalia] $  ls --help\n",
    "ls: illegal option -- -\n",
    "usage: ls [-ABCFGHLOPRSTUWabcdefghiklmnopqrstuwx1] [file ...]\n",
    "\n",
    "[nathalia] $  cd --help\n",
    "-bash: cd: --: invalid option\n",
    "cd: usage: cd [-L|-P] [dir]\n",
    "```"
   ]
  },
  {
   "cell_type": "markdown",
   "metadata": {},
   "source": [
    "Also, Google has all the answers for your questions... It'll be become your best friend liking or not! "
   ]
  },
  {
   "cell_type": "markdown",
   "metadata": {},
   "source": [
    "Make sure you are still on Desktop/\n",
    "\n",
    "**We will be working with real data set soon, so I want to make sure from now on we are working from the same relative path (this will avoid confusion with pathnames). **\n",
    "\n",
    "Let's create a new directory to keep our future data set.   \n",
    "\n",
    "\n",
    "Let's use `mkdir` command to make a new directory."
   ]
  },
  {
   "cell_type": "markdown",
   "metadata": {},
   "source": [
    "```\n",
    "[nathalia] $  mkdir unix_workshop_2.11.2018\n",
    "```"
   ]
  },
  {
   "cell_type": "markdown",
   "metadata": {},
   "source": [
    "**CAUTION ON NAMING directories and files:**\n",
    "\n",
    "- use a name that is informative and meaningful to you\n",
    "- use a new name (avoid overwritting of files)\n",
    "- use letters and numbers\n",
    "- don't use spaces because spaces are used to break arguments\n",
    "- don't start the name with a dash - because commands treat dash as flags\n",
    "- use underscores `_`, period `.`, and dash `-` if to separate words within a name"
   ]
  },
  {
   "cell_type": "markdown",
   "metadata": {},
   "source": [
    "```\n",
    "[nathalia] $  cd unix_workshop_2.11.2018/\n",
    "\n",
    "[nathalia] $  pwd\n",
    "/Users/grachetng/Desktop/unix_workshop_2.11.2018\n",
    "```"
   ]
  },
  {
   "cell_type": "markdown",
   "metadata": {},
   "source": [
    "# BREAK, MAYBE"
   ]
  },
  {
   "cell_type": "markdown",
   "metadata": {},
   "source": [
    "### 3. Working with Files "
   ]
  },
  {
   "cell_type": "markdown",
   "metadata": {},
   "source": [
    "BRIEFLY review topics covered before break.\n",
    "\n",
    "Now, let's start working with files. **In this part, we'll learn how to create a file, copy, rename, move and delete files.**"
   ]
  },
  {
   "cell_type": "markdown",
   "metadata": {},
   "source": [
    "```\n",
    "[nathalia] $  pwd\n",
    "/Users/grachetng/Desktop/unix_workshop_2.11.2018\n",
    "\n",
    "#CHANGE DIR IF NECESSARY\n",
    "```"
   ]
  },
  {
   "cell_type": "markdown",
   "metadata": {},
   "source": [
    "Before we start working with our real data, we should practice a few common commands to create and manipulate files. \n",
    "\n",
    "Let's create a new text file so we can practice these commands.\n",
    "\n",
    "We'll use `nano` as out text editor."
   ]
  },
  {
   "cell_type": "markdown",
   "metadata": {},
   "source": [
    "```\n",
    "[nathalia] $  nano test.txt\n",
    "\n",
    "#POP-UP WINDOWN\n",
    "\n",
    "#NOTICE: \n",
    "EMPHASIZE THAT MOUSE DOES NOT WORK HERE! USE ARROW KEYS!\n",
    "CURSOR IN THE MIDDLE OF THE WINDOWN\n",
    "UPPER BAR - FILE NAME\n",
    "LOWER BAR - OPTIONS TO EXIT, SAVE, ETC.\n",
    "\n",
    "#TYPE:\n",
    "I AM LEARNING UNIX COMMANDS TODAY. IT IS SOOOOO MUCH FUN!!!! I LOVE IT!!!\n",
    "\n",
    "#SAVE AND EXIT, \n",
    "control+x\n",
    "\n",
    "#NOTICE THE MESSAGE IN THE LOWER BAR\n",
    "press Y\n",
    "press Return/Enter to save with the same input name\n",
    "\n",
    "[nathalia] $  ls\n",
    "test.txt\n",
    "```"
   ]
  },
  {
   "cell_type": "markdown",
   "metadata": {},
   "source": [
    "Check the contents of the file using `less` and `cat`. "
   ]
  },
  {
   "cell_type": "markdown",
   "metadata": {},
   "source": [
    "```\n",
    "[nathalia] $  cat test.txt \n",
    "I AM LEARNING UNIX COMMANDS TODAY. IT IS SOOOOO MUCH FUN!!!! I LOVE IT!!!\n",
    "\n",
    "[nathalia] $  less test.txt \n",
    "\n",
    "#Pop-up window\n",
    "#press q to exit \n",
    "```"
   ]
  },
  {
   "cell_type": "markdown",
   "metadata": {},
   "source": [
    "**TELL ME** What's the difference between them? When should you use one over the other?"
   ]
  },
  {
   "cell_type": "markdown",
   "metadata": {},
   "source": [
    "If we are not satisfied with the text... let's go back and make changes!"
   ]
  },
  {
   "cell_type": "markdown",
   "metadata": {},
   "source": [
    "```\n",
    "[nathalia] $  nano test.txt \n",
    "\n",
    "#MAKE A CHANGE:\n",
    "I AM LEARNING UNIX COMMANDS TODAY. IT IS FUN!!!! I LIKE IT!!!\n",
    "\n",
    "#SAVE AND EXIT\n",
    "```"
   ]
  },
  {
   "cell_type": "markdown",
   "metadata": {},
   "source": [
    "```\n",
    "[nathalia] $  cat test.txt \n",
    "I AM LEARNING UNIX COMMANDS TODAY. IT IS FUN!!!! I LIKE IT!!!\n",
    "```"
   ]
  },
  {
   "cell_type": "markdown",
   "metadata": {},
   "source": [
    "Let's make a copy of this file to keep as an original that we won't modify. \n",
    "\n",
    "We'll use `cp` to copy a file, and this command requires two inputs.\n",
    "\n",
    "`cp input1 input2`\n",
    "\n",
    "input1 is the file we want to copy  \n",
    "input2 is the name of the copy\n",
    "\n",
    "Must keep the order of these inputs."
   ]
  },
  {
   "cell_type": "markdown",
   "metadata": {},
   "source": [
    "```\n",
    "[nathalia] $  cp test.txt test_original.txt\n",
    "\n",
    "[nathalia] $  ls\n",
    "test.txt\t\ttest_original.txt\n",
    "```"
   ]
  },
  {
   "cell_type": "markdown",
   "metadata": {},
   "source": [
    "Let's create a new directory to keep our original files in"
   ]
  },
  {
   "cell_type": "markdown",
   "metadata": {},
   "source": [
    "```\n",
    "[nathalia] $  ls -F\n",
    "originals/\t\ttest.txt\t\ttest_original.txt\n",
    "```"
   ]
  },
  {
   "cell_type": "markdown",
   "metadata": {},
   "source": [
    "Let's move test_original into this new directory using `mv` command.\n",
    "\n",
    "`mv` also requires two inputs:\n",
    "\n",
    "`mv input1 input2`\n",
    "\n",
    "input1 the file we want to move  \n",
    "input2 the path to where we want to move it into"
   ]
  },
  {
   "cell_type": "markdown",
   "metadata": {},
   "source": [
    "```\n",
    "[nathalia] $  mv test_original.txt originals/\n",
    "```"
   ]
  },
  {
   "cell_type": "markdown",
   "metadata": {},
   "source": [
    "To see if the file got moved, we can `cd` and `ls` into `originals/`, or simply use `ls` and provide the relative path to `originals/`.\n",
    "\n",
    "So `ls` allows us to see the contents of directories that are not immediately in our filesystem hierarchy without changing our current directory."
   ]
  },
  {
   "cell_type": "markdown",
   "metadata": {},
   "source": [
    "```\n",
    "[nathalia] $ ls #do not provide a path, lists contents of the current directory\n",
    "originals\ttest.txt\n",
    "\n",
    "[nathalia] $  ls originals/ #if provide a path, lists contents of the directory in the path\n",
    "test_original.txt\n",
    "\n",
    "[nathalia] $  pwd # we didn't change directories\n",
    "/Users/grachetng/Desktop/unix_workshop_2.11.2018\n",
    "```"
   ]
  },
  {
   "cell_type": "markdown",
   "metadata": {},
   "source": [
    "`mv` is a flexible command. We can use to move or to rename files or directories.\n",
    "\n",
    "How `mv` will perform these tasks depend on our input.\n",
    "\n",
    "To move a file, we did:\n",
    "\n",
    "`mv input1 input2`\n",
    "\n",
    "input1 was the name of the file we want to move  \n",
    "input2 the path to where we want to move it into\n",
    "\n",
    "\n",
    "Now, to rename a file, we'll do the same, but the input 2 will be the a new file name:\n",
    "\n",
    "`mv input1 input2`\n",
    "\n",
    "input1 is the name of the file we want to rename  \n",
    "input2 is the new file name\n",
    "\n",
    "Again, must keep the order of the inputs. \n",
    "\n",
    "**Important to use a NEW name otherwise the computer will OVERWRITE the file and not even give you a warning message!!!**"
   ]
  },
  {
   "cell_type": "markdown",
   "metadata": {},
   "source": [
    "```\n",
    "[nathalia] $  mv test.txt learning_unix.txt\n",
    "\n",
    "[nathalia] $  ls\n",
    "learning_unix.txt\toriginals\n",
    "```"
   ]
  },
  {
   "cell_type": "markdown",
   "metadata": {},
   "source": [
    "We can rename a file that is not in our current directory by proving a path to the file as input 1 and the same path but adding a new name in the end as input2."
   ]
  },
  {
   "cell_type": "markdown",
   "metadata": {},
   "source": [
    "```\n",
    "[nathalia] $  mv originals/test_original.txt originals/learning_unix.txt\n",
    "\n",
    "[nathalia] $  ls originals/\n",
    "learning_unix.txt\n",
    "```"
   ]
  },
  {
   "cell_type": "markdown",
   "metadata": {},
   "source": [
    "**IMPORTANT: IF YOU WANT TO RENAME A FILE THAT IS NOT IN YOUR CURRENT DIRECTORY, MAKE SURE YOU PROVIDE THE PATH in INPUT2... OTHERWISE WHAT WILL HAPPEN?!?!?!?!?!?!**"
   ]
  },
  {
   "cell_type": "markdown",
   "metadata": {},
   "source": [
    "```\n",
    "[nathalia] $  mv originals/learning_unix.txt unix.txt\n",
    "[nathalia] $  ls\n",
    "learning_unix.txt\toriginals\t\tunix.txt\n",
    "[nathalia] $  ls originals/\n",
    "\n",
    "#IT MOVES THE FILE TO THE CURRENT DIRECTORY WITH THE NAME YOU PUT IN INPUT2\n",
    "```"
   ]
  },
  {
   "cell_type": "markdown",
   "metadata": {},
   "source": [
    "**IMPORTANT: you can move a file and rename it at the same time. You provide the filename in input1, and the path and new file name in input2**"
   ]
  },
  {
   "cell_type": "markdown",
   "metadata": {},
   "source": [
    "```\n",
    "[nathalia] $  mv unix.txt originals/learning_unix.txt\n",
    "\n",
    "[nathalia] $  ls\n",
    "learning_unix.txt\toriginals\n",
    "\n",
    "[nathalia] $  ls originals/\n",
    "learning_unix.txt\n",
    "```"
   ]
  },
  {
   "cell_type": "markdown",
   "metadata": {},
   "source": [
    "**Emphasis on `mv` to move files, and `mv` to rename files before moving on to the next command**"
   ]
  },
  {
   "cell_type": "markdown",
   "metadata": {},
   "source": [
    "Now, we'll learn how to remove files and directories, but before I demonstrate how to do so... a word of caution!\n",
    "\n",
    "**DELETING FILES AND DIRECTORIES FROM THE SHELL IS FOREVER AND THERE AIN'T NO GOING BACK!!!** THERE IS NOT A 'TRASH' IN THE SHELL LIKE OUR COMPUTER HAS TO RECOVER DELETED FILES. \n",
    "\n",
    "**BE CAREFUL!!** DON'T GO TO DOWN DELETING THINGS THAT YOU ARE NOT USING NOW, BECAUSE IF YOU NEED THEM LATER THERE IS NO WAY TO RECOVER."
   ]
  },
  {
   "cell_type": "markdown",
   "metadata": {},
   "source": [
    "To remove a file, use `rm`"
   ]
  },
  {
   "cell_type": "markdown",
   "metadata": {},
   "source": [
    "```\n",
    "[nathalia] $  rm learning_unix.txt \n",
    "\n",
    "#if you don't believe me, go check your trash folder to see if the file is there...\n",
    "\n",
    "# you can use the flag -i to request a confirmation before deleting...\n",
    "\n",
    "it would look like this: [nathalia] $  rm -i learning_unix.txt \n",
    "\n",
    "[nathalia] $  ls\n",
    "originals\n",
    "```"
   ]
  },
  {
   "cell_type": "markdown",
   "metadata": {},
   "source": [
    "To remove a directory and its contents, use `rm` with `-r` flag"
   ]
  },
  {
   "cell_type": "markdown",
   "metadata": {},
   "source": [
    "```\n",
    "[nathalia] $  rm -r originals/ \n",
    "\n",
    "[nathalia] $  ls\n",
    "[nathalia] $  \n",
    "\n",
    "# # you also can use the flag -i to request a confirmation before deleting...\n",
    "```"
   ]
  },
  {
   "cell_type": "markdown",
   "metadata": {},
   "source": [
    "So far, we learned a few basic file and directory manipulations so far. \n",
    "\n",
    "Now we'll learn more useful and powerful commands that work on data sets. To demonstrate these commands, it will be much clearler to use a real data set. Let's download the data from the command line using `wget` and the URL to the file.\n",
    "\n",
    "**Copy the URL in ETHERPAD**\n",
    "\n",
    "When you press Return/Enter, things will be printed to the screen..."
   ]
  },
  {
   "cell_type": "markdown",
   "metadata": {},
   "source": [
    "```\n",
    "[nathalia] $  wget https://swcarpentry.github.io/shell-novice/data/data-shell.zip\n",
    "--2018-10-31 14:36:05--  https://swcarpentry.github.io/shell-novice/data/data-shell.zip\n",
    "Resolving swcarpentry.github.io (swcarpentry.github.io)... 185.199.111.153, 185.199.110.153, 185.199.108.153, ...\n",
    "Connecting to swcarpentry.github.io (swcarpentry.github.io)|185.199.111.153|:443... connected.\n",
    "HTTP request sent, awaiting response... 200 OK\n",
    "Length: 579150 (566K) [application/zip]\n",
    "Saving to: ‘data-shell.zip’\n",
    "\n",
    "data-shell.zip                     100%[=============================================================>] 565.58K   600KB/s    in 0.9s    \n",
    "\n",
    "2018-10-31 14:36:07 (600 KB/s) - ‘data-shell.zip’ saved [579150/579150]\n",
    "\n",
    "```"
   ]
  },
  {
   "cell_type": "markdown",
   "metadata": {},
   "source": [
    "Notice the `.zip` extension of the file, which means the file is compressed, and we need to decompress it before anything."
   ]
  },
  {
   "cell_type": "markdown",
   "metadata": {},
   "source": [
    "```\n",
    "[nathalia] $  tar -xf data-shell.zip \n",
    "\n",
    "[nathalia] $  ls\n",
    "data-shell\tdata-shell.zip\n",
    "\n",
    "#GUNZIP didn't work.\n",
    "```"
   ]
  },
  {
   "cell_type": "markdown",
   "metadata": {},
   "source": [
    "**Explain the data set**\n",
    "\n",
    "This is a data set from Nelle Nemo, who is a marine biologist. She just returned from a 6-month expedition to the North Pacific Gyre where she did a survey of the gelatinous marina life in the Great Pacific Garbage Patch."
   ]
  },
  {
   "cell_type": "markdown",
   "metadata": {},
   "source": [
    "**GROUP EXERCISE** \n",
    "\n",
    "Give 2 mins for letting the group explore the filesystem on their own."
   ]
  },
  {
   "cell_type": "markdown",
   "metadata": {},
   "source": [
    "```\n",
    "[nathalia] $  ls -R #this will help you explore the filesystem at once\n",
    "(...) \n",
    "```"
   ]
  },
  {
   "cell_type": "markdown",
   "metadata": {},
   "source": [
    "Let me give you more info about the data and what we'll focus for the next part of the lesson this morning.\n",
    "\n",
    "Nelle collected 1520 samples in the Great Pacific Garbage Patch. She returned to land, and processed the samples in the laboratory. She ran each sample through an protein assay machine, which will take about 2 weeks to finish... So far, she has 17 text files with the relative abundance of 300 proteins in each one.\n",
    "\n",
    "The files are in `data-shell/north-pacific-gyre/2012-07-03`.\n",
    "\n",
    "**What she needs to do is:**\n",
    "\n",
    "- to finish processing the samples.  \n",
    "- In the meantime, perform a preliminary statistical analysis on these 17 files using the script `goostats`, which her advisor wrote.\n",
    "\n",
    "_Maybe you are thinking... the analysis might take what 1 min to complete, entering a command and pressing enter 17 times, checking instagram in between... Nahhh that isn't too bad... but then..._\n",
    "\n",
    "- Write a statisticl report to her advisor with ALL samples within 2 weeks because after that her advisor is going on sabbatical leave. \n",
    "\n",
    "_Now... it's entering command pressing enter and waiting 1 min 1520 times... No thanks!!_\n",
    "\n",
    "**Now we'll help Nelle create a pipeline to:**\n",
    "\n",
    "- **A) check her files prior to analysis**\n",
    "- **B) run commands to perform the statistical analysis over multiple files in one task**\n",
    "- **C) write a script that will automate the statistical analysis on all 1520 files after her assay finishes.**"
   ]
  },
  {
   "cell_type": "markdown",
   "metadata": {},
   "source": [
    "### 4. Pipes and Filters \n",
    "\n",
    "So, first of all we need to make sure each file produced by the machine has 300 entries. We'll use pipe and filters to do so."
   ]
  },
  {
   "cell_type": "markdown",
   "metadata": {},
   "source": [
    "```\n",
    "[nathalia] $  cd data-shell/north-pacific-gyre/2012-07-03/\n",
    "\n",
    "[nathalia] $  ls\n",
    "NENE01729A.txt\tNENE01751A.txt\tNENE01843A.txt\tNENE01978A.txt\tNENE02040A.txt\tNENE02043A.txt\tgoostats\n",
    "NENE01729B.txt\tNENE01751B.txt\tNENE01843B.txt\tNENE01978B.txt\tNENE02040B.txt\tNENE02043B.txt\n",
    "NENE01736A.txt\tNENE01812A.txt\tNENE01971Z.txt\tNENE02018B.txt\tNENE02040Z.txt\tgoodiff\n",
    "\n",
    "[nathalia] $  less NENE01729A.txt #focus on the first file.\n",
    "# quick look to see what's inside...\n",
    "```"
   ]
  },
  {
   "cell_type": "markdown",
   "metadata": {},
   "source": [
    "Use the command `wc` to display the number of lines, words, and bytes contained in each input file:"
   ]
  },
  {
   "cell_type": "markdown",
   "metadata": {},
   "source": [
    "```\n",
    "[nathalia] $  wc NENE01729A.txt \n",
    "     300     300    4406 NENE01729A.txt\n",
    "     \n",
    "   # lines   words   bytes\n",
    "   ```"
   ]
  },
  {
   "cell_type": "markdown",
   "metadata": {},
   "source": [
    "We are only interested in number of lines, so let's pass `-l` to only display number of lines"
   ]
  },
  {
   "cell_type": "markdown",
   "metadata": {},
   "source": [
    "```\n",
    "[nathalia] $  wc -l NENE01729A.txt \n",
    "     300 NENE01729A.txt\n",
    "     ```"
   ]
  },
  {
   "cell_type": "markdown",
   "metadata": {},
   "source": [
    "We must check all 17 files... doing this over 16 more times, does not sound too bad.. but remember that later she'll need to do it 1519 times... so let's do this in one line of commands.\n",
    "\n",
    "Notice that all files produced by the machine have a pattern:  \n",
    "- start with NENE  \n",
    "- followed by numbers and one letter  \n",
    "- end with `.txt` file extension  \n",
    "\n",
    "We can take advantage of that by using a wildcard `*` which is a feature of the shell.\n",
    "\n",
    "The wildcard `*` matches zero or more characters. When the shell sees a wildcard, it expands the wildcard to create a list of matching filenames before running the command that was asked for."
   ]
  },
  {
   "cell_type": "markdown",
   "metadata": {},
   "source": [
    "```\n",
    "[nathalia] $  wc -l NENE*\n",
    "     300 NENE01729A.txt\n",
    "     300 NENE01729B.txt\n",
    "     300 NENE01736A.txt\n",
    "     300 NENE01751A.txt\n",
    "     300 NENE01751B.txt\n",
    "     300 NENE01812A.txt\n",
    "     300 NENE01843A.txt\n",
    "     300 NENE01843B.txt\n",
    "     300 NENE01971Z.txt\n",
    "     300 NENE01978A.txt\n",
    "     300 NENE01978B.txt\n",
    "     240 NENE02018B.txt\n",
    "     300 NENE02040A.txt\n",
    "     300 NENE02040B.txt\n",
    "     300 NENE02040Z.txt\n",
    "     300 NENE02043A.txt\n",
    "     300 NENE02043B.txt\n",
    "    5040 total\n",
    "\n",
    "# now we have the total number of lines of each file. \n",
    "\n",
    "Notice one file has 240 lines, perhaps should double check what happened during the processing of that sample...\n",
    "```"
   ]
  },
  {
   "cell_type": "markdown",
   "metadata": {},
   "source": [
    "We'll now create a pipe to sort the output of line numbers. The command to sort is `sort`, and we'll pass the flag `-n` that will sort the output numerically by arithmetic value.\n",
    "\n",
    "A pipe is characterized by a vertical bar `|` between two commands.\n",
    "\n",
    "A pipe tells the shell to get the output of the command on the left and use as input to the command on the right."
   ]
  },
  {
   "cell_type": "markdown",
   "metadata": {},
   "source": [
    "```\n",
    "#TIP!!!! USE THE UP-ARROW KEY TO RETRIEVE THE HISTORY OF COMMANDS\n",
    "\n",
    "[nathalia] $  wc -l NENE* | sort -n\n",
    "     240 NENE02018B.txt\n",
    "     300 NENE01729A.txt\n",
    "     300 NENE01729B.txt\n",
    "     300 NENE01736A.txt\n",
    "     300 NENE01751A.txt\n",
    "     300 NENE01751B.txt\n",
    "     300 NENE01812A.txt\n",
    "     300 NENE01843A.txt\n",
    "     300 NENE01843B.txt\n",
    "     300 NENE01971Z.txt\n",
    "     300 NENE01978A.txt\n",
    "     300 NENE01978B.txt\n",
    "     300 NENE02040A.txt\n",
    "     300 NENE02040B.txt\n",
    "     300 NENE02040Z.txt\n",
    "     300 NENE02043A.txt\n",
    "     300 NENE02043B.txt\n",
    "    5040 total\n",
    "\n",
    "# NOTICE THAT NOW THE OUTPUT IS SORTED!! YEY!\n",
    "```"
   ]
  },
  {
   "cell_type": "markdown",
   "metadata": {},
   "source": [
    "It's important to Nelle to keep a record of these information we are retrieving...\n",
    "\n",
    "Let me explain to you something the computer does here in very simple words...\n",
    "\n",
    "`wc` is a command  \n",
    "`-l` is a flag passed to wc  \n",
    "`NENE*` is a standard input or stdin that is being passed to `wc -l`\n",
    "\n",
    "Everytime you type a command and you add a filename or a path, you are passing a standard input to that command.\n",
    "\n",
    "Remember that REPL principle of the shell? The computer will process your task and give you an output to the screen. When an output is being generated on your screen, that is called standard output or stdout.\n",
    "\n",
    "Standard output is not stored anywhere, the output is just printed to the screen. Because Nelle needs to keep a record of the steps she is taking and the results we are retrieving for later, we have to save the output of this command.\n",
    "\n",
    "To save standard output we have to REDIRECT standard output into a text file. It's simple, we'll type the same command and add `>` and give it a new filename. The computer will create a file with the name we provide, and write the output to the file. Nothing will be printed to the screen, but the contents of the file will be saved for future reference."
   ]
  },
  {
   "cell_type": "markdown",
   "metadata": {},
   "source": [
    "```\n",
    "[nathalia] $  wc -l NENE* | sort -n > line_numbers_02-11-2018.txt\n",
    "\n",
    "[nathalia] $  less line_numbers_02-11-2018.txt \n",
    "```"
   ]
  },
  {
   "cell_type": "markdown",
   "metadata": {},
   "source": [
    "Nelle also told me that she collected samples in two locations, and that in the file names these locations are A and B. \n",
    "\n",
    "Then I was like... _Nelle, some files have a Z on their name..._ And then she explained that by convention in her lab, 'Z' indicates samples with missing information. Another student took a depth of each sample, but for some reasone depth wasn't recorded for these samples, that's why they have a 'Z' in their name. She also said these samples should be excluded from the analysis...\n",
    "\n",
    "**what do we do? DELETE THE FILES?**\n",
    "\n",
    "Oh gosh, no... neve delete stuff specially if it's data collected...\n",
    "\n",
    "Let's modify own pipe to only look at files that have A or B in their name."
   ]
  },
  {
   "cell_type": "markdown",
   "metadata": {},
   "source": [
    "```\n",
    "Remember to use the up-arrow key!!!!!!!!!!!!!!!!!!!!!!\n",
    "\n",
    "[nathalia] $  wc -l NENE*[AB].txt | sort -n # don't redirect stdout just now, let's see if the pipe will work\n",
    "     240 NENE02018B.txt\n",
    "     300 NENE01729A.txt\n",
    "     300 NENE01729B.txt\n",
    "     300 NENE01736A.txt\n",
    "     300 NENE01751A.txt\n",
    "     300 NENE01751B.txt\n",
    "     300 NENE01812A.txt\n",
    "     300 NENE01843A.txt\n",
    "     300 NENE01843B.txt\n",
    "     300 NENE01978A.txt\n",
    "     300 NENE01978B.txt\n",
    "     300 NENE02040A.txt\n",
    "     300 NENE02040B.txt\n",
    "     300 NENE02043A.txt\n",
    "     300 NENE02043B.txt\n",
    "    4440 total\n",
    "    \n",
    "# now, redirect stdout to overwrite that file we created\n",
    "\n",
    "[nathalia] $  wc -l NENE*[AB].txt | sort -n > line_numbers_02-11-2018.txt \n",
    "\n",
    "#inspect with less...\n",
    "```"
   ]
  },
  {
   "cell_type": "markdown",
   "metadata": {},
   "source": [
    "With more files being added, Nelle can run this pipe, save the stdout and change the dates in the file name to keep a record of the line numbers of each file overtime...\n",
    "\n",
    "With more files being added, inspecting might be a challenge...\n",
    "\n",
    "Let's do a quick pipe inspection"
   ]
  },
  {
   "cell_type": "markdown",
   "metadata": {},
   "source": [
    "```\n",
    "[nathalia] $  cat line_numbers_02-11-2018.txt | head -n 5 | less\n",
    "\n",
    "# cat \n",
    "# head prints the first lines in a file, with -n flag prints the number provided\n",
    "# less opens that window with the first 5 lines\n",
    "\n",
    "#tail is the opposite of head... test it out!\n",
    "```"
   ]
  },
  {
   "cell_type": "markdown",
   "metadata": {},
   "source": [
    "# BREAK"
   ]
  },
  {
   "cell_type": "markdown",
   "metadata": {},
   "source": [
    "### 5. Loops \n",
    "\n",
    "Now we'll help Nelle write command that will perform the stastistical analysis on her files. We'll build a `for loop` for that."
   ]
  },
  {
   "cell_type": "markdown",
   "metadata": {},
   "source": [
    "**What's a for loop? A loop is an iteration statement that will be repeatedly executed.  Execute a command repetitively. It helps in the automation of tasks, reduces amount of typing **\n",
    "\n",
    "In this case, we'll use a for loop to run the statistical analysis on each file, one at a time. But we'll write one block of code that will run the analysis on all 15 files.\n",
    "\n",
    "This is a basic for loop syntax:\n",
    "\n",
    "```\n",
    "for VARIABLE in SOMEWHERE;  \n",
    "> do command1;  \n",
    "> command2;  \n",
    "> commandN;  \n",
    "> done  \n",
    "```\n",
    "\n",
    "or,\n",
    "```\n",
    "$ for VARIABLE in SOMEWHERE; do command1; command2; commandN; done\n",
    "```\n",
    "\n",
    "VARIABLE is an arbitrary name that you choose.  \n",
    "SOMEWHERE can be a file or a directory.  \n",
    "INDENTATION.  \n",
    "`>` prompt change = indicates that shell knows there are more commands to be entered\n",
    "\n",
    "**IMPORTANT: What is a ‘VARIABLE’?***\n",
    "\n",
    "A variable is simply a box, which you create, to place values into it. A more technical definition is: a character string that you assign a value. The value could be text, number, filename, path, etc. \n",
    "\n",
    "**You can assing more than one type of value to a variable.**\n",
    "\n",
    "Don’t use !, \\* or - in variable names because these characters have special meaning for unix...\n",
    "\n",
    "**You call a variable you defined by using `$` in front of the variable name.**\n",
    "\n",
    "This is how you define a variable:\n",
    "\n",
    "```\n",
    "$ variable_name=variable_value\n",
    "$ words=\"one two three\"\n",
    "$ echo $words\n",
    "one two three\n",
    "$ words=\"flower sun moon and me\"\n",
    "$ echo $words\n",
    "flower sun moon and me\n",
    "```\n",
    "\n",
    "The syntax of a for loop in plain English:\n",
    "```\n",
    "$ for variable in collection; do things with variable; done\n",
    "```\n",
    "\n",
    "A for loop in action:\n",
    "```\n",
    "$ for character in $words; do echo $character; done\n",
    "flower\n",
    "sun\n",
    "moon\n",
    "and\n",
    "me\n",
    "\n",
    "$ for char in $words; do echo $char; done\n",
    "flower\n",
    "sun\n",
    "moon\n",
    "and \n",
    "me\n",
    "```"
   ]
  },
  {
   "cell_type": "markdown",
   "metadata": {},
   "source": [
    "\n",
    "```\n",
    "[nathalia] $  for file in NENE*[AB].txt; \n",
    "> do echo $file;\n",
    "> done\n",
    "NENE01729A.txt\n",
    "NENE01729B.txt\n",
    "NENE01736A.txt\n",
    "NENE01751A.txt\n",
    "NENE01751B.txt\n",
    "NENE01812A.txt\n",
    "NENE01843A.txt\n",
    "NENE01843B.txt\n",
    "NENE01978A.txt\n",
    "NENE01978B.txt\n",
    "NENE02018B.txt\n",
    "NENE02040A.txt\n",
    "NENE02040B.txt\n",
    "NENE02043A.txt\n",
    "NENE02043B.txt\n",
    "```\n",
    "\n",
    "A loop does many tasks with one command block... or does many mistakes if the block contains typos...\n",
    "A good way to check is by using `echo` commands.\n",
    "\n",
    "\n",
    "\n",
    "So, this part of the block `do echo $file stats-$file` will be the statistics, we'll remove echo and insert a command to run goostast. \n",
    "\n",
    "**DRY RUN**\n",
    "Run the goostat script on one file before running it in the loop.\n",
    "\n",
    "**How will we ran goostats?!** `goostats` is a shell script, and we'll run it in this way:\n",
    "\n",
    "```\n",
    "[nathalia] $  bash goostats \n",
    "goodstats file1 file2\n",
    "call goostats with two arguments\n",
    "```\n",
    "\n",
    "The message is the usage of the script.\n",
    "\n",
    "We have to add two arguments: \n",
    "- `file1` is the file we have\n",
    "- `file2 is the name of the output or results of the statistical analysis.\n",
    "\n",
    "Now, let's try:\n",
    "```\n",
    "[nathalia] $  bash goostats NENE01729A.txt stats-NENE01729A.txt\n",
    "\n",
    "[nathalia] $  ls\n",
    "NENE01729A.txt\t\t\tNENE01843A.txt\t\t\tNENE02040A.txt\t\t\tgoostats\n",
    "NENE01729B.txt\t\t\tNENE01843B.txt\t\t\tNENE02040B.txt\t\t\tline_numbers_02-11-2018.txt\n",
    "NENE01736A.txt\t\t\tNENE01971Z.txt\t\t\tNENE02040Z.txt\t\t\tstats-NENE01729A.txt\n",
    "NENE01751A.txt\t\t\tNENE01978A.txt\t\t\tNENE02043A.txt\n",
    "NENE01751B.txt\t\t\tNENE01978B.txt\t\t\tNENE02043B.txt\n",
    "NENE01812A.txt\t\t\tNENE02018B.txt\t\t\tgoodiff\n",
    "\n",
    "[nathalia] $  less stats-NENE01729A.txt \n",
    "```\n",
    "\n",
    "Cool! Noticed that the computer worked for a few seconds, and then returned the prompt?!\n",
    "\n",
    "So let's do a Dry Run again adding the file2 to our for loop, like so:\n",
    "\n",
    "```\n",
    "[nathalia] $  for file in NENE*[AB].txt;  do echo $file stats-$file;done\n",
    "NENE01729A.txt stats-NENE01729A.txt\n",
    "NENE01729B.txt stats-NENE01729B.txt\n",
    "NENE01736A.txt stats-NENE01736A.txt\n",
    "NENE01751A.txt stats-NENE01751A.txt\n",
    "NENE01751B.txt stats-NENE01751B.txt\n",
    "NENE01812A.txt stats-NENE01812A.txt\n",
    "NENE01843A.txt stats-NENE01843A.txt\n",
    "NENE01843B.txt stats-NENE01843B.txt\n",
    "NENE01978A.txt stats-NENE01978A.txt\n",
    "NENE01978B.txt stats-NENE01978B.txt\n",
    "NENE02018B.txt stats-NENE02018B.txt\n",
    "NENE02040A.txt stats-NENE02040A.txt\n",
    "NENE02040B.txt stats-NENE02040B.txt\n",
    "NENE02043A.txt stats-NENE02043A.txt\n",
    "NENE02043B.txt stats-NENE02043B.txt\n",
    "```\n",
    "\n",
    "Now, we are ready to build the complete for loop:\n",
    "\n",
    "```\n",
    "[nathalia] $  for file in NENE*[AB].txt;  do bash goostats $file stats-$file; done\n",
    "```\n",
    "Where is the prompt?! Is it analysing anything?!\n",
    "Yes, it is...\n",
    "\n",
    "-press control+c to kill the command.\n",
    "\n",
    "```\n",
    "^C\n",
    "[nathalia] $  ls\n",
    "NENE01729A.txt\t\t\tNENE01843B.txt\t\t\tNENE02040Z.txt\t\t\tstats-NENE01729B.txt\n",
    "NENE01729B.txt\t\t\tNENE01971Z.txt\t\t\tNENE02043A.txt\t\t\tstats-NENE01736A.txt\n",
    "NENE01736A.txt\t\t\tNENE01978A.txt\t\t\tNENE02043B.txt\t\t\tstats-NENE01751A.txt\n",
    "NENE01751A.txt\t\t\tNENE01978B.txt\t\t\tgoodiff\t\t\t\tstats-NENE01751B.txt\n",
    "NENE01751B.txt\t\t\tNENE02018B.txt\t\t\tgoostats\n",
    "NENE01812A.txt\t\t\tNENE02040A.txt\t\t\tline_numbers_02-11-2018.txt\n",
    "NENE01843A.txt\t\t\tNENE02040B.txt\t\t\tstats-NENE01729A.txt\n",
    "```\n",
    "\n",
    "Yeah, so it is working. But it would be nice to which file it is analyzing instead of having nothing being printed to the screen... We can easily add that to the script with `echo` commands:\n",
    "\n",
    "```\n",
    "[nathalia] $  for file in NENE*[AB].txt;  do echo \"Analyzing $file\"; bash goostats $file stats-$file; echo \"Wrote stats-$file\" ;done\n",
    "Analyzing NENE01729A.txt\n",
    "Wrote stats-NENE01729A.txt\n",
    "Analyzing NENE01729B.txt\n",
    "Wrote stats-NENE01729B.txt\n",
    "Analyzing NENE01736A.txt\n",
    "Wrote stats-NENE01736A.txt\n",
    "Analyzing NENE01751A.txt\n",
    "Wrote stats-NENE01751A.txt\n",
    "Analyzing NENE01751B.txt\n",
    "Wrote stats-NENE01751B.txt\n",
    "Analyzing NENE01812A.txt\n",
    "Wrote stats-NENE01812A.txt\n",
    "Analyzing NENE01843A.txt\n",
    "Wrote stats-NENE01843A.txt\n",
    "Analyzing NENE01843B.txt\n",
    "Wrote stats-NENE01843B.txt\n",
    "Analyzing NENE01978A.txt\n",
    "Wrote stats-NENE01978A.txt\n",
    "Analyzing NENE01978B.txt\n",
    "Wrote stats-NENE01978B.txt\n",
    "Analyzing NENE02018B.txt\n",
    "Wrote stats-NENE02018B.txt\n",
    "Analyzing NENE02040A.txt\n",
    "Wrote stats-NENE02040A.txt\n",
    "Analyzing NENE02040B.txt\n",
    "Wrote stats-NENE02040B.txt\n",
    "Analyzing NENE02043A.txt\n",
    "Wrote stats-NENE02043A.txt\n",
    "Analyzing NENE02043B.txt\n",
    "Wrote stats-NENE02043B.txt\n",
    "\n",
    "[nathalia] $  ls\n",
    "NENE01729A.txt\t\t\tNENE01978A.txt\t\t\tgoostats\t\t\tstats-NENE01843B.txt\n",
    "NENE01729B.txt\t\t\tNENE01978B.txt\t\t\tline_numbers_02-11-2018.txt\tstats-NENE01978A.txt\n",
    "NENE01736A.txt\t\t\tNENE02018B.txt\t\t\tstats-NENE01729A.txt\t\tstats-NENE01978B.txt\n",
    "NENE01751A.txt\t\t\tNENE02040A.txt\t\t\tstats-NENE01729B.txt\t\tstats-NENE02018B.txt\n",
    "NENE01751B.txt\t\t\tNENE02040B.txt\t\t\tstats-NENE01736A.txt\t\tstats-NENE02040A.txt\n",
    "NENE01812A.txt\t\t\tNENE02040Z.txt\t\t\tstats-NENE01751A.txt\t\tstats-NENE02040B.txt\n",
    "NENE01843A.txt\t\t\tNENE02043A.txt\t\t\tstats-NENE01751B.txt\t\tstats-NENE02043A.txt\n",
    "NENE01843B.txt\t\t\tNENE02043B.txt\t\t\tstats-NENE01812A.txt\t\tstats-NENE02043B.txt\n",
    "NENE01971Z.txt\t\t\tgoodiff\t\t\t\tstats-NENE01843A.txt\n",
    "\n",
    "```\n",
    "\n"
   ]
  },
  {
   "cell_type": "markdown",
   "metadata": {},
   "source": [
    "### 6. Shell scripts\n",
    "\n",
    "Now, that we built our code and we know it's running and producing the statistics that we want, we can write our code into a shell script.\n",
    "\n",
    "Advantages of a script: make analysis more reproducible, easier to re-analyze later."
   ]
  },
  {
   "cell_type": "markdown",
   "metadata": {},
   "source": [
    "```\n",
    "[nathalia] $  nano do-stats.sh\n",
    "\n",
    "\n",
    "[nathalia] $  cat do-stats.sh \n",
    "for file in NENE*[AB].txt;  do echo \"Analyzing $file\"; bash goostats $file stats-$file; echo \"Wrote stats-$file\"; done\n",
    "\n",
    "\n",
    "[nathalia] $  bash do-stats.sh \n",
    "Analyzing NENE01729A.txt\n",
    "Wrote stats-NENE01729A.txt\n",
    "Analyzing NENE01729B.txt\n",
    "Wrote stats-NENE01729B.txt\n",
    "Analyzing NENE01736A.txt\n",
    "Wrote stats-NENE01736A.txt\n",
    "Analyzing NENE01751A.txt\n",
    "Wrote stats-NENE01751A.txt\n",
    "Analyzing NENE01751B.txt\n",
    "Wrote stats-NENE01751B.txt\n",
    "Analyzing NENE01812A.txt\n",
    "Wrote stats-NENE01812A.txt\n",
    "Analyzing NENE01843A.txt\n",
    "Wrote stats-NENE01843A.txt\n",
    "Analyzing NENE01843B.txt\n",
    "Wrote stats-NENE01843B.txt\n",
    "Analyzing NENE01978A.txt\n",
    "Wrote stats-NENE01978A.txt\n",
    "Analyzing NENE01978B.txt\n",
    "Wrote stats-NENE01978B.txt\n",
    "Analyzing NENE02018B.txt\n",
    "Wrote stats-NENE02018B.txt\n",
    "Analyzing NENE02040A.txt\n",
    "Wrote stats-NENE02040A.txt\n",
    "Analyzing NENE02040B.txt\n",
    "Wrote stats-NENE02040B.txt\n",
    "Analyzing NENE02043A.txt\n",
    "Wrote stats-NENE02043A.txt\n",
    "Analyzing NENE02043B.txt\n",
    "Wrote stats-NENE02043B.txt\n",
    "\n",
    "```"
   ]
  },
  {
   "cell_type": "markdown",
   "metadata": {},
   "source": [
    "GREAT!!!\n",
    "\n",
    "Advantages: the scripts will take the right files = avoiding the ones that have Z in their name\n",
    "\n",
    "But there is a disadvantage: if she decides to analyze other data that do not follow the name pattern, the script won't work. We can make an adaptation to work with any file pattern we want."
   ]
  },
  {
   "cell_type": "markdown",
   "metadata": {},
   "source": [
    "`\"$@\"` is a special variable which means **All of the command-line arguments to the shell script** \n",
    "\n",
    "\n",
    "```\n",
    "[nathalia] $  nano do-stats.sh \n",
    "\n",
    "[nathalia] $  cat do-stats.sh \n",
    "for file in \"$@\";  do echo \"Analyzing $file\"; bash goostats $file stats-$file; echo \"Wrote stats-$file\"; done\n",
    "\n",
    "[nathalia] $  bash do-stats.sh NENE*[AB].txt\n",
    "Analyzing NENE01729A.txt\n",
    "Wrote stats-NENE01729A.txt\n",
    "Analyzing NENE01729B.txt\n",
    "Wrote stats-NENE01729B.txt\n",
    "Analyzing NENE01736A.txt\n",
    "Wrote stats-NENE01736A.txt\n",
    "Analyzing NENE01751A.txt\n",
    "Wrote stats-NENE01751A.txt\n",
    "Analyzing NENE01751B.txt\n",
    "Wrote stats-NENE01751B.txt\n",
    "Analyzing NENE01812A.txt\n",
    "Wrote stats-NENE01812A.txt\n",
    "Analyzing NENE01843A.txt\n",
    "Wrote stats-NENE01843A.txt\n",
    "Analyzing NENE01843B.txt\n",
    "Wrote stats-NENE01843B.txt\n",
    "Analyzing NENE01978A.txt\n",
    "Wrote stats-NENE01978A.txt\n",
    "Analyzing NENE01978B.txt\n",
    "Wrote stats-NENE01978B.txt\n",
    "Analyzing NENE02018B.txt\n",
    "Wrote stats-NENE02018B.txt\n",
    "Analyzing NENE02040A.txt\n",
    "Wrote stats-NENE02040A.txt\n",
    "Analyzing NENE02040B.txt\n",
    "Wrote stats-NENE02040B.txt\n",
    "Analyzing NENE02043A.txt\n",
    "Wrote stats-NENE02043A.txt\n",
    "Analyzing NENE02043B.txt\n",
    "Wrote stats-NENE02043B.txt\n",
    "\n",
    "```\n",
    "\n",
    "Now, let's add a usage information about the script:\n",
    "\n",
    "```\n",
    "[nathalia] $  nano do-stats.sh \n",
    "\n",
    "#Script to calculate stats for protein data\n",
    "#For Nelle\n",
    "\n",
    "if [[ $# -eq 0 ]]\n",
    "  then\n",
    "    echo \"usage: $ bash do-stats [pattern]\"\n",
    "    echo \"[pattern] e.g. NENE*[AB].txt\"\n",
    "    exit 1\n",
    "fi\n",
    "\n",
    "for file in \"$@\";  do echo \"Analyzing $file\"; bash goostats $file stats-$file; echo \"Wrote stats-$file\"; done\n",
    "\n",
    "\n",
    "[nathalia] $  bash do-stats.sh \n",
    "usage: $ bash do-stats [pattern]\n",
    "[pattern] e.g. NENE*[AB].txt\n",
    "\n",
    "[nathalia] $  bash do-stats.sh NENE*[AB].txt\n",
    "Analyzing NENE01729A.txt\n",
    "Wrote stats-NENE01729A.txt\n",
    "Analyzing NENE01729B.txt\n",
    "Wrote stats-NENE01729B.txt\n",
    "Analyzing NENE01736A.txt\n",
    "Wrote stats-NENE01736A.txt\n",
    "Analyzing NENE01751A.txt\n",
    "Wrote stats-NENE01751A.txt\n",
    "Analyzing NENE01751B.txt\n",
    "Wrote stats-NENE01751B.txt\n",
    "Analyzing NENE01812A.txt\n",
    "Wrote stats-NENE01812A.txt\n",
    "Analyzing NENE01843A.txt\n",
    "Wrote stats-NENE01843A.txt\n",
    "Analyzing NENE01843B.txt\n",
    "Wrote stats-NENE01843B.txt\n",
    "Analyzing NENE01978A.txt\n",
    "Wrote stats-NENE01978A.txt\n",
    "Analyzing NENE01978B.txt\n",
    "Wrote stats-NENE01978B.txt\n",
    "Analyzing NENE02018B.txt\n",
    "Wrote stats-NENE02018B.txt\n",
    "Analyzing NENE02040A.txt\n",
    "Wrote stats-NENE02040A.txt\n",
    "Analyzing NENE02040B.txt\n",
    "Wrote stats-NENE02040B.txt\n",
    "Analyzing NENE02043A.txt\n",
    "Wrote stats-NENE02043A.txt\n",
    "Analyzing NENE02043B.txt\n",
    "Wrote stats-NENE02043B.txt\n",
    "\n",
    "```"
   ]
  },
  {
   "cell_type": "markdown",
   "metadata": {},
   "source": [
    "**Go back to slides and summarize lesson!**"
   ]
  }
 ],
 "metadata": {
  "kernelspec": {
   "display_name": "Python 3",
   "language": "python",
   "name": "python3"
  },
  "language_info": {
   "codemirror_mode": {
    "name": "ipython",
    "version": 3
   },
   "file_extension": ".py",
   "mimetype": "text/x-python",
   "name": "python",
   "nbconvert_exporter": "python",
   "pygments_lexer": "ipython3",
   "version": "3.6.1"
  }
 },
 "nbformat": 4,
 "nbformat_minor": 2
}
